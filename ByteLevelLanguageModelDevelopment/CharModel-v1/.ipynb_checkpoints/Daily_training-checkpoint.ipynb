{
 "cells": [
  {
   "cell_type": "markdown",
   "metadata": {},
   "source": [
    "# Daily"
   ]
  },
  {
   "cell_type": "markdown",
   "metadata": {},
   "source": [
    "We can specify devices for storage and calculation, such as the CPU or GPU. By default, data are created in the main memory and then use the CPU for calculations.\n",
    "\n",
    "The deep learning framework requires all input data for calculation to be on the same device, be it CPU or the same GPU.\n",
    "\n",
    "You can lose significant performance by moving data without care. A typical mistake is as follows: computing the loss for every minibatch on the GPU and reporting it back to the user on the command line (or logging it in a NumPy ndarray) will trigger a global interpreter lock which stalls all GPUs. It is much better to allocate memory for logging inside the GPU and only move larger logs.\n",
    "\n",
    "-  for Tensorflow-2: You can just use LSTM with no activation function and it will automatically use the CuDNN version\n",
    "- Gradient clipping is a technique to prevent exploding gradients in very deep networks, usually in recurrent neural networks. ... This prevents any gradient to have norm greater than the threshold and thus the gradients are clipped."
   ]
  },
  {
   "cell_type": "code",
   "execution_count": 2,
   "metadata": {},
   "outputs": [],
   "source": [
    "import tensorflow as tf\n",
    "import tensorflow.keras\n",
    "from tensorflow.keras.utils import to_categorical, plot_model\n",
    "from tensorflow.keras.preprocessing.sequence import pad_sequences\n",
    "from tensorflow.keras.models import Sequential\n",
    "from tensorflow.keras.layers import LSTM, Dense, GRU, Embedding, Bidirectional, TimeDistributed, BatchNormalization, Flatten\n",
    "from tensorflow.keras.callbacks import EarlyStopping, ModelCheckpoint, TensorBoard\n",
    "from tensorflow.keras.regularizers import l2\n",
    "from tqdm import tqdm\n",
    "# from keras_tqdm import TQDMNotebookCallback\n",
    "import tensorflow.keras.backend as K\n",
    "import os\n",
    "import time\n",
    "import pandas as pd\n",
    "import numpy as np\n",
    "import psutil\n",
    "# Ignore harmless warnings\n",
    "import warnings\n",
    "warnings.filterwarnings(\"ignore\")\n",
    "import matplotlib.pyplot as plt\n",
    "import seaborn as sns\n",
    "sns.set_style('darkgrid')\n",
    "%matplotlib inline"
   ]
  },
  {
   "cell_type": "code",
   "execution_count": 3,
   "metadata": {},
   "outputs": [
    {
     "name": "stdout",
     "output_type": "stream",
     "text": [
      "2.3.1\n",
      "2.4.0\n"
     ]
    }
   ],
   "source": [
    "# tf.debugging.set_log_device_placement(True)\n",
    "print(tf.__version__)\n",
    "print(tensorflow.keras.__version__)"
   ]
  },
  {
   "cell_type": "code",
   "execution_count": 4,
   "metadata": {},
   "outputs": [
    {
     "name": "stdout",
     "output_type": "stream",
     "text": [
      "Using GPU\n"
     ]
    }
   ],
   "source": [
    "gpu_devices = tf.config.list_physical_devices('GPU')\n",
    "\n",
    "if gpu_devices:\n",
    "    print('Using GPU')\n",
    "    for gpu in gpu_devices[0:2]:\n",
    "        tf.config.experimental.set_memory_growth(gpu, True)\n",
    "else:\n",
    "    print('Using CPU')\n",
    "    tf.config.optimizer.set_jit(True)\n",
    "    print('used: {}% free: {:.2f}GB'.format(psutil.virtual_memory().percent, float(psutil.virtual_memory().free)/1024**3))#@ "
   ]
  },
  {
   "cell_type": "code",
   "execution_count": 5,
   "metadata": {},
   "outputs": [
    {
     "name": "stdout",
     "output_type": "stream",
     "text": [
      "8 Physical GPU, 2 Logical GPUs\n"
     ]
    }
   ],
   "source": [
    "gpus = tf.config.list_physical_devices('GPU')\n",
    "if gpus:\n",
    "  # Restrict TensorFlow to only use some GPUs\n",
    "    try:\n",
    "        tf.config.experimental.set_visible_devices(gpus[0:2], 'GPU')\n",
    "        logical_gpus = tf.config.experimental.list_logical_devices('GPU')\n",
    "        print(len(gpus), \"Physical GPU,\", len(logical_gpus), \"Logical GPUs\")\n",
    "    except RuntimeError as e:\n",
    "    # Visible devices must be set at program startup\n",
    "        print(e)"
   ]
  },
  {
   "cell_type": "code",
   "execution_count": 6,
   "metadata": {},
   "outputs": [
    {
     "data": {
      "text/plain": [
       "[LogicalDevice(name='/device:GPU:0', device_type='GPU'),\n",
       " LogicalDevice(name='/device:GPU:1', device_type='GPU')]"
      ]
     },
     "execution_count": 6,
     "metadata": {},
     "output_type": "execute_result"
    }
   ],
   "source": [
    "tf.config.experimental.list_logical_devices('GPU')"
   ]
  },
  {
   "cell_type": "code",
   "execution_count": 7,
   "metadata": {},
   "outputs": [
    {
     "name": "stdout",
     "output_type": "stream",
     "text": [
      "used: 1.8% free: 364.02GB\n"
     ]
    }
   ],
   "source": [
    "import psutil\n",
    "print('used: {}% free: {:.2f}GB'.format(psutil.virtual_memory().percent, float(psutil.virtual_memory().free)/1024**3))"
   ]
  },
  {
   "cell_type": "code",
   "execution_count": 8,
   "metadata": {},
   "outputs": [],
   "source": [
    "# Prepare News headlines\n",
    "def clean_text(df, column):\n",
    "    import re \n",
    "    #(\"\".join(headline)).strip()\n",
    "    headline = []\n",
    "    for i in df[column].apply(lambda x: '<s>'+x+'<\\s>'):\n",
    "        headline.append(i)\n",
    "    return headline\n",
    "\n",
    "#get sequences of equal length to ensure <\\s is at the end\n",
    "def extract_end(char_seq, seq_len):\n",
    "    if len(char_seq) > seq_len:\n",
    "        char_seq = char_seq[:seq_len] #char_seq[-seq_len:]\n",
    "    return char_seq\n",
    "\n",
    "# Encode to integers by using ascii 128\n",
    "def encode2bytes(text):\n",
    "    #text = tf.strings.unicode_split(text, 'UTF-8').to_list()\n",
    "    final_list = []\n",
    "    for sent in text:\n",
    "        temp_list = []\n",
    "        for char in sent:\n",
    "            if ord(char) < 128 :\n",
    "                temp_list.append(ord(char))\n",
    "        final_list.append(temp_list)\n",
    "    return final_list\n",
    "\n",
    "def split_X_y(text):\n",
    "    X = []\n",
    "    y = []\n",
    "    for i in text:\n",
    "        X.append(i[0:-1])\n",
    "        y.append(i[1:])\n",
    "    return X,y"
   ]
  },
  {
   "cell_type": "code",
   "execution_count": 9,
   "metadata": {},
   "outputs": [],
   "source": [
    "# fix random seed for reproducibility\n",
    "K.clear_session()\n",
    "tf.keras.backend.clear_session()\n",
    "np.random.seed(42)\n",
    "tf.random.set_seed(42)"
   ]
  },
  {
   "cell_type": "code",
   "execution_count": 10,
   "metadata": {},
   "outputs": [],
   "source": [
    "idx = pd.IndexSlice\n",
    "max_length = 600"
   ]
  },
  {
   "cell_type": "code",
   "execution_count": 11,
   "metadata": {},
   "outputs": [
    {
     "name": "stdout",
     "output_type": "stream",
     "text": [
      "['/model_data/15_min', '/model_data/daily', '/model_data/hourly']\n",
      "[1. 0.]\n"
     ]
    }
   ],
   "source": [
    "# Get data\n",
    "with pd.HDFStore('../model_data.h5', mode = 'r') as data:\n",
    "    print(data.keys())\n",
    "    data = data['model_data/daily']\n",
    "    data.headline = data.headline.apply(lambda x: extract_end(x, max_length))\n",
    "    data['headline'] = data.headline.apply(lambda x: '<s>' + x + '<\\s')\n",
    "    X = data.loc[:,'headline']\n",
    "    y = data.loc[:, 'label']\n",
    "    y[y<0] = 0\n",
    "    print(y.unique())"
   ]
  },
  {
   "cell_type": "code",
   "execution_count": 12,
   "metadata": {},
   "outputs": [
    {
     "data": {
      "text/html": [
       "<div>\n",
       "<style scoped>\n",
       "    .dataframe tbody tr th:only-of-type {\n",
       "        vertical-align: middle;\n",
       "    }\n",
       "\n",
       "    .dataframe tbody tr th {\n",
       "        vertical-align: top;\n",
       "    }\n",
       "\n",
       "    .dataframe thead th {\n",
       "        text-align: right;\n",
       "    }\n",
       "</style>\n",
       "<table border=\"1\" class=\"dataframe\">\n",
       "  <thead>\n",
       "    <tr style=\"text-align: right;\">\n",
       "      <th></th>\n",
       "      <th></th>\n",
       "      <th>headline</th>\n",
       "      <th>Open</th>\n",
       "      <th>Close</th>\n",
       "      <th>returns</th>\n",
       "      <th>label</th>\n",
       "    </tr>\n",
       "    <tr>\n",
       "      <th>ticker</th>\n",
       "      <th>time</th>\n",
       "      <th></th>\n",
       "      <th></th>\n",
       "      <th></th>\n",
       "      <th></th>\n",
       "      <th></th>\n",
       "    </tr>\n",
       "  </thead>\n",
       "  <tbody>\n",
       "    <tr>\n",
       "      <th rowspan=\"5\" valign=\"top\">A</th>\n",
       "      <th>2019-07-11</th>\n",
       "      <td>&lt;s&gt;Delivery Of Ionization Auxiliary Equipment ...</td>\n",
       "      <td>1146.160034</td>\n",
       "      <td>1144.079956</td>\n",
       "      <td>0.001101</td>\n",
       "      <td>1.0</td>\n",
       "    </tr>\n",
       "    <tr>\n",
       "      <th>2019-07-12</th>\n",
       "      <td>&lt;s&gt;Epa Do Agilent 7250 Gc/q-tof Mass Spectrome...</td>\n",
       "      <td>1142.930054</td>\n",
       "      <td>1145.339966</td>\n",
       "      <td>0.004514</td>\n",
       "      <td>1.0</td>\n",
       "    </tr>\n",
       "    <tr>\n",
       "      <th>2019-07-16</th>\n",
       "      <td>&lt;s&gt;AGILENT TECHNOLOGIES INC &lt;A.N&gt;: EVERCORE IS...</td>\n",
       "      <td>1146.729980</td>\n",
       "      <td>1153.459961</td>\n",
       "      <td>-0.005826</td>\n",
       "      <td>0.0</td>\n",
       "    </tr>\n",
       "    <tr>\n",
       "      <th>2019-07-17</th>\n",
       "      <td>&lt;s&gt;Procurement Of Spares And Consumables For T...</td>\n",
       "      <td>1150.920044</td>\n",
       "      <td>1146.739990</td>\n",
       "      <td>0.000436</td>\n",
       "      <td>1.0</td>\n",
       "    </tr>\n",
       "    <tr>\n",
       "      <th>2019-07-18</th>\n",
       "      <td>&lt;s&gt;NYSE ORDER IMBALANCE &lt;A.N&gt; 68900.0 SHARES O...</td>\n",
       "      <td>1142.000000</td>\n",
       "      <td>1147.239990</td>\n",
       "      <td>-0.013676</td>\n",
       "      <td>0.0</td>\n",
       "    </tr>\n",
       "    <tr>\n",
       "      <th rowspan=\"5\" valign=\"top\">ZTS</th>\n",
       "      <th>2020-09-28</th>\n",
       "      <td>&lt;s&gt;NYSE ORDER IMBALANCE &lt;ZTS.N&gt; 59715.0 SHARES...</td>\n",
       "      <td>162.380005</td>\n",
       "      <td>161.320007</td>\n",
       "      <td>0.007191</td>\n",
       "      <td>1.0</td>\n",
       "    </tr>\n",
       "    <tr>\n",
       "      <th>2020-09-30</th>\n",
       "      <td>&lt;s&gt;Zoetis to Host Webcast and Conference Call ...</td>\n",
       "      <td>162.919998</td>\n",
       "      <td>165.369995</td>\n",
       "      <td>-0.008103</td>\n",
       "      <td>0.0</td>\n",
       "    </tr>\n",
       "    <tr>\n",
       "      <th>2020-10-07</th>\n",
       "      <td>&lt;s&gt;Sachem Head takes $1.2 bln position in Elan...</td>\n",
       "      <td>163.350006</td>\n",
       "      <td>159.910004</td>\n",
       "      <td>0.020386</td>\n",
       "      <td>1.0</td>\n",
       "    </tr>\n",
       "    <tr>\n",
       "      <th>2020-10-09</th>\n",
       "      <td>&lt;s&gt;NYSE ORDER IMBALANCE &lt;ZTS.N&gt; 230640.0 SHARE...</td>\n",
       "      <td>163.979996</td>\n",
       "      <td>165.429993</td>\n",
       "      <td>0.018860</td>\n",
       "      <td>1.0</td>\n",
       "    </tr>\n",
       "    <tr>\n",
       "      <th>2020-10-12</th>\n",
       "      <td>&lt;s&gt;ZOETIS INC &lt;ZTS.N&gt;: CREDIT SUISSE RAISES PR...</td>\n",
       "      <td>167.080002</td>\n",
       "      <td>168.550003</td>\n",
       "      <td>-0.019163</td>\n",
       "      <td>0.0</td>\n",
       "    </tr>\n",
       "  </tbody>\n",
       "</table>\n",
       "</div>"
      ],
      "text/plain": [
       "                                                            headline  \\\n",
       "ticker time                                                            \n",
       "A      2019-07-11  <s>Delivery Of Ionization Auxiliary Equipment ...   \n",
       "       2019-07-12  <s>Epa Do Agilent 7250 Gc/q-tof Mass Spectrome...   \n",
       "       2019-07-16  <s>AGILENT TECHNOLOGIES INC <A.N>: EVERCORE IS...   \n",
       "       2019-07-17  <s>Procurement Of Spares And Consumables For T...   \n",
       "       2019-07-18  <s>NYSE ORDER IMBALANCE <A.N> 68900.0 SHARES O...   \n",
       "ZTS    2020-09-28  <s>NYSE ORDER IMBALANCE <ZTS.N> 59715.0 SHARES...   \n",
       "       2020-09-30  <s>Zoetis to Host Webcast and Conference Call ...   \n",
       "       2020-10-07  <s>Sachem Head takes $1.2 bln position in Elan...   \n",
       "       2020-10-09  <s>NYSE ORDER IMBALANCE <ZTS.N> 230640.0 SHARE...   \n",
       "       2020-10-12  <s>ZOETIS INC <ZTS.N>: CREDIT SUISSE RAISES PR...   \n",
       "\n",
       "                          Open        Close   returns  label  \n",
       "ticker time                                                   \n",
       "A      2019-07-11  1146.160034  1144.079956  0.001101    1.0  \n",
       "       2019-07-12  1142.930054  1145.339966  0.004514    1.0  \n",
       "       2019-07-16  1146.729980  1153.459961 -0.005826    0.0  \n",
       "       2019-07-17  1150.920044  1146.739990  0.000436    1.0  \n",
       "       2019-07-18  1142.000000  1147.239990 -0.013676    0.0  \n",
       "ZTS    2020-09-28   162.380005   161.320007  0.007191    1.0  \n",
       "       2020-09-30   162.919998   165.369995 -0.008103    0.0  \n",
       "       2020-10-07   163.350006   159.910004  0.020386    1.0  \n",
       "       2020-10-09   163.979996   165.429993  0.018860    1.0  \n",
       "       2020-10-12   167.080002   168.550003 -0.019163    0.0  "
      ]
     },
     "execution_count": 12,
     "metadata": {},
     "output_type": "execute_result"
    }
   ],
   "source": [
    "data.head().append(data.tail())"
   ]
  },
  {
   "cell_type": "code",
   "execution_count": 13,
   "metadata": {},
   "outputs": [
    {
     "name": "stdout",
     "output_type": "stream",
     "text": [
      "<class 'pandas.core.frame.DataFrame'>\n",
      "MultiIndex: 110905 entries, ('A', Timestamp('2019-07-11 00:00:00')) to ('ZTS', Timestamp('2020-10-12 00:00:00'))\n",
      "Data columns (total 5 columns):\n",
      " #   Column    Non-Null Count   Dtype  \n",
      "---  ------    --------------   -----  \n",
      " 0   headline  110905 non-null  object \n",
      " 1   Open      110905 non-null  float64\n",
      " 2   Close     110905 non-null  float64\n",
      " 3   returns   110905 non-null  float64\n",
      " 4   label     110905 non-null  float64\n",
      "dtypes: float64(4), object(1)\n",
      "memory usage: 4.7+ MB\n"
     ]
    }
   ],
   "source": [
    "data.info()"
   ]
  },
  {
   "cell_type": "code",
   "execution_count": 14,
   "metadata": {},
   "outputs": [
    {
     "data": {
      "text/html": [
       "<div>\n",
       "<style scoped>\n",
       "    .dataframe tbody tr th:only-of-type {\n",
       "        vertical-align: middle;\n",
       "    }\n",
       "\n",
       "    .dataframe tbody tr th {\n",
       "        vertical-align: top;\n",
       "    }\n",
       "\n",
       "    .dataframe thead th {\n",
       "        text-align: right;\n",
       "    }\n",
       "</style>\n",
       "<table border=\"1\" class=\"dataframe\">\n",
       "  <thead>\n",
       "    <tr style=\"text-align: right;\">\n",
       "      <th></th>\n",
       "      <th></th>\n",
       "      <th>headline</th>\n",
       "      <th>Open</th>\n",
       "      <th>Close</th>\n",
       "      <th>returns</th>\n",
       "      <th>label</th>\n",
       "    </tr>\n",
       "    <tr>\n",
       "      <th>ticker</th>\n",
       "      <th>time</th>\n",
       "      <th></th>\n",
       "      <th></th>\n",
       "      <th></th>\n",
       "      <th></th>\n",
       "      <th></th>\n",
       "    </tr>\n",
       "  </thead>\n",
       "  <tbody>\n",
       "    <tr>\n",
       "      <th rowspan=\"5\" valign=\"top\">A</th>\n",
       "      <th>2019-07-11</th>\n",
       "      <td>&lt;s&gt;Delivery Of Ionization Auxiliary Equipment ...</td>\n",
       "      <td>1146.160034</td>\n",
       "      <td>1144.079956</td>\n",
       "      <td>0.001101</td>\n",
       "      <td>1.0</td>\n",
       "    </tr>\n",
       "    <tr>\n",
       "      <th>2019-07-12</th>\n",
       "      <td>&lt;s&gt;Epa Do Agilent 7250 Gc/q-tof Mass Spectrome...</td>\n",
       "      <td>1142.930054</td>\n",
       "      <td>1145.339966</td>\n",
       "      <td>0.004514</td>\n",
       "      <td>1.0</td>\n",
       "    </tr>\n",
       "    <tr>\n",
       "      <th>2019-07-16</th>\n",
       "      <td>&lt;s&gt;AGILENT TECHNOLOGIES INC &lt;A.N&gt;: EVERCORE IS...</td>\n",
       "      <td>1146.729980</td>\n",
       "      <td>1153.459961</td>\n",
       "      <td>-0.005826</td>\n",
       "      <td>0.0</td>\n",
       "    </tr>\n",
       "    <tr>\n",
       "      <th>2019-07-17</th>\n",
       "      <td>&lt;s&gt;Procurement Of Spares And Consumables For T...</td>\n",
       "      <td>1150.920044</td>\n",
       "      <td>1146.739990</td>\n",
       "      <td>0.000436</td>\n",
       "      <td>1.0</td>\n",
       "    </tr>\n",
       "    <tr>\n",
       "      <th>2019-07-18</th>\n",
       "      <td>&lt;s&gt;NYSE ORDER IMBALANCE &lt;A.N&gt; 68900.0 SHARES O...</td>\n",
       "      <td>1142.000000</td>\n",
       "      <td>1147.239990</td>\n",
       "      <td>-0.013676</td>\n",
       "      <td>0.0</td>\n",
       "    </tr>\n",
       "    <tr>\n",
       "      <th rowspan=\"5\" valign=\"top\">ZTS</th>\n",
       "      <th>2020-09-28</th>\n",
       "      <td>&lt;s&gt;NYSE ORDER IMBALANCE &lt;ZTS.N&gt; 59715.0 SHARES...</td>\n",
       "      <td>162.380005</td>\n",
       "      <td>161.320007</td>\n",
       "      <td>0.007191</td>\n",
       "      <td>1.0</td>\n",
       "    </tr>\n",
       "    <tr>\n",
       "      <th>2020-09-30</th>\n",
       "      <td>&lt;s&gt;Zoetis to Host Webcast and Conference Call ...</td>\n",
       "      <td>162.919998</td>\n",
       "      <td>165.369995</td>\n",
       "      <td>-0.008103</td>\n",
       "      <td>0.0</td>\n",
       "    </tr>\n",
       "    <tr>\n",
       "      <th>2020-10-07</th>\n",
       "      <td>&lt;s&gt;Sachem Head takes $1.2 bln position in Elan...</td>\n",
       "      <td>163.350006</td>\n",
       "      <td>159.910004</td>\n",
       "      <td>0.020386</td>\n",
       "      <td>1.0</td>\n",
       "    </tr>\n",
       "    <tr>\n",
       "      <th>2020-10-09</th>\n",
       "      <td>&lt;s&gt;NYSE ORDER IMBALANCE &lt;ZTS.N&gt; 230640.0 SHARE...</td>\n",
       "      <td>163.979996</td>\n",
       "      <td>165.429993</td>\n",
       "      <td>0.018860</td>\n",
       "      <td>1.0</td>\n",
       "    </tr>\n",
       "    <tr>\n",
       "      <th>2020-10-12</th>\n",
       "      <td>&lt;s&gt;ZOETIS INC &lt;ZTS.N&gt;: CREDIT SUISSE RAISES PR...</td>\n",
       "      <td>167.080002</td>\n",
       "      <td>168.550003</td>\n",
       "      <td>-0.019163</td>\n",
       "      <td>0.0</td>\n",
       "    </tr>\n",
       "  </tbody>\n",
       "</table>\n",
       "</div>"
      ],
      "text/plain": [
       "                                                            headline  \\\n",
       "ticker time                                                            \n",
       "A      2019-07-11  <s>Delivery Of Ionization Auxiliary Equipment ...   \n",
       "       2019-07-12  <s>Epa Do Agilent 7250 Gc/q-tof Mass Spectrome...   \n",
       "       2019-07-16  <s>AGILENT TECHNOLOGIES INC <A.N>: EVERCORE IS...   \n",
       "       2019-07-17  <s>Procurement Of Spares And Consumables For T...   \n",
       "       2019-07-18  <s>NYSE ORDER IMBALANCE <A.N> 68900.0 SHARES O...   \n",
       "ZTS    2020-09-28  <s>NYSE ORDER IMBALANCE <ZTS.N> 59715.0 SHARES...   \n",
       "       2020-09-30  <s>Zoetis to Host Webcast and Conference Call ...   \n",
       "       2020-10-07  <s>Sachem Head takes $1.2 bln position in Elan...   \n",
       "       2020-10-09  <s>NYSE ORDER IMBALANCE <ZTS.N> 230640.0 SHARE...   \n",
       "       2020-10-12  <s>ZOETIS INC <ZTS.N>: CREDIT SUISSE RAISES PR...   \n",
       "\n",
       "                          Open        Close   returns  label  \n",
       "ticker time                                                   \n",
       "A      2019-07-11  1146.160034  1144.079956  0.001101    1.0  \n",
       "       2019-07-12  1142.930054  1145.339966  0.004514    1.0  \n",
       "       2019-07-16  1146.729980  1153.459961 -0.005826    0.0  \n",
       "       2019-07-17  1150.920044  1146.739990  0.000436    1.0  \n",
       "       2019-07-18  1142.000000  1147.239990 -0.013676    0.0  \n",
       "ZTS    2020-09-28   162.380005   161.320007  0.007191    1.0  \n",
       "       2020-09-30   162.919998   165.369995 -0.008103    0.0  \n",
       "       2020-10-07   163.350006   159.910004  0.020386    1.0  \n",
       "       2020-10-09   163.979996   165.429993  0.018860    1.0  \n",
       "       2020-10-12   167.080002   168.550003 -0.019163    0.0  "
      ]
     },
     "execution_count": 14,
     "metadata": {},
     "output_type": "execute_result"
    }
   ],
   "source": [
    "data.head().append(data.tail())"
   ]
  },
  {
   "cell_type": "code",
   "execution_count": 15,
   "metadata": {},
   "outputs": [
    {
     "data": {
      "text/plain": [
       "((110905,), (110905,))"
      ]
     },
     "execution_count": 15,
     "metadata": {},
     "output_type": "execute_result"
    }
   ],
   "source": [
    "X.shape, y.shape"
   ]
  },
  {
   "cell_type": "code",
   "execution_count": 16,
   "metadata": {},
   "outputs": [],
   "source": [
    "# Train / Test / Infer: Test  which is Validation here: 2019-07-08--->2019-08-01, Infer on \n",
    "X_train, X_test, X_infer = X.loc[idx[:,'2019-08-01':'2020-10-01'], ], X.loc[idx[:,:'2019-08-01'], ], X.loc[idx[:,'2020-10-01':], ]\n",
    "y_train, y_test, y_infer = y.loc[idx[:,'2019-08-01':'2020-10-01'], ], y.loc[idx[:,:'2019-08-01'], ], y.loc[idx[:,'2020-10-01':], ]"
   ]
  },
  {
   "cell_type": "code",
   "execution_count": 17,
   "metadata": {},
   "outputs": [
    {
     "data": {
      "text/plain": [
       "((103065,), (5697,), (103065,), (5697,), (2874,), (2874,))"
      ]
     },
     "execution_count": 17,
     "metadata": {},
     "output_type": "execute_result"
    }
   ],
   "source": [
    "X_train.shape, X_test.shape, y_train.shape, y_test.shape, X_infer.shape, y_infer.shape"
   ]
  },
  {
   "cell_type": "code",
   "execution_count": 18,
   "metadata": {},
   "outputs": [
    {
     "name": "stdout",
     "output_type": "stream",
     "text": [
      "y labels:\n",
      " 1.0    58452\n",
      "0.0    52453\n",
      "Name: label, dtype: int64\n",
      "Train Labels:\n",
      " 1.0    54331\n",
      "0.0    48734\n",
      "Name: label, dtype: int64\n",
      "Test Labels:\n",
      " 0.0    3009\n",
      "1.0    2688\n",
      "Name: label, dtype: int64\n",
      "Inference Labels:\n",
      " 1.0    1753\n",
      "0.0    1121\n",
      "Name: label, dtype: int64\n",
      "Train Ratio 0.93\n"
     ]
    }
   ],
   "source": [
    "print('y labels:\\n', y.value_counts())\n",
    "print('Train Labels:\\n', y_train.value_counts())\n",
    "print('Test Labels:\\n', y_test.value_counts())\n",
    "print('Inference Labels:\\n', y_infer.value_counts())\n",
    "print(\"Train Ratio %.2f\" % (len(X_train)/ len(X)))"
   ]
  },
  {
   "cell_type": "code",
   "execution_count": 19,
   "metadata": {},
   "outputs": [],
   "source": [
    "# ENCODE ORDINAL\n",
    "X_train = encode2bytes(X_train)\n",
    "X_test = encode2bytes(X_test)\n",
    "X_infer = encode2bytes(X_infer)\n",
    "# X_encode = encode2bytes(X)"
   ]
  },
  {
   "cell_type": "code",
   "execution_count": 20,
   "metadata": {},
   "outputs": [
    {
     "name": "stdout",
     "output_type": "stream",
     "text": [
      "Headlines length: \n",
      "Mean 249.15 words (Std 200.34) max 606\n"
     ]
    },
    {
     "data": {
      "image/png": "[encoded data removed]",
      "text/plain": [
       "<Figure size 1440x720 with 1 Axes>"
      ]
     },
     "metadata": {
      "needs_background": "light"
     },
     "output_type": "display_data"
    }
   ],
   "source": [
    "# Summarize headlines length\n",
    "print(\"Headlines length: \")\n",
    "result = [len(sentence) for sentence in X]\n",
    "print(\"Mean %.2f words (Std %.2f) max %d\" % (np.mean(result), np.std(result), max(result)))\n",
    "# plot review length\n",
    "plt.figure(figsize=(20,10));\n",
    "plt.boxplot(result)\n",
    "plt.show()"
   ]
  },
  {
   "cell_type": "code",
   "execution_count": 21,
   "metadata": {},
   "outputs": [
    {
     "data": {
      "text/plain": [
       "((103065, 606), (5697, 606), (2874, 606))"
      ]
     },
     "execution_count": 21,
     "metadata": {},
     "output_type": "execute_result"
    }
   ],
   "source": [
    "# prepadded to solve for forward propagation not masking\n",
    "max_sentence_len = max(map(len, X))\n",
    "X_train = pad_sequences(X_train, maxlen =  max(map(len, X_train)), padding = 'pre', truncating='pre')\n",
    "X_test = pad_sequences(X_test, maxlen = max(map(len, X_test)), padding = 'pre', truncating='pre')\n",
    "X_infer = pad_sequences(X_infer, maxlen = max(map(len, X_infer)), padding = 'pre', truncating='pre')\n",
    "X_train.shape, X_test.shape, X_infer.shape\n",
    "# X_padded = pad_sequences(X_encode, maxlen = max_sentence_len, padding = 'pre', truncating='pre')"
   ]
  },
  {
   "cell_type": "code",
   "execution_count": 22,
   "metadata": {},
   "outputs": [
    {
     "data": {
      "text/plain": [
       "((103065, 1), (5697, 1), (2874, 1))"
      ]
     },
     "execution_count": 22,
     "metadata": {},
     "output_type": "execute_result"
    }
   ],
   "source": [
    "# Our vectorized labels\n",
    "train_labels = np.asarray(y_train).astype('float32').reshape((-1,1))\n",
    "test_labels = np.asarray(y_test).astype('float32').reshape((-1,1))\n",
    "infer_labels = np.asarray(y_infer).astype('float32').reshape((-1,1))\n",
    "train_labels.shape, test_labels.shape, infer_labels.shape"
   ]
  },
  {
   "cell_type": "code",
   "execution_count": 23,
   "metadata": {},
   "outputs": [],
   "source": [
    "train_seq_data = tf.data.Dataset.from_tensor_slices((X_train,train_labels))\n",
    "test_seq_data = tf.data.Dataset.from_tensor_slices((X_test,test_labels))\n",
    "infer_seq_data = tf.data.Dataset.from_tensor_slices((X_infer,infer_labels))"
   ]
  },
  {
   "cell_type": "code",
   "execution_count": 24,
   "metadata": {},
   "outputs": [],
   "source": [
    "AUTOTUNE = tf.data.experimental.AUTOTUNE\n",
    "\n",
    "def configure_dataset(dataset):\n",
    "  return dataset.cache().prefetch(buffer_size=AUTOTUNE)"
   ]
  },
  {
   "cell_type": "code",
   "execution_count": 25,
   "metadata": {},
   "outputs": [
    {
     "name": "stdout",
     "output_type": "stream",
     "text": [
      "Train Set Shape:  <BatchDataset shapes: ((64, 606), (64, 1)), types: (tf.int32, tf.float32)> \n",
      "Test Set Shape:  <BatchDataset shapes: ((64, 606), (64, 1)), types: (tf.int32, tf.float32)>\n"
     ]
    }
   ],
   "source": [
    "batch_size = 64\n",
    "\n",
    "train_seq_data = train_seq_data.batch(batch_size, drop_remainder=True)\n",
    "test_seq_data = test_seq_data.batch(batch_size, drop_remainder=True)\n",
    "infer_seq_data = infer_seq_data.batch(64, drop_remainder=True)\n",
    "print('Train Set Shape: ', train_seq_data, '\\nTest Set Shape: ', test_seq_data)"
   ]
  },
  {
   "cell_type": "code",
   "execution_count": 26,
   "metadata": {},
   "outputs": [],
   "source": [
    "# with tf.device('CPU'):\n",
    "train_seq_data = configure_dataset(train_seq_data)\n",
    "test_seq_data = configure_dataset(test_seq_data)\n",
    "infer_seq_data = configure_dataset(infer_seq_data)"
   ]
  },
  {
   "cell_type": "code",
   "execution_count": 27,
   "metadata": {},
   "outputs": [
    {
     "data": {
      "text/plain": [
       "(<PrefetchDataset shapes: ((64, 606), (64, 1)), types: (tf.int32, tf.float32)>,\n",
       " <PrefetchDataset shapes: ((64, 606), (64, 1)), types: (tf.int32, tf.float32)>,\n",
       " <PrefetchDataset shapes: ((64, 606), (64, 1)), types: (tf.int32, tf.float32)>)"
      ]
     },
     "execution_count": 27,
     "metadata": {},
     "output_type": "execute_result"
    }
   ],
   "source": [
    "train_seq_data, test_seq_data, infer_seq_data"
   ]
  },
  {
   "cell_type": "code",
   "execution_count": 28,
   "metadata": {},
   "outputs": [
    {
     "name": "stdout",
     "output_type": "stream",
     "text": [
      "Model: \"CharLSTM\"\n",
      "_________________________________________________________________\n",
      "Layer (type)                 Output Shape              Param #   \n",
      "=================================================================\n",
      "EmbedLayer (Embedding)       (None, None, 256)         32512     \n",
      "_________________________________________________________________\n",
      "BiLSTM (Bidirectional)       (None, None, 1024)        10493952  \n",
      "_________________________________________________________________\n",
      "time_distributed (TimeDistri (None, None, 127)         130175    \n",
      "=================================================================\n",
      "Total params: 10,656,639\n",
      "Trainable params: 10,656,639\n",
      "Non-trainable params: 0\n",
      "_________________________________________________________________\n"
     ]
    }
   ],
   "source": [
    "# def create_language_model(batch_size):\n",
    "#     model = Sequential(name = 'CharLSTM')\n",
    "#     model.add(Embedding(127, 256,batch_input_shape=[batch_size, None], \n",
    "#                         mask_zero=True, name ='EmbedLayer'))\n",
    "#     model.add(Bidirectional(LSTM(1024, return_sequences=True,stateful=False,\n",
    "#                                  recurrent_initializer='glorot_uniform'), merge_mode ='ave',name = 'BiLSTM'))\n",
    "#     model.add(TimeDistributed(Dense(127, name = 'TimeDistDense')))\n",
    "#     model.compile(optimizer=tf.optimizers.SGD(learning_rate=1e-1), \n",
    "#                   loss = tf.losses.SparseCategoricalCrossentropy(from_logits = True))\n",
    "#     return model\n",
    "# #Compile then load weights\n",
    "# checkpoint_dir = './training_checkpoints_CharWeights'\n",
    "\n",
    "# ChaRmodel = create_language_model(batch_size=None)\n",
    "\n",
    "# print(tf.train.latest_checkpoint(checkpoint_dir))\n",
    "# ChaRmodel.load_weights(tf.train.latest_checkpoint(checkpoint_dir))\n",
    "\n",
    "# ChaRmodel.build(tf.TensorShape([1,None]))\n",
    "\n",
    "# # Get layers to intialize classification model\n",
    "# embeddings = ChaRmodel.layers[0].get_weights()[0]\n",
    "# lstm = ChaRmodel.layers[1].get_weights()[0]\n",
    "# print(embeddings.shape, lstm.shape)\n",
    "\n",
    "ChaRmodel = tf.keras.models.load_model('CharLM.h5')\n",
    "ChaRmodel.summary()"
   ]
  },
  {
   "cell_type": "code",
   "execution_count": 29,
   "metadata": {},
   "outputs": [],
   "source": [
    "def direction_model():\n",
    "    model = Sequential(name = 'RNNStocks')\n",
    "    model.add(Embedding(input_dim = 127, output_dim = 256,batch_input_shape=[None, None],\n",
    "                        mask_zero = True, name ='EmbedLayer'))\n",
    "    model.add(Bidirectional(LSTM(1024,\n",
    "                                 return_sequences=False,stateful=False, \n",
    "                                 recurrent_initializer='glorot_uniform'), merge_mode ='concat',name = 'BiLSTM'))\n",
    "    #final state encodes full representation of a single passed headine\n",
    "    model.add(BatchNormalization(name='BatchNormal')) #After RNN(S-shape activation-f(x) / Before ReLU(Non-Gaussian))\n",
    "#     model.add(tf.keras.layers.Masking(mask_value=0))\n",
    "    model.add(Dense(512, name = 'FullConnected')) \n",
    "    model.add(tf.keras.layers.LeakyReLU()) #controls vanishing gradients:f(x) =  a * (exp(x) - 1.) for x < 0 ; f(x) = x for x >= 0\n",
    "    model.add(BatchNormalization(name='BatchNormal2'))\n",
    "    model.add(Dense(1, activation='sigmoid',name='Output'))\n",
    "    model.compile(optimizer=tf.optimizers.Adadelta(learning_rate = 1e-04), loss=tf.keras.losses.BinaryCrossentropy(from_logits=True),\n",
    "              metrics=['accuracy',  tf.keras.metrics.AUC(name='AUC')])\n",
    "    return model"
   ]
  },
  {
   "cell_type": "code",
   "execution_count": 30,
   "metadata": {},
   "outputs": [],
   "source": [
    "previous_training = tf.keras.models.load_model('daily.h5').get_weights()"
   ]
  },
  {
   "cell_type": "code",
   "execution_count": 31,
   "metadata": {},
   "outputs": [],
   "source": [
    " # batch size of 128 headlines is used to space out weight updates for our large data\n",
    "epochs = 100\n",
    "# # with strategy.scope():\n",
    "# gpus = tf.config.experimental.list_logical_devices('GPU')\n",
    "# if gpus:\n",
    "#   # Replicate your computation on multiple GPUs\n",
    "#   for gpu in gpus:\n",
    "with tf.device('GPU:1'):\n",
    "#     with  tf.device('GPU:3'):\n",
    "    model = direction_model()\n",
    "    checkpoint_dir = './training_checkpoints_CharWeights'\n",
    "    # print(tf.train.latest_checkpoint(checkpoint_dir))\n",
    "    # model.load_weights(tf.train.latest_checkpoint(checkpoint_dir))\n",
    "    model.layers[0].set_weights(ChaRmodel.layers[0].get_weights())\n",
    "    model.layers[1].set_weights(ChaRmodel.layers[1].get_weights())"
   ]
  },
  {
   "cell_type": "code",
   "execution_count": 32,
   "metadata": {},
   "outputs": [],
   "source": [
    "#Freeze Language Model Layers for initial training of Added Layers:\n",
    "# Freeze all the layers before the `fine_tune_at` layer\n",
    "for layer in model.layers[:2]:\n",
    "    layer.trainable =  False"
   ]
  },
  {
   "cell_type": "code",
   "execution_count": 33,
   "metadata": {},
   "outputs": [
    {
     "name": "stdout",
     "output_type": "stream",
     "text": [
      "Model: \"RNNStocks\"\n",
      "_________________________________________________________________\n",
      "Layer (type)                 Output Shape              Param #   \n",
      "=================================================================\n",
      "EmbedLayer (Embedding)       (None, None, 256)         32512     \n",
      "_________________________________________________________________\n",
      "BiLSTM (Bidirectional)       (None, 2048)              10493952  \n",
      "_________________________________________________________________\n",
      "BatchNormal (BatchNormalizat (None, 2048)              8192      \n",
      "_________________________________________________________________\n",
      "FullConnected (Dense)        (None, 512)               1049088   \n",
      "_________________________________________________________________\n",
      "leaky_re_lu (LeakyReLU)      (None, 512)               0         \n",
      "_________________________________________________________________\n",
      "BatchNormal2 (BatchNormaliza (None, 512)               2048      \n",
      "_________________________________________________________________\n",
      "Output (Dense)               (None, 1)                 513       \n",
      "=================================================================\n",
      "Total params: 11,586,305\n",
      "Trainable params: 1,054,721\n",
      "Non-trainable params: 10,531,584\n",
      "_________________________________________________________________\n"
     ]
    }
   ],
   "source": [
    "model.summary()"
   ]
  },
  {
   "cell_type": "code",
   "execution_count": 34,
   "metadata": {},
   "outputs": [
    {
     "name": "stdout",
     "output_type": "stream",
     "text": [
      "True\n",
      "True\n",
      "True\n",
      "True\n",
      "True\n",
      "True\n",
      "True\n"
     ]
    }
   ],
   "source": [
    "print(np.all(model.get_layer('EmbedLayer').get_weights()[0] == ChaRmodel.get_layer('EmbedLayer').get_weights()[0] ))\n",
    "for i in range(0, len(model.get_layer('BiLSTM').get_weights())):\n",
    "    print(np.all(model.get_layer('BiLSTM').get_weights()[i] == ChaRmodel.get_layer('BiLSTM').get_weights()[i]))"
   ]
  },
  {
   "cell_type": "code",
   "execution_count": 35,
   "metadata": {},
   "outputs": [
    {
     "name": "stdout",
     "output_type": "stream",
     "text": [
      "[True, True, True, True, True, True, True]\n",
      "[True, True, True]\n"
     ]
    }
   ],
   "source": [
    "print([layer.supports_masking for layer in model.layers])\n",
    "print([layer.supports_masking for layer in ChaRmodel.layers])"
   ]
  },
  {
   "cell_type": "markdown",
   "metadata": {},
   "source": [
    "### Test Model Pre training it"
   ]
  },
  {
   "cell_type": "code",
   "execution_count": 36,
   "metadata": {},
   "outputs": [
    {
     "name": "stdout",
     "output_type": "stream",
     "text": [
      "<s>MSFT rallying after last earnings call<\\s\n",
      "[[60], [115], [62], [77], [83], [70], [84], [32], [114], [97], [108], [108], [121], [105], [110], [103], [32], [97], [102], [116], [101], [114], [32], [108], [97], [115], [116], [32], [101], [97], [114], [110], [105], [110], [103], [115], [32], [99], [97], [108], [108], [60], [92], [115]]\n"
     ]
    },
    {
     "data": {
      "text/plain": [
       "(1, 44)"
      ]
     },
     "execution_count": 36,
     "metadata": {},
     "output_type": "execute_result"
    }
   ],
   "source": [
    "sample = 'MSFT rallying after last earnings call' \n",
    "sample = '<s>' + sample + '<\\s' \n",
    "print(sample)\n",
    "sample = encode2bytes(sample)\n",
    "print(sample)\n",
    "sample = tf.squeeze(sample)\n",
    "sample = tf.expand_dims(sample, 0).numpy()\n",
    "sample.shape"
   ]
  },
  {
   "cell_type": "code",
   "execution_count": 37,
   "metadata": {},
   "outputs": [
    {
     "name": "stdout",
     "output_type": "stream",
     "text": [
      "<s>MSFT rallying after last earnings call<\\s\u0000\u0000\u0000\u0000\u0000\u0000\u0000\u0000\u0000\u0000\u0000\u0000\u0000\u0000\u0000\u0000\u0000\u0000\u0000\u0000\n",
      "[[60], [115], [62], [77], [83], [70], [84], [32], [114], [97], [108], [108], [121], [105], [110], [103], [32], [97], [102], [116], [101], [114], [32], [108], [97], [115], [116], [32], [101], [97], [114], [110], [105], [110], [103], [115], [32], [99], [97], [108], [108], [60], [92], [115], [0], [0], [0], [0], [0], [0], [0], [0], [0], [0], [0], [0], [0], [0], [0], [0], [0], [0], [0], [0]]\n"
     ]
    },
    {
     "data": {
      "text/plain": [
       "(1, 64)"
      ]
     },
     "execution_count": 37,
     "metadata": {},
     "output_type": "execute_result"
    }
   ],
   "source": [
    "padded_sample = 'MSFT rallying after last earnings call' \n",
    "padded_sample = '<s>' + padded_sample + '<\\s' + chr(0) * 20\n",
    "print(padded_sample)\n",
    "padded_sample = encode2bytes(padded_sample)\n",
    "print(padded_sample)\n",
    "padded_sample = tf.squeeze(padded_sample)\n",
    "padded_sample = tf.expand_dims(padded_sample, 0).numpy()\n",
    "padded_sample.shape"
   ]
  },
  {
   "cell_type": "code",
   "execution_count": 38,
   "metadata": {},
   "outputs": [
    {
     "name": "stdout",
     "output_type": "stream",
     "text": [
      "[[0.3422742]]\n",
      "vs\n",
      "[[0.3422742]]\n"
     ]
    }
   ],
   "source": [
    "print(model(sample).numpy())\n",
    "print('vs')\n",
    "print(model(padded_sample).numpy())"
   ]
  },
  {
   "cell_type": "code",
   "execution_count": 39,
   "metadata": {},
   "outputs": [
    {
     "data": {
      "text/plain": [
       "0.6294831119673949"
      ]
     },
     "execution_count": 39,
     "metadata": {},
     "output_type": "execute_result"
    }
   ],
   "source": [
    "1/(1+np.exp(-0.53))"
   ]
  },
  {
   "cell_type": "markdown",
   "metadata": {},
   "source": [
    "### Compute Intial Baseline Metrics"
   ]
  },
  {
   "cell_type": "code",
   "execution_count": 40,
   "metadata": {},
   "outputs": [
    {
     "name": "stdout",
     "output_type": "stream",
     "text": [
      "89/89 [==============================] - 29s 330ms/step - loss: 0.7270 - accuracy: 0.5121 - AUC: 0.5006\n"
     ]
    }
   ],
   "source": [
    "initial_epochs = 10\n",
    "validation_steps= int(X_test.shape[0] / batch_size)\n",
    "\n",
    "initial_loss, initial_accuracy, intial_AUC = model.evaluate(test_seq_data, steps = validation_steps)"
   ]
  },
  {
   "cell_type": "code",
   "execution_count": 41,
   "metadata": {},
   "outputs": [
    {
     "name": "stdout",
     "output_type": "stream",
     "text": [
      "Initial loss: 0.73 | initial Accuracy : 51.21% | Initial AUC: 50.06%\n"
     ]
    }
   ],
   "source": [
    "print(f'Initial loss: {initial_loss:.2f} | initial Accuracy : {initial_accuracy:.2%} | Initial AUC: {intial_AUC:.2%}')"
   ]
  },
  {
   "cell_type": "markdown",
   "metadata": {},
   "source": [
    "### Initial Training\n",
    "* Pretrained weights should be freezed, for the intial tuning of new added final layers to avoid large gradient updates that can eliminate the pretrained results from the language model."
   ]
  },
  {
   "cell_type": "code",
   "execution_count": 44,
   "metadata": {},
   "outputs": [],
   "source": [
    "early_stopping = EarlyStopping(monitor='val_accuracy',\n",
    "                               patience=5,\n",
    "                               mode='max',\n",
    "                               restore_best_weights=True)"
   ]
  },
  {
   "cell_type": "code",
   "execution_count": 45,
   "metadata": {},
   "outputs": [
    {
     "name": "stdout",
     "output_type": "stream",
     "text": [
      "Epoch 1/30\n",
      "1610/1610 [==============================] - 2181s 1s/step - loss: 0.7160 - accuracy: 0.5000 - AUC: 0.5014 - val_loss: 0.7462 - val_accuracy: 0.4917 - val_AUC: 0.4858\n",
      "Epoch 2/30\n",
      "1610/1610 [==============================] - 2176s 1s/step - loss: 0.7140 - accuracy: 0.5006 - AUC: 0.5035 - val_loss: 0.7448 - val_accuracy: 0.4937 - val_AUC: 0.4860\n",
      "Epoch 3/30\n",
      "1610/1610 [==============================] - 2211s 1s/step - loss: 0.7132 - accuracy: 0.5010 - AUC: 0.5048 - val_loss: 0.7434 - val_accuracy: 0.4988 - val_AUC: 0.4872\n",
      "Epoch 4/30\n",
      "1610/1610 [==============================] - 2179s 1s/step - loss: 0.7124 - accuracy: 0.5006 - AUC: 0.5063 - val_loss: 0.7422 - val_accuracy: 0.5005 - val_AUC: 0.4877\n",
      "Epoch 5/30\n",
      "1610/1610 [==============================] - 2183s 1s/step - loss: 0.7117 - accuracy: 0.5010 - AUC: 0.5075 - val_loss: 0.7409 - val_accuracy: 0.5011 - val_AUC: 0.4886\n",
      "Epoch 6/30\n",
      "1610/1610 [==============================] - 2179s 1s/step - loss: 0.7110 - accuracy: 0.5011 - AUC: 0.5089 - val_loss: 0.7397 - val_accuracy: 0.4974 - val_AUC: 0.4885\n",
      "Epoch 7/30\n",
      "1610/1610 [==============================] - 2181s 1s/step - loss: 0.7104 - accuracy: 0.5010 - AUC: 0.5099 - val_loss: 0.7384 - val_accuracy: 0.4988 - val_AUC: 0.4886\n",
      "Epoch 8/30\n",
      "1610/1610 [==============================] - 2182s 1s/step - loss: 0.7098 - accuracy: 0.5008 - AUC: 0.5109 - val_loss: 0.7371 - val_accuracy: 0.5030 - val_AUC: 0.4891\n",
      "Epoch 9/30\n",
      "1610/1610 [==============================] - 2206s 1s/step - loss: 0.7092 - accuracy: 0.5005 - AUC: 0.5119 - val_loss: 0.7358 - val_accuracy: 0.5068 - val_AUC: 0.4900\n",
      "Epoch 10/30\n",
      "1610/1610 [==============================] - 2200s 1s/step - loss: 0.7087 - accuracy: 0.5012 - AUC: 0.5129 - val_loss: 0.7347 - val_accuracy: 0.5051 - val_AUC: 0.4913\n",
      "Epoch 11/30\n",
      "1610/1610 [==============================] - 2178s 1s/step - loss: 0.7082 - accuracy: 0.5012 - AUC: 0.5137 - val_loss: 0.7337 - val_accuracy: 0.5084 - val_AUC: 0.4925\n",
      "Epoch 12/30\n",
      "1610/1610 [==============================] - 2200s 1s/step - loss: 0.7078 - accuracy: 0.5008 - AUC: 0.5146 - val_loss: 0.7328 - val_accuracy: 0.5100 - val_AUC: 0.4928\n",
      "Epoch 13/30\n",
      "1610/1610 [==============================] - 2183s 1s/step - loss: 0.7074 - accuracy: 0.4999 - AUC: 0.5152 - val_loss: 0.7320 - val_accuracy: 0.5119 - val_AUC: 0.4936\n",
      "Epoch 14/30\n",
      "1610/1610 [==============================] - 2179s 1s/step - loss: 0.7070 - accuracy: 0.5002 - AUC: 0.5160 - val_loss: 0.7314 - val_accuracy: 0.5126 - val_AUC: 0.4945\n",
      "Epoch 15/30\n",
      "1610/1610 [==============================] - 2180s 1s/step - loss: 0.7066 - accuracy: 0.5000 - AUC: 0.5166 - val_loss: 0.7306 - val_accuracy: 0.5112 - val_AUC: 0.4946\n",
      "Epoch 16/30\n",
      "1610/1610 [==============================] - 2223s 1s/step - loss: 0.7063 - accuracy: 0.5005 - AUC: 0.5173 - val_loss: 0.7301 - val_accuracy: 0.5114 - val_AUC: 0.4945\n",
      "Epoch 17/30\n",
      "1610/1610 [==============================] - 2169s 1s/step - loss: 0.7059 - accuracy: 0.5002 - AUC: 0.5180 - val_loss: 0.7293 - val_accuracy: 0.5135 - val_AUC: 0.4957\n",
      "Epoch 18/30\n",
      "1610/1610 [==============================] - 2174s 1s/step - loss: 0.7057 - accuracy: 0.4999 - AUC: 0.5185 - val_loss: 0.7289 - val_accuracy: 0.5144 - val_AUC: 0.4954\n",
      "Epoch 19/30\n",
      "1610/1610 [==============================] - 2172s 1s/step - loss: 0.7054 - accuracy: 0.5000 - AUC: 0.5190 - val_loss: 0.7284 - val_accuracy: 0.5139 - val_AUC: 0.4951\n",
      "Epoch 20/30\n",
      "1610/1610 [==============================] - 2169s 1s/step - loss: 0.7051 - accuracy: 0.5006 - AUC: 0.5196 - val_loss: 0.7277 - val_accuracy: 0.5144 - val_AUC: 0.4968\n",
      "Epoch 21/30\n",
      "1610/1610 [==============================] - 2179s 1s/step - loss: 0.7048 - accuracy: 0.5005 - AUC: 0.5202 - val_loss: 0.7271 - val_accuracy: 0.5160 - val_AUC: 0.4974\n",
      "Epoch 22/30\n",
      "1610/1610 [==============================] - 2198s 1s/step - loss: 0.7046 - accuracy: 0.5004 - AUC: 0.5208 - val_loss: 0.7267 - val_accuracy: 0.5174 - val_AUC: 0.4966\n",
      "Epoch 23/30\n",
      "1610/1610 [==============================] - 2206s 1s/step - loss: 0.7043 - accuracy: 0.5007 - AUC: 0.5212 - val_loss: 0.7262 - val_accuracy: 0.5190 - val_AUC: 0.4972\n",
      "Epoch 24/30\n",
      "1610/1610 [==============================] - 2200s 1s/step - loss: 0.7041 - accuracy: 0.5005 - AUC: 0.5217 - val_loss: 0.7258 - val_accuracy: 0.5183 - val_AUC: 0.4971\n",
      "Epoch 25/30\n",
      "1610/1610 [==============================] - 2223s 1s/step - loss: 0.7039 - accuracy: 0.5004 - AUC: 0.5220 - val_loss: 0.7254 - val_accuracy: 0.5172 - val_AUC: 0.4973\n",
      "Epoch 26/30\n",
      "1610/1610 [==============================] - 2203s 1s/step - loss: 0.7037 - accuracy: 0.5007 - AUC: 0.5225 - val_loss: 0.7250 - val_accuracy: 0.5179 - val_AUC: 0.4975\n",
      "Epoch 27/30\n",
      "1610/1610 [==============================] - 2179s 1s/step - loss: 0.7035 - accuracy: 0.5006 - AUC: 0.5229 - val_loss: 0.7246 - val_accuracy: 0.5197 - val_AUC: 0.4982\n",
      "Epoch 28/30\n",
      "1610/1610 [==============================] - 2224s 1s/step - loss: 0.7033 - accuracy: 0.5005 - AUC: 0.5232 - val_loss: 0.7242 - val_accuracy: 0.5186 - val_AUC: 0.4980\n",
      "Epoch 29/30\n",
      "1610/1610 [==============================] - 2221s 1s/step - loss: 0.7031 - accuracy: 0.5005 - AUC: 0.5235 - val_loss: 0.7238 - val_accuracy: 0.5181 - val_AUC: 0.4984\n",
      "Epoch 30/30\n",
      "1610/1610 [==============================] - 2180s 1s/step - loss: 0.7029 - accuracy: 0.5006 - AUC: 0.5239 - val_loss: 0.7235 - val_accuracy: 0.5179 - val_AUC: 0.4986\n"
     ]
    }
   ],
   "source": [
    "history = model.fit(train_seq_data,\n",
    "                    epochs=30,\n",
    "                    validation_data = test_seq_data,\n",
    "                    callbacks=[early_stopping])"
   ]
  },
  {
   "cell_type": "code",
   "execution_count": 46,
   "metadata": {},
   "outputs": [],
   "source": [
    "def plot_learning_curves(df):\n",
    "    fig, axes = plt.subplots(ncols=2, figsize=(15, 4))\n",
    "    df[['loss', 'val_loss']].plot(ax=axes[0], title='Cross-Entropy')\n",
    "    df[['accuracy', 'val_accuracy']].plot(ax=axes[1], title='Accuracy')\n",
    "    for ax in axes:\n",
    "        ax.legend(['Training', 'Validation'])\n",
    "    sns.despine()        \n",
    "    fig.tight_layout();"
   ]
  },
  {
   "cell_type": "code",
   "execution_count": 47,
   "metadata": {},
   "outputs": [],
   "source": [
    "metrics = pd.DataFrame(history.history)"
   ]
  },
  {
   "cell_type": "code",
   "execution_count": 48,
   "metadata": {},
   "outputs": [
    {
     "data": {
      "image/png": "[encoded data removed]",
      "text/plain": [
       "<Figure size 1080x288 with 2 Axes>"
      ]
     },
     "metadata": {
      "needs_background": "light"
     },
     "output_type": "display_data"
    }
   ],
   "source": [
    "plot_learning_curves(metrics)"
   ]
  },
  {
   "cell_type": "code",
   "execution_count": 49,
   "metadata": {},
   "outputs": [
    {
     "name": "stdout",
     "output_type": "stream",
     "text": [
      "89/89 [==============================] - 30s 340ms/step - loss: 0.7235 - accuracy: 0.5179 - AUC: 0.4986\n"
     ]
    }
   ],
   "source": [
    "second_loss, second_accuracy, second_AUC = model.evaluate(test_seq_data, steps = validation_steps)"
   ]
  },
  {
   "cell_type": "code",
   "execution_count": 50,
   "metadata": {},
   "outputs": [
    {
     "name": "stdout",
     "output_type": "stream",
     "text": [
      "Transfer loss: 0.72 | Transfer Accuracy : 51.79% | Transfer AUC: 49.86%\n"
     ]
    }
   ],
   "source": [
    "print(f'Transfer loss: {second_loss:.2f} | Transfer Accuracy : {second_accuracy:.2%} | Transfer AUC: {second_AUC:.2%}')"
   ]
  },
  {
   "cell_type": "markdown",
   "metadata": {},
   "source": [
    "### Fine Tune all Layers for Target Task"
   ]
  },
  {
   "cell_type": "code",
   "execution_count": 51,
   "metadata": {},
   "outputs": [],
   "source": [
    "model.trainable = True"
   ]
  },
  {
   "cell_type": "code",
   "execution_count": 52,
   "metadata": {},
   "outputs": [
    {
     "name": "stdout",
     "output_type": "stream",
     "text": [
      "Model: \"RNNStocks\"\n",
      "_________________________________________________________________\n",
      "Layer (type)                 Output Shape              Param #   \n",
      "=================================================================\n",
      "EmbedLayer (Embedding)       (None, None, 256)         32512     \n",
      "_________________________________________________________________\n",
      "BiLSTM (Bidirectional)       (None, 2048)              10493952  \n",
      "_________________________________________________________________\n",
      "BatchNormal (BatchNormalizat (None, 2048)              8192      \n",
      "_________________________________________________________________\n",
      "FullConnected (Dense)        (None, 512)               1049088   \n",
      "_________________________________________________________________\n",
      "leaky_re_lu (LeakyReLU)      (None, 512)               0         \n",
      "_________________________________________________________________\n",
      "BatchNormal2 (BatchNormaliza (None, 512)               2048      \n",
      "_________________________________________________________________\n",
      "Output (Dense)               (None, 1)                 513       \n",
      "=================================================================\n",
      "Total params: 11,586,305\n",
      "Trainable params: 11,581,185\n",
      "Non-trainable params: 5,120\n",
      "_________________________________________________________________\n"
     ]
    }
   ],
   "source": [
    "model.summary()"
   ]
  },
  {
   "cell_type": "code",
   "execution_count": 53,
   "metadata": {},
   "outputs": [],
   "source": [
    "# Name of the checkpoint files and save each weights at each epoch\n",
    "# checkpoint_dir = './training_Daily'\n",
    "# checkpoint_prefix = os.path.join(checkpoint_dir, \"daily.h5\")\n",
    "checkpoint_callback = tf.keras.callbacks.ModelCheckpoint(\n",
    "                               filepath='daily.h5',\n",
    "                               verbose=1,\n",
    "                               monitor='val_accuracy',\n",
    "                               mode='max',\n",
    "                               save_best_only=True)\n",
    "\n",
    "early_stopping = EarlyStopping(monitor='val_AUC',\n",
    "                               patience = 20,\n",
    "                               mode='max',\n",
    "                               restore_best_weights=True)"
   ]
  },
  {
   "cell_type": "code",
   "execution_count": 54,
   "metadata": {},
   "outputs": [],
   "source": [
    "base_learning_rate = 0.0001\n",
    "model.compile(optimizer =tf.keras.optimizers.Adam(lr=base_learning_rate / 10), loss=tf.keras.losses.BinaryCrossentropy(from_logits=True),\n",
    "          metrics=['accuracy',  tf.keras.metrics.AUC(name='AUC')])"
   ]
  },
  {
   "cell_type": "code",
   "execution_count": null,
   "metadata": {
    "collapsed": true,
    "jupyter": {
     "outputs_hidden": true
    }
   },
   "outputs": [
    {
     "name": "stdout",
     "output_type": "stream",
     "text": [
      "Epoch 30/99\n",
      "1610/1610 [==============================] - ETA: 0s - loss: 0.7114 - accuracy: 0.4888 - AUC: 0.5043\n",
      "Epoch 00030: val_accuracy improved from -inf to 0.52247, saving model to daily.h5\n",
      "1610/1610 [==============================] - 2212s 1s/step - loss: 0.7114 - accuracy: 0.4888 - AUC: 0.5043 - val_loss: 0.7077 - val_accuracy: 0.5225 - val_AUC: 0.5068\n",
      "Epoch 31/99\n",
      "1610/1610 [==============================] - ETA: 0s - loss: 0.7086 - accuracy: 0.4871 - AUC: 0.5060\n",
      "Epoch 00031: val_accuracy did not improve from 0.52247\n",
      "1610/1610 [==============================] - 2186s 1s/step - loss: 0.7086 - accuracy: 0.4871 - AUC: 0.5060 - val_loss: 0.7087 - val_accuracy: 0.5219 - val_AUC: 0.5115\n",
      "Epoch 32/99\n",
      "1610/1610 [==============================] - ETA: 0s - loss: 0.7005 - accuracy: 0.4852 - AUC: 0.5085\n",
      "Epoch 00032: val_accuracy improved from 0.52247 to 0.52967, saving model to daily.h5\n",
      "1610/1610 [==============================] - 2181s 1s/step - loss: 0.7005 - accuracy: 0.4852 - AUC: 0.5085 - val_loss: 0.7026 - val_accuracy: 0.5297 - val_AUC: 0.5096\n",
      "Epoch 33/99\n",
      "1610/1610 [==============================] - ETA: 0s - loss: 0.6947 - accuracy: 0.4852 - AUC: 0.5211\n",
      "Epoch 00033: val_accuracy did not improve from 0.52967\n",
      "1610/1610 [==============================] - 2172s 1s/step - loss: 0.6947 - accuracy: 0.4852 - AUC: 0.5211 - val_loss: 0.6966 - val_accuracy: 0.5286 - val_AUC: 0.5067\n",
      "Epoch 34/99\n",
      "1610/1610 [==============================] - ETA: 0s - loss: 0.6926 - accuracy: 0.4838 - AUC: 0.5283\n",
      "Epoch 00034: val_accuracy did not improve from 0.52967\n",
      "1610/1610 [==============================] - 2208s 1s/step - loss: 0.6926 - accuracy: 0.4838 - AUC: 0.5283 - val_loss: 0.6983 - val_accuracy: 0.5295 - val_AUC: 0.5107\n",
      "Epoch 35/99\n",
      "1610/1610 [==============================] - ETA: 0s - loss: 0.6910 - accuracy: 0.4845 - AUC: 0.5356\n",
      "Epoch 00035: val_accuracy did not improve from 0.52967\n",
      "1610/1610 [==============================] - 2197s 1s/step - loss: 0.6910 - accuracy: 0.4845 - AUC: 0.5356 - val_loss: 0.6967 - val_accuracy: 0.5284 - val_AUC: 0.5111\n",
      "Epoch 36/99\n",
      "1610/1610 [==============================] - ETA: 0s - loss: 0.6904 - accuracy: 0.4839 - AUC: 0.5393\n",
      "Epoch 00036: val_accuracy did not improve from 0.52967\n",
      "1610/1610 [==============================] - 2185s 1s/step - loss: 0.6904 - accuracy: 0.4839 - AUC: 0.5393 - val_loss: 0.7109 - val_accuracy: 0.5253 - val_AUC: 0.5120\n",
      "Epoch 37/99\n",
      "1610/1610 [==============================] - ETA: 0s - loss: 0.6889 - accuracy: 0.4850 - AUC: 0.5479\n",
      "Epoch 00037: val_accuracy did not improve from 0.52967\n",
      "1610/1610 [==============================] - 2182s 1s/step - loss: 0.6889 - accuracy: 0.4850 - AUC: 0.5479 - val_loss: 0.7150 - val_accuracy: 0.5214 - val_AUC: 0.5018\n",
      "Epoch 38/99\n",
      "1610/1610 [==============================] - ETA: 0s - loss: 0.6881 - accuracy: 0.4858 - AUC: 0.5527\n",
      "Epoch 00038: val_accuracy did not improve from 0.52967\n",
      "1610/1610 [==============================] - 2176s 1s/step - loss: 0.6881 - accuracy: 0.4858 - AUC: 0.5527 - val_loss: 0.7349 - val_accuracy: 0.5068 - val_AUC: 0.5023\n",
      "Epoch 39/99\n",
      "1610/1610 [==============================] - ETA: 0s - loss: 0.6873 - accuracy: 0.4874 - AUC: 0.5564\n",
      "Epoch 00039: val_accuracy did not improve from 0.52967\n",
      "1610/1610 [==============================] - 2202s 1s/step - loss: 0.6873 - accuracy: 0.4874 - AUC: 0.5564 - val_loss: 0.7194 - val_accuracy: 0.5167 - val_AUC: 0.5029\n",
      "Epoch 40/99\n",
      "1610/1610 [==============================] - ETA: 0s - loss: 0.6866 - accuracy: 0.4895 - AUC: 0.5602\n",
      "Epoch 00040: val_accuracy did not improve from 0.52967\n",
      "1610/1610 [==============================] - 2178s 1s/step - loss: 0.6866 - accuracy: 0.4895 - AUC: 0.5602 - val_loss: 0.7227 - val_accuracy: 0.5123 - val_AUC: 0.4996\n",
      "Epoch 41/99\n",
      "1610/1610 [==============================] - ETA: 0s - loss: 0.6860 - accuracy: 0.4920 - AUC: 0.5633\n",
      "Epoch 00041: val_accuracy did not improve from 0.52967\n",
      "1610/1610 [==============================] - 2181s 1s/step - loss: 0.6860 - accuracy: 0.4920 - AUC: 0.5633 - val_loss: 0.7304 - val_accuracy: 0.5058 - val_AUC: 0.5025\n",
      "Epoch 42/99\n",
      "1610/1610 [==============================] - ETA: 0s - loss: 0.6852 - accuracy: 0.4938 - AUC: 0.5668\n",
      "Epoch 00042: val_accuracy did not improve from 0.52967\n",
      "1610/1610 [==============================] - 2176s 1s/step - loss: 0.6852 - accuracy: 0.4938 - AUC: 0.5668 - val_loss: 0.7310 - val_accuracy: 0.5047 - val_AUC: 0.4969\n",
      "Epoch 43/99\n",
      "1610/1610 [==============================] - ETA: 0s - loss: 0.6845 - accuracy: 0.4968 - AUC: 0.5700\n",
      "Epoch 00043: val_accuracy did not improve from 0.52967\n",
      "1610/1610 [==============================] - 2198s 1s/step - loss: 0.6845 - accuracy: 0.4968 - AUC: 0.5700 - val_loss: 0.7213 - val_accuracy: 0.5156 - val_AUC: 0.4942\n",
      "Epoch 44/99\n",
      "1610/1610 [==============================] - ETA: 0s - loss: 0.6838 - accuracy: 0.4994 - AUC: 0.5728\n",
      "Epoch 00044: val_accuracy did not improve from 0.52967\n",
      "1610/1610 [==============================] - 2225s 1s/step - loss: 0.6838 - accuracy: 0.4994 - AUC: 0.5728 - val_loss: 0.7182 - val_accuracy: 0.5190 - val_AUC: 0.4919\n",
      "Epoch 45/99\n",
      "1610/1610 [==============================] - ETA: 0s - loss: 0.6831 - accuracy: 0.5021 - AUC: 0.5759\n",
      "Epoch 00045: val_accuracy did not improve from 0.52967\n",
      "1610/1610 [==============================] - 2179s 1s/step - loss: 0.6831 - accuracy: 0.5021 - AUC: 0.5759 - val_loss: 0.7152 - val_accuracy: 0.5177 - val_AUC: 0.4917\n",
      "Epoch 46/99\n",
      "1610/1610 [==============================] - ETA: 0s - loss: 0.6824 - accuracy: 0.5051 - AUC: 0.5789\n",
      "Epoch 00046: val_accuracy did not improve from 0.52967\n",
      "1610/1610 [==============================] - 2175s 1s/step - loss: 0.6824 - accuracy: 0.5051 - AUC: 0.5789 - val_loss: 0.7074 - val_accuracy: 0.5219 - val_AUC: 0.4922\n",
      "Epoch 47/99\n",
      "1610/1610 [==============================] - ETA: 0s - loss: 0.6817 - accuracy: 0.5077 - AUC: 0.5817\n",
      "Epoch 00047: val_accuracy did not improve from 0.52967\n",
      "1610/1610 [==============================] - 2175s 1s/step - loss: 0.6817 - accuracy: 0.5077 - AUC: 0.5817 - val_loss: 0.7163 - val_accuracy: 0.5123 - val_AUC: 0.4888\n",
      "Epoch 48/99\n",
      "1610/1610 [==============================] - ETA: 0s - loss: 0.6810 - accuracy: 0.5106 - AUC: 0.5848\n",
      "Epoch 00048: val_accuracy did not improve from 0.52967\n",
      "1610/1610 [==============================] - 2178s 1s/step - loss: 0.6810 - accuracy: 0.5106 - AUC: 0.5848 - val_loss: 0.7153 - val_accuracy: 0.5149 - val_AUC: 0.4894\n",
      "Epoch 49/99\n",
      "1610/1610 [==============================] - ETA: 0s - loss: 0.6802 - accuracy: 0.5142 - AUC: 0.5877\n",
      "Epoch 00049: val_accuracy did not improve from 0.52967\n",
      "1610/1610 [==============================] - 2163s 1s/step - loss: 0.6802 - accuracy: 0.5142 - AUC: 0.5877 - val_loss: 0.7113 - val_accuracy: 0.5190 - val_AUC: 0.4906\n",
      "Epoch 50/99\n",
      "1610/1610 [==============================] - ETA: 0s - loss: 0.6795 - accuracy: 0.5173 - AUC: 0.5909\n",
      "Epoch 00050: val_accuracy did not improve from 0.52967\n",
      "1610/1610 [==============================] - 2201s 1s/step - loss: 0.6795 - accuracy: 0.5173 - AUC: 0.5909 - val_loss: 0.7192 - val_accuracy: 0.5137 - val_AUC: 0.4902\n",
      "Epoch 51/99\n",
      "1610/1610 [==============================] - ETA: 0s - loss: 0.6787 - accuracy: 0.5208 - AUC: 0.5939\n",
      "Epoch 00051: val_accuracy did not improve from 0.52967\n",
      "1610/1610 [==============================] - 2169s 1s/step - loss: 0.6787 - accuracy: 0.5208 - AUC: 0.5939 - val_loss: 0.7219 - val_accuracy: 0.5116 - val_AUC: 0.4897\n",
      "Epoch 52/99\n",
      "1610/1610 [==============================] - ETA: 0s - loss: 0.6780 - accuracy: 0.5238 - AUC: 0.5970\n",
      "Epoch 00052: val_accuracy did not improve from 0.52967\n",
      "1610/1610 [==============================] - 2193s 1s/step - loss: 0.6780 - accuracy: 0.5238 - AUC: 0.5970 - val_loss: 0.7241 - val_accuracy: 0.5086 - val_AUC: 0.4895\n",
      "Epoch 53/99\n",
      "1610/1610 [==============================] - ETA: 0s - loss: 0.6772 - accuracy: 0.5272 - AUC: 0.6000\n",
      "Epoch 00053: val_accuracy did not improve from 0.52967\n",
      "1610/1610 [==============================] - 2177s 1s/step - loss: 0.6772 - accuracy: 0.5272 - AUC: 0.6000 - val_loss: 0.7200 - val_accuracy: 0.5132 - val_AUC: 0.4895\n",
      "Epoch 54/99\n",
      "1610/1610 [==============================] - ETA: 0s - loss: 0.6764 - accuracy: 0.5307 - AUC: 0.6031\n",
      "Epoch 00054: val_accuracy did not improve from 0.52967\n",
      "1610/1610 [==============================] - 2179s 1s/step - loss: 0.6764 - accuracy: 0.5307 - AUC: 0.6031 - val_loss: 0.7169 - val_accuracy: 0.5130 - val_AUC: 0.4886\n",
      "Epoch 55/99\n",
      " 407/1610 [======>.......................] - ETA: 26:38 - loss: 0.6741 - accuracy: 0.5355 - AUC: 0.6070"
     ]
    }
   ],
   "source": [
    "epochs = history.epoch[-1] + 70\n",
    "start = time.time()\n",
    "fine_tuned_history = model.fit(train_seq_data, epochs=epochs, initial_epoch=history.epoch[-1],\n",
    "                    verbose = 1, validation_data=(test_seq_data),\n",
    "                    callbacks=[checkpoint_callback, early_stopping])\n",
    "end = time.time()\n",
    "print(\"Time took {:3.1f} min\".format((end-start)/60))"
   ]
  },
  {
   "cell_type": "code",
   "execution_count": 60,
   "metadata": {},
   "outputs": [
    {
     "name": "stdout",
     "output_type": "stream",
     "text": [
      "89/89 [==============================] - 30s 332ms/step - loss: 0.7109 - accuracy: 0.5253 - AUC: 0.5120\n",
      "Test loss: 0.7109153270721436\n",
      "Test accuracy: 0.5252808928489685\n",
      "Test AUC: 0.5119972825050354\n"
     ]
    }
   ],
   "source": [
    "score = model.evaluate((test_seq_data), verbose=1)\n",
    "print('Test loss:', score[0])\n",
    "print('Test accuracy:', score[1])\n",
    "print('Test AUC:', score[2])"
   ]
  },
  {
   "cell_type": "code",
   "execution_count": 61,
   "metadata": {},
   "outputs": [
    {
     "name": "stdout",
     "output_type": "stream",
     "text": [
      "44/44 [==============================] - 14s 329ms/step - loss: 0.6727 - accuracy: 0.4102 - AUC: 0.5133\n",
      "Test loss: 0.6727335453033447\n",
      "Test accuracy: 0.41015625\n",
      "Test AUC: 0.5133033990859985\n"
     ]
    }
   ],
   "source": [
    "score = model.evaluate((infer_seq_data), verbose=1)\n",
    "print('Test loss:', score[0])\n",
    "print('Test accuracy:', score[1])\n",
    "print('Test AUC:', score[2])"
   ]
  },
  {
   "cell_type": "code",
   "execution_count": 62,
   "metadata": {},
   "outputs": [],
   "source": [
    "fine_tuned = pd.DataFrame(fine_tuned_history.history)\n",
    "df = metrics.append(fine_tuned).reset_index(drop = 1)\n",
    "df.index +=1"
   ]
  },
  {
   "cell_type": "code",
   "execution_count": 63,
   "metadata": {},
   "outputs": [
    {
     "data": {
      "image/png": "[encoded data removed]",
      "text/plain": [
       "<Figure size 1152x288 with 3 Axes>"
      ]
     },
     "metadata": {
      "needs_background": "light"
     },
     "output_type": "display_data"
    }
   ],
   "source": [
    "fig, axes = plt.subplots(ncols=3, figsize=(16, 4))\n",
    "#ACCURACY\n",
    "df1 = (df[['accuracy', 'val_accuracy']]\n",
    "       .rename(columns={'accuracy': 'Training',\n",
    "                        'val_accuracy': 'Validation'}))\n",
    "df1.plot(ax=axes[0], title='Accuracy', xlim=(1, len(df)))\n",
    "axes[0].axvline(df.val_accuracy.idxmax(), ls='--', lw=1, c='k')\n",
    "axes[0].axvline(len(metrics), ls='-', lw=1, c='k')\n",
    "#AUC\n",
    "df2 = (df[['AUC', 'val_AUC']]\n",
    "       .rename(columns={'AUC': 'Training',\n",
    "                        'val_AUC': 'Validation'}))\n",
    "df2.plot(ax=axes[1], title='Area under the ROC Curve', xlim=(1, len(df)))\n",
    "\n",
    "axes[1].axvline(df.val_AUC.idxmax(), ls='--', lw=1, c='k')\n",
    "axes[1].axvline(len(metrics), ls='-', lw=1, c='k')\n",
    "#LOSS\n",
    "df2 = (df[['loss', 'val_loss']]\n",
    "       .rename(columns={'loss': 'Training',\n",
    "                        'val_loss': 'Validation'}))\n",
    "df2.plot(ax=axes[2], title='Loss', xlim=(1, len(df)))\n",
    "\n",
    "axes[2].axvline(df.val_loss.idxmin(), ls='--', lw=1, c='k')\n",
    "axes[2].axvline(len(metrics), ls='-', lw=1, c='k')\n",
    "for i in [0, 1, 2]:\n",
    "    axes[i].set_xlabel('Epoch')\n",
    "\n",
    "sns.despine()\n",
    "fig.tight_layout()"
   ]
  },
  {
   "cell_type": "code",
   "execution_count": null,
   "metadata": {},
   "outputs": [],
   "source": [
    "# for ax in axes:\n",
    "#     ax.axvline(10, ls='--', lw=1, c='k')\n",
    "#     ax.legend(['Training', 'Validation', 'Start Fine Tuning'])\n",
    "#     ax.set_xlabel('Epoch')"
   ]
  },
  {
   "cell_type": "code",
   "execution_count": null,
   "metadata": {},
   "outputs": [],
   "source": [
    "#Refit on other seq length"
   ]
  },
  {
   "cell_type": "code",
   "execution_count": null,
   "metadata": {},
   "outputs": [],
   "source": []
  }
 ],
 "metadata": {
  "kernelspec": {
   "display_name": "Environment (conda_tensorflow2_latest_p37)",
   "language": "python",
   "name": "conda_tensorflow2_latest_p37"
  },
  "language_info": {
   "codemirror_mode": {
    "name": "ipython",
    "version": 3
   },
   "file_extension": ".py",
   "mimetype": "text/x-python",
   "name": "python",
   "nbconvert_exporter": "python",
   "pygments_lexer": "ipython3",
   "version": "3.7.6"
  }
 },
 "nbformat": 4,
 "nbformat_minor": 4
}
