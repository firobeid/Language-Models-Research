{
 "cells": [
  {
   "cell_type": "markdown",
   "metadata": {},
   "source": [
    "# Daily"
   ]
  },
  {
   "cell_type": "markdown",
   "metadata": {},
   "source": [
    "We can specify devices for storage and calculation, such as the CPU or GPU. By default, data are created in the main memory and then use the CPU for calculations.\n",
    "\n",
    "The deep learning framework requires all input data for calculation to be on the same device, be it CPU or the same GPU.\n",
    "\n",
    "You can lose significant performance by moving data without care. A typical mistake is as follows: computing the loss for every minibatch on the GPU and reporting it back to the user on the command line (or logging it in a NumPy ndarray) will trigger a global interpreter lock which stalls all GPUs. It is much better to allocate memory for logging inside the GPU and only move larger logs.\n",
    "\n",
    "-  for Tensorflow-2: You can just use LSTM with no activation specified (ied default to tanh) function and it will automatically use the CuDNN version\n",
    "- Gradient clipping is a technique to prevent exploding gradients in very deep networks, usually in recurrent neural networks. ... This prevents any gradient to have norm greater than the threshold and thus the gradients are clipped.\n",
    "\n",
    "### Tips for Activation Functions:\n",
    "- When using the ReLU function for hidden layers, it is a good practice to use a “He Normal” or “He Uniform” weight initialization and scale input data to the range 0-1 (normalize) prior to training.\n",
    "- When using the Sigmoid function for hidden layers, it is a good practice to use a “Xavier Normal” or “Xavier Uniform” weight initialization (also referred to Glorot initialization, named for Xavier Glorot) and scale input data to the range 0-1 (e.g. the range of the activation function) prior to training.\n",
    "- When using the TanH function for hidden layers, it is a good practice to use a “Xavier Normal” or “Xavier Uniform” weight initialization (also referred to Glorot initialization, named for Xavier Glorot) and scale input data to the range -1 to 1 (e.g. the range of the activation function) prior to training."
   ]
  },
  {
   "cell_type": "markdown",
   "metadata": {},
   "source": [
    "https://www.tensorflow.org/install/pip#windows-native\n",
    "\n",
    "The instructions you shared from the TensorFlow website are for creating a new environment with conda, installing the correct versions of CUDA and cuDNN for TensorFlow, and then installing a version of TensorFlow that is compatible with these. It's important to note that it specifies to install a version of TensorFlow less than 2.11, as versions above 2.10 are not supported on the GPU on Windows Native.\n",
    "\n",
    "If you follow these instructions, it should install everything you need to run TensorFlow with GPU support. The final command is a quick check to ensure TensorFlow can detect your GPU.\n",
    "\n",
    "Here are the steps:\n",
    "Open your terminal or Anaconda prompt.\n",
    "Create a new conda environment (optional, but recommended to avoid package conflicts). You can do this with conda create -n tf_gpu_env python=3.8, then activate it with conda activate tf_gpu_env.\n",
    "Run the command to install the correct versions of CUDA and cuDNN:\n",
    "\n",
    "conda install -c conda-forge cudatoolkit=11.2 cudnn=8.1.0  \n",
    " \n",
    "4. Install a compatible version of TensorFlow:\n",
    "\n",
    "\n",
    "python -m pip install \"tensorflow<2.11\"  \n",
    " \n",
    "5. Verify the installation:\n",
    "\n",
    "\n",
    "python -c \"import tensorflow as tf; print(tf.config.list_physical_devices('GPU'))\"  \n",
    " \n",
    "This should return a list with your GPU if everything is installed correctly."
   ]
  },
  {
   "cell_type": "code",
   "execution_count": 1,
   "metadata": {},
   "outputs": [],
   "source": [
    "import tensorflow as tf\n",
    "import tensorflow.keras\n",
    "from tensorflow.keras.utils import to_categorical, plot_model\n",
    "from tensorflow.keras.preprocessing.sequence import pad_sequences\n",
    "from tensorflow.keras.models import Sequential\n",
    "from tensorflow.keras.layers import LSTM, Dense, GRU, Embedding, Bidirectional, TimeDistributed, BatchNormalization, Flatten\n",
    "from tensorflow.keras.callbacks import EarlyStopping, ModelCheckpoint, TensorBoard\n",
    "from tensorflow.keras.regularizers import l2\n",
    "from tqdm import tqdm\n",
    "# from keras_tqdm import TQDMNotebookCallback\n",
    "import tensorflow.keras.backend as K\n",
    "import os\n",
    "import time\n",
    "import pandas as pd\n",
    "import numpy as np\n",
    "import psutil\n",
    "# Ignore harmless warnings\n",
    "import warnings\n",
    "warnings.filterwarnings(\"ignore\")\n",
    "import matplotlib.pyplot as plt\n",
    "import seaborn as sns\n",
    "sns.set_style('darkgrid')\n",
    "%matplotlib inline"
   ]
  },
  {
   "cell_type": "code",
   "execution_count": 2,
   "metadata": {},
   "outputs": [
    {
     "name": "stdout",
     "output_type": "stream",
     "text": [
      "2.10.1\n",
      "2.10.0\n"
     ]
    }
   ],
   "source": [
    "# tf.debugging.set_log_device_placement(True)\n",
    "print(tf.__version__)\n",
    "print(tensorflow.keras.__version__)"
   ]
  },
  {
   "cell_type": "code",
   "execution_count": 91,
   "metadata": {},
   "outputs": [
    {
     "name": "stdout",
     "output_type": "stream",
     "text": [
      "2.3.1\n",
      "2.4.0\n"
     ]
    }
   ],
   "source": [
    "# tf.debugging.set_log_device_placement(True)\n",
    "print(tf.__version__)\n",
    "print(tensorflow.keras.__version__)"
   ]
  },
  {
   "cell_type": "code",
   "execution_count": 3,
   "metadata": {},
   "outputs": [
    {
     "name": "stdout",
     "output_type": "stream",
     "text": [
      "Built with CUDA:  True\n",
      "Built with GPU Support:  True\n"
     ]
    }
   ],
   "source": [
    "import tensorflow as tf  \n",
    "print(\"Built with CUDA: \", tf.test.is_built_with_cuda())  \n",
    "print(\"Built with GPU Support: \", tf.test.is_built_with_gpu_support())  "
   ]
  },
  {
   "cell_type": "code",
   "execution_count": 4,
   "metadata": {},
   "outputs": [
    {
     "name": "stdout",
     "output_type": "stream",
     "text": [
      "nvcc: NVIDIA (R) Cuda compiler driver\n",
      "Copyright (c) 2005-2023 NVIDIA Corporation\n",
      "Built on Wed_Feb__8_05:53:42_Coordinated_Universal_Time_2023\n",
      "Cuda compilation tools, release 12.1, V12.1.66\n",
      "Build cuda_12.1.r12.1/compiler.32415258_0\n"
     ]
    }
   ],
   "source": [
    "!nvcc --version"
   ]
  },
  {
   "cell_type": "code",
   "execution_count": 5,
   "metadata": {},
   "outputs": [
    {
     "name": "stdout",
     "output_type": "stream",
     "text": [
      "Tue Mar 26 03:25:27 2024       \n",
      "+-----------------------------------------------------------------------------------------+\n",
      "| NVIDIA-SMI 551.86                 Driver Version: 551.86         CUDA Version: 12.4     |\n",
      "|-----------------------------------------+------------------------+----------------------+\n",
      "| GPU  Name                     TCC/WDDM  | Bus-Id          Disp.A | Volatile Uncorr. ECC |\n",
      "| Fan  Temp   Perf          Pwr:Usage/Cap |           Memory-Usage | GPU-Util  Compute M. |\n",
      "|                                         |                        |               MIG M. |\n",
      "|=========================================+========================+======================|\n",
      "|   0  NVIDIA GeForce RTX 3060 ...  WDDM  |   00000000:01:00.0  On |                  N/A |\n",
      "| N/A   58C    P8             12W /  115W |     347MiB /   6144MiB |     10%      Default |\n",
      "|                                         |                        |                  N/A |\n",
      "+-----------------------------------------+------------------------+----------------------+\n",
      "                                                                                         \n",
      "+-----------------------------------------------------------------------------------------+\n",
      "| Processes:                                                                              |\n",
      "|  GPU   GI   CI        PID   Type   Process name                              GPU Memory |\n",
      "|        ID   ID                                                               Usage      |\n",
      "|=========================================================================================|\n",
      "|    0   N/A  N/A      9916    C+G   C:\\Windows\\explorer.exe                     N/A      |\n",
      "+-----------------------------------------------------------------------------------------+\n"
     ]
    }
   ],
   "source": [
    "!nvidia-smi"
   ]
  },
  {
   "cell_type": "code",
   "execution_count": 6,
   "metadata": {},
   "outputs": [
    {
     "name": "stdout",
     "output_type": "stream",
     "text": [
      "Using GPU\n"
     ]
    }
   ],
   "source": [
    "gpu_devices = tf.config.list_physical_devices('GPU')\n",
    "\n",
    "if gpu_devices:\n",
    "    print('Using GPU')\n",
    "    for gpu in gpu_devices[0:2]:\n",
    "        tf.config.experimental.set_memory_growth(gpu, True)\n",
    "else:\n",
    "    print('Using CPU')\n",
    "    tf.config.optimizer.set_jit(True)\n",
    "    print('used: {}% free: {:.2f}GB'.format(psutil.virtual_memory().percent, float(psutil.virtual_memory().free)/1024**3))#@ "
   ]
  },
  {
   "cell_type": "code",
   "execution_count": 7,
   "metadata": {},
   "outputs": [
    {
     "name": "stdout",
     "output_type": "stream",
     "text": [
      "1 Physical GPU, 1 Logical GPUs\n"
     ]
    }
   ],
   "source": [
    "gpus = tf.config.list_physical_devices('GPU')\n",
    "if gpus:\n",
    "  # Restrict TensorFlow to only use some GPUs\n",
    "    try:\n",
    "        tf.config.experimental.set_visible_devices(gpus[0:2], 'GPU')\n",
    "        logical_gpus = tf.config.experimental.list_logical_devices('GPU')\n",
    "        print(len(gpus), \"Physical GPU,\", len(logical_gpus), \"Logical GPUs\")\n",
    "    except RuntimeError as e:\n",
    "    # Visible devices must be set at program startup\n",
    "        print(e)"
   ]
  },
  {
   "cell_type": "code",
   "execution_count": 8,
   "metadata": {},
   "outputs": [
    {
     "name": "stdout",
     "output_type": "stream",
     "text": [
      "used: 57.9% free: 13.36GB\n"
     ]
    }
   ],
   "source": [
    "import psutil\n",
    "print('used: {}% free: {:.2f}GB'.format(psutil.virtual_memory().percent, float(psutil.virtual_memory().free)/1024**3))"
   ]
  },
  {
   "cell_type": "code",
   "execution_count": 9,
   "metadata": {},
   "outputs": [],
   "source": [
    "# Prepare News headlines\n",
    "def clean_text(df, column):\n",
    "    import re \n",
    "    #(\"\".join(headline)).strip()\n",
    "    headline = []\n",
    "    for i in df[column].apply(lambda x: '<s>'+x+'<\\s>'):\n",
    "        headline.append(i)\n",
    "    return headline\n",
    "\n",
    "# get sequences of equal length to ensure <\\s is at the end\n",
    "def extract_end(char_seq, seq_len):\n",
    "    if len(char_seq) > seq_len:\n",
    "        char_seq = char_seq[:seq_len] #char_seq[-seq_len:]\n",
    "    return char_seq\n",
    "\n",
    "# Encode to integers by using ascii 128\n",
    "def encode2bytes(text):\n",
    "    #text = tf.strings.unicode_split(text, 'UTF-8').to_list()\n",
    "    final_list = []\n",
    "    for sent in text:\n",
    "        temp_list = []\n",
    "        for char in sent:\n",
    "            if ord(char) < 128 :\n",
    "                temp_list.append(ord(char))\n",
    "        final_list.append(temp_list)\n",
    "    return final_list\n",
    "\n",
    "def split_X_y(text):\n",
    "    X = []\n",
    "    y = []\n",
    "    for i in text:\n",
    "        X.append(i[0:-1])\n",
    "        y.append(i[1:])\n",
    "    return X,y\n",
    "\n",
    "def to_bytes(sequence):\n",
    "    byte_text = []\n",
    "    for i in data.headline:\n",
    "        i = i.encode('utf-8')\n",
    "        byte_text.append(i)\n",
    "    return byte_text"
   ]
  },
  {
   "cell_type": "code",
   "execution_count": 10,
   "metadata": {},
   "outputs": [],
   "source": [
    "# fix random seed for reproducibility\n",
    "K.clear_session()\n",
    "tf.keras.backend.clear_session()\n",
    "np.random.seed(42)\n",
    "tf.random.set_seed(42)"
   ]
  },
  {
   "cell_type": "code",
   "execution_count": 11,
   "metadata": {},
   "outputs": [],
   "source": [
    "idx = pd.IndexSlice\n",
    "max_length = 1000"
   ]
  },
  {
   "cell_type": "code",
   "execution_count": 12,
   "metadata": {},
   "outputs": [],
   "source": [
    "# Get data\n",
    "# with pd.HDFStore('./model_data.h5', mode = 'r') as data:\n",
    "#     print(data.keys())\n",
    "#     data = data['model_data/daily']\n",
    "#     data.headline = data.headline.apply(lambda x: extract_end(x, max_length))\n",
    "#     data['headline'] = data.headline.apply(lambda x: '<s>' + x + '<\\s')\n",
    "#     X = data.loc[:,'headline']\n",
    "#     y = data.loc[:, 'label']\n",
    "#     y[y<0] = 0\n",
    "#     print(y.unique())\n",
    "filename = \"firas_lm_dataset.csv\"\n",
    "\n",
    "data = pd.read_csv(filename,\n",
    "                 header = 0, \n",
    "                 encoding=\"utf-8\", encoding_errors=\"replace\", compression = 'gzip', index_col=['ticker','time'])\n",
    "data.headline = data.headline.apply(lambda x: extract_end(x, max_length))\n",
    "data['headline'] = data.headline.apply(lambda x: '<s>' + x + '<\\s')\n",
    "data.Signal = data.Signal.replace({1:2, 0:1, -1:0})"
   ]
  },
  {
   "cell_type": "markdown",
   "metadata": {},
   "source": [
    "In TensorFlow, the `SparseCategoricalCrossentropy` loss function expects the labels to be integers in the range [0, num_classes - 1]. In your case, the labels are [0, 1, 2], which do not meet this requirement.  \n",
    "   \n",
    "So, you have two options if you want to keep your labels as [0, 1, 2]:  \n",
    "   \n",
    "1. Custom loss function: You can write a loss function that can handle your labels correctly. This requires a good understanding of how to compute the loss for your specific problem.  \n",
    "   \n",
    "2. One-hot encoding: This is a process by which categorical variables are converted into a form that could be provided to machine learning algorithms to improve their performance. In your case, you could convert your labels [0, 1, 2] into a binary vector representation:  \n",
    "  \n",
    "   -  0 could be [1, 0, 0]  \n",
    "   -  1 could be [0, 1, 0]  \n",
    "   -  2 could be [0, 0, 1]  \n",
    "   \n",
    "Then, you can use the `CategoricalCrossentropy` loss function, which works with one-hot encoded labels.   \n",
    "  \n",
    "Here is an example of how to one-hot encode your labels using `tensorflow.keras.utils.to_categorical`:  \n",
    "   \n",
    "```python  \n",
    "from tensorflow.keras.utils import to_categorical  \n",
    "   \n",
    "# Assuming y is your array of labels  \n",
    "y_encoded = to_categorical(y + 1, num_classes=3)  #[-1,0,1]\n",
    "y_encoded = to_categorical(y, num_classes=3)  #[0,1,2]\n",
    "```  \n",
    "   \n",
    "In this case, we are adding 1 to all labels to transform them into the range [0, 2] before one-hot encoding. The resulting `y_encoded` will be suitable for training your model with `CategoricalCrossentropy` loss."
   ]
  },
  {
   "cell_type": "code",
   "execution_count": 13,
   "metadata": {},
   "outputs": [
    {
     "data": {
      "text/html": [
       "<div>\n",
       "<style scoped>\n",
       "    .dataframe tbody tr th:only-of-type {\n",
       "        vertical-align: middle;\n",
       "    }\n",
       "\n",
       "    .dataframe tbody tr th {\n",
       "        vertical-align: top;\n",
       "    }\n",
       "\n",
       "    .dataframe thead th {\n",
       "        text-align: right;\n",
       "    }\n",
       "</style>\n",
       "<table border=\"1\" class=\"dataframe\">\n",
       "  <thead>\n",
       "    <tr style=\"text-align: right;\">\n",
       "      <th></th>\n",
       "      <th></th>\n",
       "      <th>headline</th>\n",
       "      <th>Open</th>\n",
       "      <th>Close</th>\n",
       "      <th>returns</th>\n",
       "      <th>label</th>\n",
       "      <th>Signal</th>\n",
       "      <th>n_Characters</th>\n",
       "      <th>Partition</th>\n",
       "    </tr>\n",
       "    <tr>\n",
       "      <th>ticker</th>\n",
       "      <th>time</th>\n",
       "      <th></th>\n",
       "      <th></th>\n",
       "      <th></th>\n",
       "      <th></th>\n",
       "      <th></th>\n",
       "      <th></th>\n",
       "      <th></th>\n",
       "      <th></th>\n",
       "    </tr>\n",
       "  </thead>\n",
       "  <tbody>\n",
       "    <tr>\n",
       "      <th rowspan=\"5\" valign=\"top\">A</th>\n",
       "      <th>2019-07-11</th>\n",
       "      <td>&lt;s&gt;Delivery Of Ionization Auxiliary Equipment ...</td>\n",
       "      <td>1146.160034</td>\n",
       "      <td>1144.079956</td>\n",
       "      <td>0.001101</td>\n",
       "      <td>1.0</td>\n",
       "      <td>1</td>\n",
       "      <td>1441</td>\n",
       "      <td>Test</td>\n",
       "    </tr>\n",
       "    <tr>\n",
       "      <th>2019-07-12</th>\n",
       "      <td>&lt;s&gt;Epa Do Agilent 7250 Gc/q-tof Mass Spectrome...</td>\n",
       "      <td>1142.930054</td>\n",
       "      <td>1145.339966</td>\n",
       "      <td>0.004514</td>\n",
       "      <td>1.0</td>\n",
       "      <td>1</td>\n",
       "      <td>278</td>\n",
       "      <td>Test</td>\n",
       "    </tr>\n",
       "    <tr>\n",
       "      <th>2019-07-16</th>\n",
       "      <td>&lt;s&gt;AGILENT TECHNOLOGIES INC &lt;A.N&gt;: EVERCORE IS...</td>\n",
       "      <td>1146.729980</td>\n",
       "      <td>1153.459961</td>\n",
       "      <td>-0.005826</td>\n",
       "      <td>0.0</td>\n",
       "      <td>1</td>\n",
       "      <td>78</td>\n",
       "      <td>Test</td>\n",
       "    </tr>\n",
       "    <tr>\n",
       "      <th>2019-07-17</th>\n",
       "      <td>&lt;s&gt;Procurement Of Spares And Consumables For T...</td>\n",
       "      <td>1150.920044</td>\n",
       "      <td>1146.739990</td>\n",
       "      <td>0.000436</td>\n",
       "      <td>1.0</td>\n",
       "      <td>1</td>\n",
       "      <td>159</td>\n",
       "      <td>Test</td>\n",
       "    </tr>\n",
       "    <tr>\n",
       "      <th>2019-07-18</th>\n",
       "      <td>&lt;s&gt;NYSE ORDER IMBALANCE &lt;A.N&gt; 68900.0 SHARES O...</td>\n",
       "      <td>1142.000000</td>\n",
       "      <td>1147.239990</td>\n",
       "      <td>-0.013676</td>\n",
       "      <td>0.0</td>\n",
       "      <td>0</td>\n",
       "      <td>53</td>\n",
       "      <td>Test</td>\n",
       "    </tr>\n",
       "    <tr>\n",
       "      <th rowspan=\"5\" valign=\"top\">ZTS</th>\n",
       "      <th>2020-09-28</th>\n",
       "      <td>&lt;s&gt;NYSE ORDER IMBALANCE &lt;ZTS.N&gt; 59715.0 SHARES...</td>\n",
       "      <td>162.380005</td>\n",
       "      <td>161.320007</td>\n",
       "      <td>0.007191</td>\n",
       "      <td>1.0</td>\n",
       "      <td>1</td>\n",
       "      <td>56</td>\n",
       "      <td>Train</td>\n",
       "    </tr>\n",
       "    <tr>\n",
       "      <th>2020-09-30</th>\n",
       "      <td>&lt;s&gt;Zoetis to Host Webcast and Conference Call ...</td>\n",
       "      <td>162.919998</td>\n",
       "      <td>165.369995</td>\n",
       "      <td>-0.008103</td>\n",
       "      <td>0.0</td>\n",
       "      <td>1</td>\n",
       "      <td>139</td>\n",
       "      <td>Train</td>\n",
       "    </tr>\n",
       "    <tr>\n",
       "      <th>2020-10-07</th>\n",
       "      <td>&lt;s&gt;Sachem Head takes $1.2 bln position in Elan...</td>\n",
       "      <td>163.350006</td>\n",
       "      <td>159.910004</td>\n",
       "      <td>0.020386</td>\n",
       "      <td>1.0</td>\n",
       "      <td>2</td>\n",
       "      <td>110</td>\n",
       "      <td>Inference</td>\n",
       "    </tr>\n",
       "    <tr>\n",
       "      <th>2020-10-09</th>\n",
       "      <td>&lt;s&gt;NYSE ORDER IMBALANCE &lt;ZTS.N&gt; 230640.0 SHARE...</td>\n",
       "      <td>163.979996</td>\n",
       "      <td>165.429993</td>\n",
       "      <td>0.018860</td>\n",
       "      <td>1.0</td>\n",
       "      <td>2</td>\n",
       "      <td>57</td>\n",
       "      <td>Inference</td>\n",
       "    </tr>\n",
       "    <tr>\n",
       "      <th>2020-10-12</th>\n",
       "      <td>&lt;s&gt;ZOETIS INC &lt;ZTS.N&gt;: CREDIT SUISSE RAISES PR...</td>\n",
       "      <td>167.080002</td>\n",
       "      <td>168.550003</td>\n",
       "      <td>-0.019163</td>\n",
       "      <td>0.0</td>\n",
       "      <td>0</td>\n",
       "      <td>210</td>\n",
       "      <td>Inference</td>\n",
       "    </tr>\n",
       "  </tbody>\n",
       "</table>\n",
       "</div>"
      ],
      "text/plain": [
       "                                                            headline  \\\n",
       "ticker time                                                            \n",
       "A      2019-07-11  <s>Delivery Of Ionization Auxiliary Equipment ...   \n",
       "       2019-07-12  <s>Epa Do Agilent 7250 Gc/q-tof Mass Spectrome...   \n",
       "       2019-07-16  <s>AGILENT TECHNOLOGIES INC <A.N>: EVERCORE IS...   \n",
       "       2019-07-17  <s>Procurement Of Spares And Consumables For T...   \n",
       "       2019-07-18  <s>NYSE ORDER IMBALANCE <A.N> 68900.0 SHARES O...   \n",
       "ZTS    2020-09-28  <s>NYSE ORDER IMBALANCE <ZTS.N> 59715.0 SHARES...   \n",
       "       2020-09-30  <s>Zoetis to Host Webcast and Conference Call ...   \n",
       "       2020-10-07  <s>Sachem Head takes $1.2 bln position in Elan...   \n",
       "       2020-10-09  <s>NYSE ORDER IMBALANCE <ZTS.N> 230640.0 SHARE...   \n",
       "       2020-10-12  <s>ZOETIS INC <ZTS.N>: CREDIT SUISSE RAISES PR...   \n",
       "\n",
       "                          Open        Close   returns  label  Signal  \\\n",
       "ticker time                                                            \n",
       "A      2019-07-11  1146.160034  1144.079956  0.001101    1.0       1   \n",
       "       2019-07-12  1142.930054  1145.339966  0.004514    1.0       1   \n",
       "       2019-07-16  1146.729980  1153.459961 -0.005826    0.0       1   \n",
       "       2019-07-17  1150.920044  1146.739990  0.000436    1.0       1   \n",
       "       2019-07-18  1142.000000  1147.239990 -0.013676    0.0       0   \n",
       "ZTS    2020-09-28   162.380005   161.320007  0.007191    1.0       1   \n",
       "       2020-09-30   162.919998   165.369995 -0.008103    0.0       1   \n",
       "       2020-10-07   163.350006   159.910004  0.020386    1.0       2   \n",
       "       2020-10-09   163.979996   165.429993  0.018860    1.0       2   \n",
       "       2020-10-12   167.080002   168.550003 -0.019163    0.0       0   \n",
       "\n",
       "                   n_Characters  Partition  \n",
       "ticker time                                 \n",
       "A      2019-07-11          1441       Test  \n",
       "       2019-07-12           278       Test  \n",
       "       2019-07-16            78       Test  \n",
       "       2019-07-17           159       Test  \n",
       "       2019-07-18            53       Test  \n",
       "ZTS    2020-09-28            56      Train  \n",
       "       2020-09-30           139      Train  \n",
       "       2020-10-07           110  Inference  \n",
       "       2020-10-09            57  Inference  \n",
       "       2020-10-12           210  Inference  "
      ]
     },
     "execution_count": 13,
     "metadata": {},
     "output_type": "execute_result"
    }
   ],
   "source": [
    "pd.concat([data.head(),data.tail()])"
   ]
  },
  {
   "cell_type": "code",
   "execution_count": 14,
   "metadata": {
    "scrolled": true
   },
   "outputs": [
    {
     "data": {
      "text/html": [
       "<div>\n",
       "<style scoped>\n",
       "    .dataframe tbody tr th:only-of-type {\n",
       "        vertical-align: middle;\n",
       "    }\n",
       "\n",
       "    .dataframe tbody tr th {\n",
       "        vertical-align: top;\n",
       "    }\n",
       "\n",
       "    .dataframe thead th {\n",
       "        text-align: right;\n",
       "    }\n",
       "</style>\n",
       "<table border=\"1\" class=\"dataframe\">\n",
       "  <thead>\n",
       "    <tr style=\"text-align: right;\">\n",
       "      <th></th>\n",
       "      <th></th>\n",
       "      <th>headline</th>\n",
       "      <th>Open</th>\n",
       "      <th>Close</th>\n",
       "      <th>returns</th>\n",
       "      <th>label</th>\n",
       "      <th>Signal</th>\n",
       "      <th>n_Characters</th>\n",
       "      <th>Partition</th>\n",
       "    </tr>\n",
       "    <tr>\n",
       "      <th>ticker</th>\n",
       "      <th>time</th>\n",
       "      <th></th>\n",
       "      <th></th>\n",
       "      <th></th>\n",
       "      <th></th>\n",
       "      <th></th>\n",
       "      <th></th>\n",
       "      <th></th>\n",
       "      <th></th>\n",
       "    </tr>\n",
       "  </thead>\n",
       "  <tbody>\n",
       "    <tr>\n",
       "      <th rowspan=\"5\" valign=\"top\">A</th>\n",
       "      <th>2020-10-01</th>\n",
       "      <td>&lt;s&gt;AGILENT TECHNOLOGIES, INC. -- S-8&lt;\\s</td>\n",
       "      <td>101.769997</td>\n",
       "      <td>101.220001</td>\n",
       "      <td>-0.011954</td>\n",
       "      <td>0.0</td>\n",
       "      <td>0</td>\n",
       "      <td>33</td>\n",
       "      <td>Inference</td>\n",
       "    </tr>\n",
       "    <tr>\n",
       "      <th>2020-10-02</th>\n",
       "      <td>&lt;s&gt;The Replacement Of Sampler Handler Assembly...</td>\n",
       "      <td>100.209999</td>\n",
       "      <td>100.010002</td>\n",
       "      <td>0.031097</td>\n",
       "      <td>1.0</td>\n",
       "      <td>2</td>\n",
       "      <td>149</td>\n",
       "      <td>Inference</td>\n",
       "    </tr>\n",
       "    <tr>\n",
       "      <th>2020-10-08</th>\n",
       "      <td>&lt;s&gt;Agilent Measurement Suite celebrates early ...</td>\n",
       "      <td>104.199997</td>\n",
       "      <td>104.160004</td>\n",
       "      <td>0.015361</td>\n",
       "      <td>1.0</td>\n",
       "      <td>2</td>\n",
       "      <td>164</td>\n",
       "      <td>Inference</td>\n",
       "    </tr>\n",
       "    <tr>\n",
       "      <th>2020-10-09</th>\n",
       "      <td>&lt;s&gt;Spare Parts For Equipment Manufactured By A...</td>\n",
       "      <td>104.830002</td>\n",
       "      <td>105.760002</td>\n",
       "      <td>-0.003120</td>\n",
       "      <td>0.0</td>\n",
       "      <td>1</td>\n",
       "      <td>104</td>\n",
       "      <td>Inference</td>\n",
       "    </tr>\n",
       "    <tr>\n",
       "      <th>2020-10-13</th>\n",
       "      <td>&lt;s&gt;NYSE ORDER IMBALANCE &lt;A.N&gt; 50070.0 SHARES O...</td>\n",
       "      <td>105.720001</td>\n",
       "      <td>105.419998</td>\n",
       "      <td>-0.003415</td>\n",
       "      <td>0.0</td>\n",
       "      <td>1</td>\n",
       "      <td>54</td>\n",
       "      <td>Inference</td>\n",
       "    </tr>\n",
       "    <tr>\n",
       "      <th rowspan=\"8\" valign=\"top\">AAL</th>\n",
       "      <th>2020-10-01</th>\n",
       "      <td>&lt;s&gt;American Airlines says it will begin furlou...</td>\n",
       "      <td>12.410000</td>\n",
       "      <td>12.580000</td>\n",
       "      <td>0.033386</td>\n",
       "      <td>1.0</td>\n",
       "      <td>2</td>\n",
       "      <td>1216</td>\n",
       "      <td>Inference</td>\n",
       "    </tr>\n",
       "    <tr>\n",
       "      <th>2020-10-02</th>\n",
       "      <td>&lt;s&gt;Refinitiv Newscasts - Airlines push ahead w...</td>\n",
       "      <td>12.050000</td>\n",
       "      <td>13.000000</td>\n",
       "      <td>0.009231</td>\n",
       "      <td>1.0</td>\n",
       "      <td>1</td>\n",
       "      <td>1159</td>\n",
       "      <td>Inference</td>\n",
       "    </tr>\n",
       "    <tr>\n",
       "      <th>2020-10-05</th>\n",
       "      <td>&lt;s&gt;American Airlines Adds Costa Rica to Prefli...</td>\n",
       "      <td>13.090000</td>\n",
       "      <td>13.120000</td>\n",
       "      <td>-0.044970</td>\n",
       "      <td>0.0</td>\n",
       "      <td>0</td>\n",
       "      <td>465</td>\n",
       "      <td>Inference</td>\n",
       "    </tr>\n",
       "    <tr>\n",
       "      <th>2020-10-06</th>\n",
       "      <td>&lt;s&gt;AMERICAN AIRLINES DELAYS PLAN TO START BOEI...</td>\n",
       "      <td>13.270000</td>\n",
       "      <td>12.530000</td>\n",
       "      <td>0.043097</td>\n",
       "      <td>1.0</td>\n",
       "      <td>2</td>\n",
       "      <td>440</td>\n",
       "      <td>Inference</td>\n",
       "    </tr>\n",
       "    <tr>\n",
       "      <th>2020-10-07</th>\n",
       "      <td>&lt;s&gt;BUZZ-U.S. airlines rebound as Trump pushes ...</td>\n",
       "      <td>12.960000</td>\n",
       "      <td>13.070000</td>\n",
       "      <td>0.006121</td>\n",
       "      <td>1.0</td>\n",
       "      <td>1</td>\n",
       "      <td>1403</td>\n",
       "      <td>Inference</td>\n",
       "    </tr>\n",
       "    <tr>\n",
       "      <th>2020-10-08</th>\n",
       "      <td>&lt;s&gt;BUZZ-U.S. STOCKS ON THE MOVE-Eaton Vance, I...</td>\n",
       "      <td>13.370000</td>\n",
       "      <td>13.150000</td>\n",
       "      <td>0.003802</td>\n",
       "      <td>1.0</td>\n",
       "      <td>1</td>\n",
       "      <td>1726</td>\n",
       "      <td>Inference</td>\n",
       "    </tr>\n",
       "    <tr>\n",
       "      <th>2020-10-09</th>\n",
       "      <td>&lt;s&gt;MCCONNELL SAYS AIRLINE AID SHOULD BE PART O...</td>\n",
       "      <td>13.250000</td>\n",
       "      <td>13.200000</td>\n",
       "      <td>-0.021212</td>\n",
       "      <td>0.0</td>\n",
       "      <td>0</td>\n",
       "      <td>924</td>\n",
       "      <td>Inference</td>\n",
       "    </tr>\n",
       "    <tr>\n",
       "      <th>2020-10-12</th>\n",
       "      <td>&lt;s&gt;Refinitiv Newscasts - Flying during the COV...</td>\n",
       "      <td>13.140000</td>\n",
       "      <td>12.920000</td>\n",
       "      <td>-0.054180</td>\n",
       "      <td>0.0</td>\n",
       "      <td>0</td>\n",
       "      <td>173</td>\n",
       "      <td>Inference</td>\n",
       "    </tr>\n",
       "    <tr>\n",
       "      <th rowspan=\"3\" valign=\"top\">AAP</th>\n",
       "      <th>2020-10-01</th>\n",
       "      <td>&lt;s&gt;Hot Shot’s Secret Everyday Diesel Treatment...</td>\n",
       "      <td>154.639999</td>\n",
       "      <td>154.850006</td>\n",
       "      <td>0.004198</td>\n",
       "      <td>1.0</td>\n",
       "      <td>1</td>\n",
       "      <td>116</td>\n",
       "      <td>Inference</td>\n",
       "    </tr>\n",
       "    <tr>\n",
       "      <th>2020-10-02</th>\n",
       "      <td>&lt;s&gt;Advance Auto Parts Names Mann + Hummel 2020...</td>\n",
       "      <td>152.240005</td>\n",
       "      <td>155.500000</td>\n",
       "      <td>0.002315</td>\n",
       "      <td>1.0</td>\n",
       "      <td>1</td>\n",
       "      <td>242</td>\n",
       "      <td>Inference</td>\n",
       "    </tr>\n",
       "    <tr>\n",
       "      <th>2020-10-06</th>\n",
       "      <td>&lt;s&gt;ADVANCE AUTO PARTS INC &lt;AAP.N&gt;: JP MORGAN R...</td>\n",
       "      <td>160.259995</td>\n",
       "      <td>155.160004</td>\n",
       "      <td>0.010634</td>\n",
       "      <td>1.0</td>\n",
       "      <td>2</td>\n",
       "      <td>155</td>\n",
       "      <td>Inference</td>\n",
       "    </tr>\n",
       "    <tr>\n",
       "      <th rowspan=\"9\" valign=\"top\">AAPL</th>\n",
       "      <th>2020-10-01</th>\n",
       "      <td>&lt;s&gt;Zuckerberg eyes augmented reality as the fu...</td>\n",
       "      <td>117.629997</td>\n",
       "      <td>116.790001</td>\n",
       "      <td>-0.032280</td>\n",
       "      <td>0.0</td>\n",
       "      <td>0</td>\n",
       "      <td>1387</td>\n",
       "      <td>Inference</td>\n",
       "    </tr>\n",
       "    <tr>\n",
       "      <th>2020-10-02</th>\n",
       "      <td>&lt;s&gt;Apple working on foldable iPhone with 'self...</td>\n",
       "      <td>112.889999</td>\n",
       "      <td>113.019997</td>\n",
       "      <td>0.030791</td>\n",
       "      <td>1.0</td>\n",
       "      <td>2</td>\n",
       "      <td>1015</td>\n",
       "      <td>Inference</td>\n",
       "    </tr>\n",
       "    <tr>\n",
       "      <th>2020-10-05</th>\n",
       "      <td>&lt;s&gt;Apple, Google tracing apps limited Google, ...</td>\n",
       "      <td>113.910004</td>\n",
       "      <td>116.500000</td>\n",
       "      <td>-0.028669</td>\n",
       "      <td>0.0</td>\n",
       "      <td>0</td>\n",
       "      <td>1410</td>\n",
       "      <td>Inference</td>\n",
       "    </tr>\n",
       "    <tr>\n",
       "      <th>2020-10-06</th>\n",
       "      <td>&lt;s&gt;BUZZ-Logitech shares slip on reports of App...</td>\n",
       "      <td>115.800003</td>\n",
       "      <td>113.160004</td>\n",
       "      <td>0.016967</td>\n",
       "      <td>1.0</td>\n",
       "      <td>2</td>\n",
       "      <td>2503</td>\n",
       "      <td>Inference</td>\n",
       "    </tr>\n",
       "    <tr>\n",
       "      <th>2020-10-07</th>\n",
       "      <td>&lt;s&gt;UPDATE 6-U.S. lawmakers detail Big Tech's m...</td>\n",
       "      <td>114.699997</td>\n",
       "      <td>115.080002</td>\n",
       "      <td>-0.000956</td>\n",
       "      <td>0.0</td>\n",
       "      <td>1</td>\n",
       "      <td>1777</td>\n",
       "      <td>Inference</td>\n",
       "    </tr>\n",
       "    <tr>\n",
       "      <th>2020-10-08</th>\n",
       "      <td>&lt;s&gt;Pomerantz Law Firm Achieves Victory on Beha...</td>\n",
       "      <td>116.199997</td>\n",
       "      <td>114.970001</td>\n",
       "      <td>0.017396</td>\n",
       "      <td>1.0</td>\n",
       "      <td>2</td>\n",
       "      <td>1765</td>\n",
       "      <td>Inference</td>\n",
       "    </tr>\n",
       "    <tr>\n",
       "      <th>2020-10-09</th>\n",
       "      <td>&lt;s&gt;Refinitiv Newscasts - Blockchain Interviews...</td>\n",
       "      <td>115.279999</td>\n",
       "      <td>116.970001</td>\n",
       "      <td>0.063521</td>\n",
       "      <td>1.0</td>\n",
       "      <td>2</td>\n",
       "      <td>1321</td>\n",
       "      <td>Inference</td>\n",
       "    </tr>\n",
       "    <tr>\n",
       "      <th>2020-10-12</th>\n",
       "      <td>&lt;s&gt;PRESS DIGEST- Financial Times - Oct. 12 APP...</td>\n",
       "      <td>120.019997</td>\n",
       "      <td>124.400002</td>\n",
       "      <td>-0.026527</td>\n",
       "      <td>0.0</td>\n",
       "      <td>0</td>\n",
       "      <td>1670</td>\n",
       "      <td>Inference</td>\n",
       "    </tr>\n",
       "    <tr>\n",
       "      <th>2020-10-13</th>\n",
       "      <td>&lt;s&gt;APPLE INC SAYS EVERY NEW IPHONE WILL FEATUR...</td>\n",
       "      <td>125.320000</td>\n",
       "      <td>121.099998</td>\n",
       "      <td>0.000743</td>\n",
       "      <td>1.0</td>\n",
       "      <td>1</td>\n",
       "      <td>6427</td>\n",
       "      <td>Inference</td>\n",
       "    </tr>\n",
       "    <tr>\n",
       "      <th rowspan=\"9\" valign=\"top\">ABBV</th>\n",
       "      <th>2020-10-01</th>\n",
       "      <td>&lt;s&gt;Public coverage of AbbVie's SKYRIZI® for th...</td>\n",
       "      <td>88.000000</td>\n",
       "      <td>87.139999</td>\n",
       "      <td>-0.011705</td>\n",
       "      <td>0.0</td>\n",
       "      <td>0</td>\n",
       "      <td>793</td>\n",
       "      <td>Inference</td>\n",
       "    </tr>\n",
       "    <tr>\n",
       "      <th>2020-10-02</th>\n",
       "      <td>&lt;s&gt;AbbVie to Present New Data From 15 Abstract...</td>\n",
       "      <td>86.500000</td>\n",
       "      <td>86.120003</td>\n",
       "      <td>0.021017</td>\n",
       "      <td>1.0</td>\n",
       "      <td>2</td>\n",
       "      <td>765</td>\n",
       "      <td>Inference</td>\n",
       "    </tr>\n",
       "    <tr>\n",
       "      <th>2020-10-05</th>\n",
       "      <td>&lt;s&gt;SHAREHOLDER ACTION REMINDER: The Schall Law...</td>\n",
       "      <td>86.489998</td>\n",
       "      <td>87.930000</td>\n",
       "      <td>-0.023200</td>\n",
       "      <td>0.0</td>\n",
       "      <td>0</td>\n",
       "      <td>580</td>\n",
       "      <td>Inference</td>\n",
       "    </tr>\n",
       "    <tr>\n",
       "      <th>2020-10-06</th>\n",
       "      <td>&lt;s&gt;AbbVie to Host Third-Quarter 2020 Earnings ...</td>\n",
       "      <td>87.970001</td>\n",
       "      <td>85.889999</td>\n",
       "      <td>0.013739</td>\n",
       "      <td>1.0</td>\n",
       "      <td>2</td>\n",
       "      <td>165</td>\n",
       "      <td>Inference</td>\n",
       "    </tr>\n",
       "    <tr>\n",
       "      <th>2020-10-07</th>\n",
       "      <td>&lt;s&gt;Allergan Aesthetics, an AbbVie Company, Acq...</td>\n",
       "      <td>86.110001</td>\n",
       "      <td>87.070000</td>\n",
       "      <td>0.003101</td>\n",
       "      <td>1.0</td>\n",
       "      <td>1</td>\n",
       "      <td>864</td>\n",
       "      <td>Inference</td>\n",
       "    </tr>\n",
       "    <tr>\n",
       "      <th>2020-10-08</th>\n",
       "      <td>&lt;s&gt;Allergan, an AbbVie Company, and Von Miller...</td>\n",
       "      <td>87.279999</td>\n",
       "      <td>87.339996</td>\n",
       "      <td>0.004122</td>\n",
       "      <td>1.0</td>\n",
       "      <td>1</td>\n",
       "      <td>180</td>\n",
       "      <td>Inference</td>\n",
       "    </tr>\n",
       "    <tr>\n",
       "      <th>2020-10-09</th>\n",
       "      <td>&lt;s&gt;Allergan Aesthetics To Present Data From 4 ...</td>\n",
       "      <td>87.410004</td>\n",
       "      <td>87.699997</td>\n",
       "      <td>0.007070</td>\n",
       "      <td>1.0</td>\n",
       "      <td>1</td>\n",
       "      <td>592</td>\n",
       "      <td>Inference</td>\n",
       "    </tr>\n",
       "    <tr>\n",
       "      <th>2020-10-12</th>\n",
       "      <td>&lt;s&gt;AbbVie - Allergan Aesthetics to Present Dat...</td>\n",
       "      <td>88.199997</td>\n",
       "      <td>88.320000</td>\n",
       "      <td>-0.005548</td>\n",
       "      <td>0.0</td>\n",
       "      <td>1</td>\n",
       "      <td>190</td>\n",
       "      <td>Inference</td>\n",
       "    </tr>\n",
       "    <tr>\n",
       "      <th>2020-10-13</th>\n",
       "      <td>&lt;s&gt;NIH SAYS TRIAL WILL TEST RISANKIZUMAB, IN C...</td>\n",
       "      <td>87.919998</td>\n",
       "      <td>87.830002</td>\n",
       "      <td>-0.020039</td>\n",
       "      <td>0.0</td>\n",
       "      <td>0</td>\n",
       "      <td>346</td>\n",
       "      <td>Inference</td>\n",
       "    </tr>\n",
       "    <tr>\n",
       "      <th rowspan=\"5\" valign=\"top\">ABC</th>\n",
       "      <th>2020-10-01</th>\n",
       "      <td>&lt;s&gt;BRIEF-HHS Says Gilead Anticipates Producing...</td>\n",
       "      <td>97.129997</td>\n",
       "      <td>95.360001</td>\n",
       "      <td>0.000210</td>\n",
       "      <td>1.0</td>\n",
       "      <td>1</td>\n",
       "      <td>167</td>\n",
       "      <td>Inference</td>\n",
       "    </tr>\n",
       "    <tr>\n",
       "      <th>2020-10-05</th>\n",
       "      <td>&lt;s&gt;AmerisourceBergen Corporation - ION &amp; IPN S...</td>\n",
       "      <td>95.769997</td>\n",
       "      <td>96.389999</td>\n",
       "      <td>-0.007885</td>\n",
       "      <td>0.0</td>\n",
       "      <td>1</td>\n",
       "      <td>243</td>\n",
       "      <td>Inference</td>\n",
       "    </tr>\n",
       "    <tr>\n",
       "      <th>2020-10-06</th>\n",
       "      <td>&lt;s&gt;AmerisourceBergen Announces Date and Time f...</td>\n",
       "      <td>97.199997</td>\n",
       "      <td>95.629997</td>\n",
       "      <td>-0.000418</td>\n",
       "      <td>0.0</td>\n",
       "      <td>1</td>\n",
       "      <td>89</td>\n",
       "      <td>Inference</td>\n",
       "    </tr>\n",
       "    <tr>\n",
       "      <th>2020-10-12</th>\n",
       "      <td>&lt;s&gt;AMERISOURCEBERGEN CORP &lt;ABC.N&gt; : EVERCORE I...</td>\n",
       "      <td>97.379997</td>\n",
       "      <td>96.860001</td>\n",
       "      <td>0.004233</td>\n",
       "      <td>1.0</td>\n",
       "      <td>1</td>\n",
       "      <td>81</td>\n",
       "      <td>Inference</td>\n",
       "    </tr>\n",
       "    <tr>\n",
       "      <th>2020-10-13</th>\n",
       "      <td>&lt;s&gt;MWI Animal Health Selects CVP Impack Automa...</td>\n",
       "      <td>96.199997</td>\n",
       "      <td>97.269997</td>\n",
       "      <td>0.012028</td>\n",
       "      <td>1.0</td>\n",
       "      <td>2</td>\n",
       "      <td>106</td>\n",
       "      <td>Inference</td>\n",
       "    </tr>\n",
       "    <tr>\n",
       "      <th rowspan=\"3\" valign=\"top\">ABMD</th>\n",
       "      <th>2020-10-08</th>\n",
       "      <td>&lt;s&gt;TCT Connect to Highlight How Impella Enable...</td>\n",
       "      <td>271.000000</td>\n",
       "      <td>271.200012</td>\n",
       "      <td>0.008702</td>\n",
       "      <td>1.0</td>\n",
       "      <td>1</td>\n",
       "      <td>209</td>\n",
       "      <td>Inference</td>\n",
       "    </tr>\n",
       "    <tr>\n",
       "      <th>2020-10-09</th>\n",
       "      <td>&lt;s&gt;ABIOMED INC -- SC 13G/A ABIOMED - TCT Conne...</td>\n",
       "      <td>273.299988</td>\n",
       "      <td>273.559998</td>\n",
       "      <td>0.015682</td>\n",
       "      <td>1.0</td>\n",
       "      <td>2</td>\n",
       "      <td>166</td>\n",
       "      <td>Inference</td>\n",
       "    </tr>\n",
       "    <tr>\n",
       "      <th>2020-10-12</th>\n",
       "      <td>&lt;s&gt;ABIOMED INC &lt;ABMD.O&gt; : SVB LEERINK CUTS TAR...</td>\n",
       "      <td>274.799988</td>\n",
       "      <td>277.850006</td>\n",
       "      <td>-0.003239</td>\n",
       "      <td>0.0</td>\n",
       "      <td>1</td>\n",
       "      <td>70</td>\n",
       "      <td>Inference</td>\n",
       "    </tr>\n",
       "    <tr>\n",
       "      <th rowspan=\"8\" valign=\"top\">ABT</th>\n",
       "      <th>2020-10-01</th>\n",
       "      <td>&lt;s&gt;Refinitiv Newscasts - Navigating the econom...</td>\n",
       "      <td>109.180000</td>\n",
       "      <td>108.639999</td>\n",
       "      <td>-0.019698</td>\n",
       "      <td>0.0</td>\n",
       "      <td>0</td>\n",
       "      <td>578</td>\n",
       "      <td>Inference</td>\n",
       "    </tr>\n",
       "    <tr>\n",
       "      <th>2020-10-02</th>\n",
       "      <td>&lt;s&gt;Abbott's Libre 3 Receives CE Mark, Boosts C...</td>\n",
       "      <td>107.680000</td>\n",
       "      <td>106.500000</td>\n",
       "      <td>0.019343</td>\n",
       "      <td>1.0</td>\n",
       "      <td>2</td>\n",
       "      <td>409</td>\n",
       "      <td>Inference</td>\n",
       "    </tr>\n",
       "    <tr>\n",
       "      <th>2020-10-05</th>\n",
       "      <td>&lt;s&gt;NYSE ORDER IMBALANCE &lt;ABT.N&gt; 227300.0 SHARE...</td>\n",
       "      <td>107.180000</td>\n",
       "      <td>108.559998</td>\n",
       "      <td>-0.021279</td>\n",
       "      <td>0.0</td>\n",
       "      <td>0</td>\n",
       "      <td>407</td>\n",
       "      <td>Inference</td>\n",
       "    </tr>\n",
       "    <tr>\n",
       "      <th>2020-10-06</th>\n",
       "      <td>&lt;s&gt;CANADA HAS SIGNED A DEAL WITH ABBOTT RAPID ...</td>\n",
       "      <td>108.559998</td>\n",
       "      <td>106.250000</td>\n",
       "      <td>0.014024</td>\n",
       "      <td>1.0</td>\n",
       "      <td>2</td>\n",
       "      <td>370</td>\n",
       "      <td>Inference</td>\n",
       "    </tr>\n",
       "    <tr>\n",
       "      <th>2020-10-07</th>\n",
       "      <td>&lt;s&gt;ABBOTT LABORATORIES &lt;ABT.N&gt; : WELLS FARGO R...</td>\n",
       "      <td>107.360001</td>\n",
       "      <td>107.739998</td>\n",
       "      <td>0.007425</td>\n",
       "      <td>1.0</td>\n",
       "      <td>1</td>\n",
       "      <td>1288</td>\n",
       "      <td>Inference</td>\n",
       "    </tr>\n",
       "    <tr>\n",
       "      <th>2020-10-08</th>\n",
       "      <td>&lt;s&gt;Allergy Immunotherapies Market - Actionable...</td>\n",
       "      <td>108.199997</td>\n",
       "      <td>108.540001</td>\n",
       "      <td>0.010227</td>\n",
       "      <td>1.0</td>\n",
       "      <td>2</td>\n",
       "      <td>666</td>\n",
       "      <td>Inference</td>\n",
       "    </tr>\n",
       "    <tr>\n",
       "      <th>2020-10-09</th>\n",
       "      <td>&lt;s&gt;ABBOTT LABORATORIES &lt;ABT.N&gt; : JP MORGAN RAI...</td>\n",
       "      <td>109.339996</td>\n",
       "      <td>109.650002</td>\n",
       "      <td>0.012768</td>\n",
       "      <td>1.0</td>\n",
       "      <td>2</td>\n",
       "      <td>334</td>\n",
       "      <td>Inference</td>\n",
       "    </tr>\n",
       "    <tr>\n",
       "      <th>2020-10-12</th>\n",
       "      <td>&lt;s&gt;REG - Allergy Therapeutics  - Holding(s) in...</td>\n",
       "      <td>110.250000</td>\n",
       "      <td>111.050003</td>\n",
       "      <td>-0.024133</td>\n",
       "      <td>0.0</td>\n",
       "      <td>0</td>\n",
       "      <td>1053</td>\n",
       "      <td>Inference</td>\n",
       "    </tr>\n",
       "  </tbody>\n",
       "</table>\n",
       "</div>"
      ],
      "text/plain": [
       "                                                            headline  \\\n",
       "ticker time                                                            \n",
       "A      2020-10-01            <s>AGILENT TECHNOLOGIES, INC. -- S-8<\\s   \n",
       "       2020-10-02  <s>The Replacement Of Sampler Handler Assembly...   \n",
       "       2020-10-08  <s>Agilent Measurement Suite celebrates early ...   \n",
       "       2020-10-09  <s>Spare Parts For Equipment Manufactured By A...   \n",
       "       2020-10-13  <s>NYSE ORDER IMBALANCE <A.N> 50070.0 SHARES O...   \n",
       "AAL    2020-10-01  <s>American Airlines says it will begin furlou...   \n",
       "       2020-10-02  <s>Refinitiv Newscasts - Airlines push ahead w...   \n",
       "       2020-10-05  <s>American Airlines Adds Costa Rica to Prefli...   \n",
       "       2020-10-06  <s>AMERICAN AIRLINES DELAYS PLAN TO START BOEI...   \n",
       "       2020-10-07  <s>BUZZ-U.S. airlines rebound as Trump pushes ...   \n",
       "       2020-10-08  <s>BUZZ-U.S. STOCKS ON THE MOVE-Eaton Vance, I...   \n",
       "       2020-10-09  <s>MCCONNELL SAYS AIRLINE AID SHOULD BE PART O...   \n",
       "       2020-10-12  <s>Refinitiv Newscasts - Flying during the COV...   \n",
       "AAP    2020-10-01  <s>Hot Shot’s Secret Everyday Diesel Treatment...   \n",
       "       2020-10-02  <s>Advance Auto Parts Names Mann + Hummel 2020...   \n",
       "       2020-10-06  <s>ADVANCE AUTO PARTS INC <AAP.N>: JP MORGAN R...   \n",
       "AAPL   2020-10-01  <s>Zuckerberg eyes augmented reality as the fu...   \n",
       "       2020-10-02  <s>Apple working on foldable iPhone with 'self...   \n",
       "       2020-10-05  <s>Apple, Google tracing apps limited Google, ...   \n",
       "       2020-10-06  <s>BUZZ-Logitech shares slip on reports of App...   \n",
       "       2020-10-07  <s>UPDATE 6-U.S. lawmakers detail Big Tech's m...   \n",
       "       2020-10-08  <s>Pomerantz Law Firm Achieves Victory on Beha...   \n",
       "       2020-10-09  <s>Refinitiv Newscasts - Blockchain Interviews...   \n",
       "       2020-10-12  <s>PRESS DIGEST- Financial Times - Oct. 12 APP...   \n",
       "       2020-10-13  <s>APPLE INC SAYS EVERY NEW IPHONE WILL FEATUR...   \n",
       "ABBV   2020-10-01  <s>Public coverage of AbbVie's SKYRIZI® for th...   \n",
       "       2020-10-02  <s>AbbVie to Present New Data From 15 Abstract...   \n",
       "       2020-10-05  <s>SHAREHOLDER ACTION REMINDER: The Schall Law...   \n",
       "       2020-10-06  <s>AbbVie to Host Third-Quarter 2020 Earnings ...   \n",
       "       2020-10-07  <s>Allergan Aesthetics, an AbbVie Company, Acq...   \n",
       "       2020-10-08  <s>Allergan, an AbbVie Company, and Von Miller...   \n",
       "       2020-10-09  <s>Allergan Aesthetics To Present Data From 4 ...   \n",
       "       2020-10-12  <s>AbbVie - Allergan Aesthetics to Present Dat...   \n",
       "       2020-10-13  <s>NIH SAYS TRIAL WILL TEST RISANKIZUMAB, IN C...   \n",
       "ABC    2020-10-01  <s>BRIEF-HHS Says Gilead Anticipates Producing...   \n",
       "       2020-10-05  <s>AmerisourceBergen Corporation - ION & IPN S...   \n",
       "       2020-10-06  <s>AmerisourceBergen Announces Date and Time f...   \n",
       "       2020-10-12  <s>AMERISOURCEBERGEN CORP <ABC.N> : EVERCORE I...   \n",
       "       2020-10-13  <s>MWI Animal Health Selects CVP Impack Automa...   \n",
       "ABMD   2020-10-08  <s>TCT Connect to Highlight How Impella Enable...   \n",
       "       2020-10-09  <s>ABIOMED INC -- SC 13G/A ABIOMED - TCT Conne...   \n",
       "       2020-10-12  <s>ABIOMED INC <ABMD.O> : SVB LEERINK CUTS TAR...   \n",
       "ABT    2020-10-01  <s>Refinitiv Newscasts - Navigating the econom...   \n",
       "       2020-10-02  <s>Abbott's Libre 3 Receives CE Mark, Boosts C...   \n",
       "       2020-10-05  <s>NYSE ORDER IMBALANCE <ABT.N> 227300.0 SHARE...   \n",
       "       2020-10-06  <s>CANADA HAS SIGNED A DEAL WITH ABBOTT RAPID ...   \n",
       "       2020-10-07  <s>ABBOTT LABORATORIES <ABT.N> : WELLS FARGO R...   \n",
       "       2020-10-08  <s>Allergy Immunotherapies Market - Actionable...   \n",
       "       2020-10-09  <s>ABBOTT LABORATORIES <ABT.N> : JP MORGAN RAI...   \n",
       "       2020-10-12  <s>REG - Allergy Therapeutics  - Holding(s) in...   \n",
       "\n",
       "                         Open       Close   returns  label  Signal  \\\n",
       "ticker time                                                          \n",
       "A      2020-10-01  101.769997  101.220001 -0.011954    0.0       0   \n",
       "       2020-10-02  100.209999  100.010002  0.031097    1.0       2   \n",
       "       2020-10-08  104.199997  104.160004  0.015361    1.0       2   \n",
       "       2020-10-09  104.830002  105.760002 -0.003120    0.0       1   \n",
       "       2020-10-13  105.720001  105.419998 -0.003415    0.0       1   \n",
       "AAL    2020-10-01   12.410000   12.580000  0.033386    1.0       2   \n",
       "       2020-10-02   12.050000   13.000000  0.009231    1.0       1   \n",
       "       2020-10-05   13.090000   13.120000 -0.044970    0.0       0   \n",
       "       2020-10-06   13.270000   12.530000  0.043097    1.0       2   \n",
       "       2020-10-07   12.960000   13.070000  0.006121    1.0       1   \n",
       "       2020-10-08   13.370000   13.150000  0.003802    1.0       1   \n",
       "       2020-10-09   13.250000   13.200000 -0.021212    0.0       0   \n",
       "       2020-10-12   13.140000   12.920000 -0.054180    0.0       0   \n",
       "AAP    2020-10-01  154.639999  154.850006  0.004198    1.0       1   \n",
       "       2020-10-02  152.240005  155.500000  0.002315    1.0       1   \n",
       "       2020-10-06  160.259995  155.160004  0.010634    1.0       2   \n",
       "AAPL   2020-10-01  117.629997  116.790001 -0.032280    0.0       0   \n",
       "       2020-10-02  112.889999  113.019997  0.030791    1.0       2   \n",
       "       2020-10-05  113.910004  116.500000 -0.028669    0.0       0   \n",
       "       2020-10-06  115.800003  113.160004  0.016967    1.0       2   \n",
       "       2020-10-07  114.699997  115.080002 -0.000956    0.0       1   \n",
       "       2020-10-08  116.199997  114.970001  0.017396    1.0       2   \n",
       "       2020-10-09  115.279999  116.970001  0.063521    1.0       2   \n",
       "       2020-10-12  120.019997  124.400002 -0.026527    0.0       0   \n",
       "       2020-10-13  125.320000  121.099998  0.000743    1.0       1   \n",
       "ABBV   2020-10-01   88.000000   87.139999 -0.011705    0.0       0   \n",
       "       2020-10-02   86.500000   86.120003  0.021017    1.0       2   \n",
       "       2020-10-05   86.489998   87.930000 -0.023200    0.0       0   \n",
       "       2020-10-06   87.970001   85.889999  0.013739    1.0       2   \n",
       "       2020-10-07   86.110001   87.070000  0.003101    1.0       1   \n",
       "       2020-10-08   87.279999   87.339996  0.004122    1.0       1   \n",
       "       2020-10-09   87.410004   87.699997  0.007070    1.0       1   \n",
       "       2020-10-12   88.199997   88.320000 -0.005548    0.0       1   \n",
       "       2020-10-13   87.919998   87.830002 -0.020039    0.0       0   \n",
       "ABC    2020-10-01   97.129997   95.360001  0.000210    1.0       1   \n",
       "       2020-10-05   95.769997   96.389999 -0.007885    0.0       1   \n",
       "       2020-10-06   97.199997   95.629997 -0.000418    0.0       1   \n",
       "       2020-10-12   97.379997   96.860001  0.004233    1.0       1   \n",
       "       2020-10-13   96.199997   97.269997  0.012028    1.0       2   \n",
       "ABMD   2020-10-08  271.000000  271.200012  0.008702    1.0       1   \n",
       "       2020-10-09  273.299988  273.559998  0.015682    1.0       2   \n",
       "       2020-10-12  274.799988  277.850006 -0.003239    0.0       1   \n",
       "ABT    2020-10-01  109.180000  108.639999 -0.019698    0.0       0   \n",
       "       2020-10-02  107.680000  106.500000  0.019343    1.0       2   \n",
       "       2020-10-05  107.180000  108.559998 -0.021279    0.0       0   \n",
       "       2020-10-06  108.559998  106.250000  0.014024    1.0       2   \n",
       "       2020-10-07  107.360001  107.739998  0.007425    1.0       1   \n",
       "       2020-10-08  108.199997  108.540001  0.010227    1.0       2   \n",
       "       2020-10-09  109.339996  109.650002  0.012768    1.0       2   \n",
       "       2020-10-12  110.250000  111.050003 -0.024133    0.0       0   \n",
       "\n",
       "                   n_Characters  Partition  \n",
       "ticker time                                 \n",
       "A      2020-10-01            33  Inference  \n",
       "       2020-10-02           149  Inference  \n",
       "       2020-10-08           164  Inference  \n",
       "       2020-10-09           104  Inference  \n",
       "       2020-10-13            54  Inference  \n",
       "AAL    2020-10-01          1216  Inference  \n",
       "       2020-10-02          1159  Inference  \n",
       "       2020-10-05           465  Inference  \n",
       "       2020-10-06           440  Inference  \n",
       "       2020-10-07          1403  Inference  \n",
       "       2020-10-08          1726  Inference  \n",
       "       2020-10-09           924  Inference  \n",
       "       2020-10-12           173  Inference  \n",
       "AAP    2020-10-01           116  Inference  \n",
       "       2020-10-02           242  Inference  \n",
       "       2020-10-06           155  Inference  \n",
       "AAPL   2020-10-01          1387  Inference  \n",
       "       2020-10-02          1015  Inference  \n",
       "       2020-10-05          1410  Inference  \n",
       "       2020-10-06          2503  Inference  \n",
       "       2020-10-07          1777  Inference  \n",
       "       2020-10-08          1765  Inference  \n",
       "       2020-10-09          1321  Inference  \n",
       "       2020-10-12          1670  Inference  \n",
       "       2020-10-13          6427  Inference  \n",
       "ABBV   2020-10-01           793  Inference  \n",
       "       2020-10-02           765  Inference  \n",
       "       2020-10-05           580  Inference  \n",
       "       2020-10-06           165  Inference  \n",
       "       2020-10-07           864  Inference  \n",
       "       2020-10-08           180  Inference  \n",
       "       2020-10-09           592  Inference  \n",
       "       2020-10-12           190  Inference  \n",
       "       2020-10-13           346  Inference  \n",
       "ABC    2020-10-01           167  Inference  \n",
       "       2020-10-05           243  Inference  \n",
       "       2020-10-06            89  Inference  \n",
       "       2020-10-12            81  Inference  \n",
       "       2020-10-13           106  Inference  \n",
       "ABMD   2020-10-08           209  Inference  \n",
       "       2020-10-09           166  Inference  \n",
       "       2020-10-12            70  Inference  \n",
       "ABT    2020-10-01           578  Inference  \n",
       "       2020-10-02           409  Inference  \n",
       "       2020-10-05           407  Inference  \n",
       "       2020-10-06           370  Inference  \n",
       "       2020-10-07          1288  Inference  \n",
       "       2020-10-08           666  Inference  \n",
       "       2020-10-09           334  Inference  \n",
       "       2020-10-12          1053  Inference  "
      ]
     },
     "execution_count": 14,
     "metadata": {},
     "output_type": "execute_result"
    }
   ],
   "source": [
    "data.loc[idx[:,'2020-10-01':], ].head(50)"
   ]
  },
  {
   "cell_type": "code",
   "execution_count": 15,
   "metadata": {},
   "outputs": [
    {
     "name": "stdout",
     "output_type": "stream",
     "text": [
      "<class 'pandas.core.frame.DataFrame'>\n",
      "MultiIndex: 110905 entries, ('A', '2019-07-11') to ('ZTS', '2020-10-12')\n",
      "Data columns (total 8 columns):\n",
      " #   Column        Non-Null Count   Dtype  \n",
      "---  ------        --------------   -----  \n",
      " 0   headline      110905 non-null  object \n",
      " 1   Open          110905 non-null  float64\n",
      " 2   Close         110905 non-null  float64\n",
      " 3   returns       110905 non-null  float64\n",
      " 4   label         110905 non-null  float64\n",
      " 5   Signal        110905 non-null  int64  \n",
      " 6   n_Characters  110905 non-null  int64  \n",
      " 7   Partition     110905 non-null  object \n",
      "dtypes: float64(4), int64(2), object(2)\n",
      "memory usage: 7.2+ MB\n"
     ]
    }
   ],
   "source": [
    "data.info()"
   ]
  },
  {
   "cell_type": "code",
   "execution_count": 16,
   "metadata": {},
   "outputs": [
    {
     "data": {
      "text/html": [
       "<div>\n",
       "<style scoped>\n",
       "    .dataframe tbody tr th:only-of-type {\n",
       "        vertical-align: middle;\n",
       "    }\n",
       "\n",
       "    .dataframe tbody tr th {\n",
       "        vertical-align: top;\n",
       "    }\n",
       "\n",
       "    .dataframe thead th {\n",
       "        text-align: right;\n",
       "    }\n",
       "</style>\n",
       "<table border=\"1\" class=\"dataframe\">\n",
       "  <thead>\n",
       "    <tr style=\"text-align: right;\">\n",
       "      <th></th>\n",
       "      <th>count</th>\n",
       "      <th>mean</th>\n",
       "      <th>std</th>\n",
       "      <th>min</th>\n",
       "      <th>25%</th>\n",
       "      <th>50%</th>\n",
       "      <th>75%</th>\n",
       "      <th>max</th>\n",
       "    </tr>\n",
       "  </thead>\n",
       "  <tbody>\n",
       "    <tr>\n",
       "      <th>Open</th>\n",
       "      <td>110905.0</td>\n",
       "      <td>179.949653</td>\n",
       "      <td>1195.936822</td>\n",
       "      <td>3.220000</td>\n",
       "      <td>41.509998</td>\n",
       "      <td>80.650002</td>\n",
       "      <td>141.729996</td>\n",
       "      <td>29440.470703</td>\n",
       "    </tr>\n",
       "    <tr>\n",
       "      <th>Close</th>\n",
       "      <td>110905.0</td>\n",
       "      <td>179.970824</td>\n",
       "      <td>1195.748259</td>\n",
       "      <td>3.020000</td>\n",
       "      <td>41.470001</td>\n",
       "      <td>80.570000</td>\n",
       "      <td>141.729996</td>\n",
       "      <td>29423.310547</td>\n",
       "    </tr>\n",
       "    <tr>\n",
       "      <th>returns</th>\n",
       "      <td>110905.0</td>\n",
       "      <td>0.000567</td>\n",
       "      <td>0.032472</td>\n",
       "      <td>-0.998369</td>\n",
       "      <td>-0.011305</td>\n",
       "      <td>0.000974</td>\n",
       "      <td>0.012553</td>\n",
       "      <td>0.429971</td>\n",
       "    </tr>\n",
       "    <tr>\n",
       "      <th>label</th>\n",
       "      <td>110905.0</td>\n",
       "      <td>0.527046</td>\n",
       "      <td>0.499270</td>\n",
       "      <td>0.000000</td>\n",
       "      <td>0.000000</td>\n",
       "      <td>1.000000</td>\n",
       "      <td>1.000000</td>\n",
       "      <td>1.000000</td>\n",
       "    </tr>\n",
       "    <tr>\n",
       "      <th>Signal</th>\n",
       "      <td>110905.0</td>\n",
       "      <td>1.025066</td>\n",
       "      <td>0.749885</td>\n",
       "      <td>0.000000</td>\n",
       "      <td>0.000000</td>\n",
       "      <td>1.000000</td>\n",
       "      <td>2.000000</td>\n",
       "      <td>2.000000</td>\n",
       "    </tr>\n",
       "    <tr>\n",
       "      <th>n_Characters</th>\n",
       "      <td>110905.0</td>\n",
       "      <td>379.054686</td>\n",
       "      <td>638.605787</td>\n",
       "      <td>5.000000</td>\n",
       "      <td>72.000000</td>\n",
       "      <td>158.000000</td>\n",
       "      <td>384.000000</td>\n",
       "      <td>11466.000000</td>\n",
       "    </tr>\n",
       "  </tbody>\n",
       "</table>\n",
       "</div>"
      ],
      "text/plain": [
       "                 count        mean          std       min        25%  \\\n",
       "Open          110905.0  179.949653  1195.936822  3.220000  41.509998   \n",
       "Close         110905.0  179.970824  1195.748259  3.020000  41.470001   \n",
       "returns       110905.0    0.000567     0.032472 -0.998369  -0.011305   \n",
       "label         110905.0    0.527046     0.499270  0.000000   0.000000   \n",
       "Signal        110905.0    1.025066     0.749885  0.000000   0.000000   \n",
       "n_Characters  110905.0  379.054686   638.605787  5.000000  72.000000   \n",
       "\n",
       "                     50%         75%           max  \n",
       "Open           80.650002  141.729996  29440.470703  \n",
       "Close          80.570000  141.729996  29423.310547  \n",
       "returns         0.000974    0.012553      0.429971  \n",
       "label           1.000000    1.000000      1.000000  \n",
       "Signal          1.000000    2.000000      2.000000  \n",
       "n_Characters  158.000000  384.000000  11466.000000  "
      ]
     },
     "execution_count": 16,
     "metadata": {},
     "output_type": "execute_result"
    }
   ],
   "source": [
    "data.describe().T"
   ]
  },
  {
   "cell_type": "code",
   "execution_count": 17,
   "metadata": {},
   "outputs": [
    {
     "data": {
      "text/plain": [
       "((110905,), (110905,))"
      ]
     },
     "execution_count": 17,
     "metadata": {},
     "output_type": "execute_result"
    }
   ],
   "source": [
    "X = data.loc[:,'headline']\n",
    "y = data.loc[:, 'Signal']\n",
    "X.shape, y.shape"
   ]
  },
  {
   "cell_type": "code",
   "execution_count": 18,
   "metadata": {},
   "outputs": [],
   "source": [
    "# Train / Test / Infer: Test  which is Validation here: 2019-07-08--->2019-08-01, Infer on \n",
    "X_train, X_test, X_infer = X.loc[idx[:,'2019-08-01':'2020-10-01'], ], X.loc[idx[:,:'2019-08-01'], ], X.loc[idx[:,'2020-10-01':], ]\n",
    "y_train, y_test, y_infer = y.loc[idx[:,'2019-08-01':'2020-10-01'], ], y.loc[idx[:,:'2019-08-01'], ], y.loc[idx[:,'2020-10-01':], ]"
   ]
  },
  {
   "cell_type": "code",
   "execution_count": 19,
   "metadata": {},
   "outputs": [
    {
     "data": {
      "text/plain": [
       "((103065,), (5697,), (103065,), (5697,), (2874,), (2874,))"
      ]
     },
     "execution_count": 19,
     "metadata": {},
     "output_type": "execute_result"
    }
   ],
   "source": [
    "X_train.shape, X_test.shape, y_train.shape, y_test.shape, X_infer.shape, y_infer.shape"
   ]
  },
  {
   "cell_type": "code",
   "execution_count": 20,
   "metadata": {},
   "outputs": [
    {
     "name": "stdout",
     "output_type": "stream",
     "text": [
      "y labels:\n",
      " Signal\n",
      "1    48471\n",
      "2    32607\n",
      "0    29827\n",
      "Name: count, dtype: int64\n",
      "Train Labels:\n",
      " Signal\n",
      "1    44324\n",
      "2    30642\n",
      "0    28099\n",
      "Name: count, dtype: int64\n",
      "Test Labels:\n",
      " Signal\n",
      "1    3263\n",
      "0    1371\n",
      "2    1063\n",
      "Name: count, dtype: int64\n",
      "Inference Labels:\n",
      " Signal\n",
      "1    1226\n",
      "2    1067\n",
      "0     581\n",
      "Name: count, dtype: int64\n",
      "Train Ratio 0.93\n"
     ]
    }
   ],
   "source": [
    "print('y labels:\\n', y.value_counts())\n",
    "print('Train Labels:\\n', y_train.value_counts())\n",
    "print('Test Labels:\\n', y_test.value_counts())\n",
    "print('Inference Labels:\\n', y_infer.value_counts())\n",
    "print(\"Train Ratio %.2f\" % (len(X_train)/ len(X)))"
   ]
  },
  {
   "cell_type": "code",
   "execution_count": 21,
   "metadata": {},
   "outputs": [],
   "source": [
    "# ENCODE ORDINAL\n",
    "X_train = [i.encode('utf-8') for i in X_train]\n",
    "X_test = [i.encode('utf-8') for i in X_test]\n",
    "X_infer = [i.encode('utf-8') for i in X_infer]\n",
    "# X_encode = encode2bytes(X)"
   ]
  },
  {
   "cell_type": "code",
   "execution_count": 22,
   "metadata": {},
   "outputs": [
    {
     "data": {
      "text/plain": [
       "[b'<s>Agilent Settles Key Intellectual Property Case in China AGILENT SETTLES KEY INTELLECTUAL PROPERTY CASE IN CHINA Agilent Settles Key Intellectual Property Case in China EChrom and Pannatek Admit to using Agilent Technology Without Permission, Agree to Pay Damages and Cease Using Agilent Technology AGILENT TECHNOLOGIES- CO REACHED AGREEMENT WITH ECHROM AND PANNATEK, AS WELL AS CERTAIN FORMER AGILENT EMPLOYEES, REGARDING AN INTELLECTUAL PROPERTY DISPUTE BRIEF-Agilent Settles Key Intellectual Property Case In China Agilent Companion Diagnostic Gains Expanded FDA Approval in Esophageal Squamous Cell Carcinoma<\\\\s',\n",
       " b'<s>NYSE ORDER IMBALANCE <A.N> 65800.0 SHARES ON BUY SIDE<\\\\s',\n",
       " b'<s>AGILENT TECHNOLOGIES INC SEC Filings files Form -- 4<\\\\s',\n",
       " b'<s>Turbo Pump Controller (model No. X3506 64002 Make Agilent NYSE ORDER IMBALANCE <A.N> 51900.0 SHARES ON SELL SIDE<\\\\s',\n",
       " b'<s>Supplying Of Spares With Fitting And Fixing For 70 Nos. Tri-cycle Paddle Van In Ward Nos.-63,64,65,66 & 67, Under A.d / Br.-vii / Swm-i. Agilent Technologies (A) Earnings Expected to Grow: Should You Buy?<\\\\s']"
      ]
     },
     "execution_count": 22,
     "metadata": {},
     "output_type": "execute_result"
    }
   ],
   "source": [
    "X_train[0:5]"
   ]
  },
  {
   "cell_type": "code",
   "execution_count": 23,
   "metadata": {},
   "outputs": [],
   "source": [
    "#Tokenize\n",
    "import json\n",
    "with open('../CharModelDev/CharModel-v2/Tokenizer.json', encoding='utf-8') as f:\n",
    "    data = json.load(f)\n",
    "    tokenizer = tf.keras.preprocessing.text.tokenizer_from_json(data)\n",
    "with open('../CharModelDev/CharModel-v2/index2char.json', encoding='utf-8') as f:\n",
    "    index2char = json.load(f)\n",
    "    index2char = dict((int(k),int(v)) for k,v in index2char.items())\n",
    "char2index = dict((int(v),int(k)) for k,v in index2char.items())\n",
    "tokenizer.word_index = char2index\n",
    "# with open('index2char.json', 'w', encoding='utf-8') as f:\n",
    "#         json.dump(index2char, f, ensure_ascii=False, indent=4) \n"
   ]
  },
  {
   "cell_type": "code",
   "execution_count": 24,
   "metadata": {},
   "outputs": [],
   "source": [
    "X_train = tokenizer.texts_to_sequences(X_train)\n",
    "X_test = tokenizer.texts_to_sequences(X_test)\n",
    "X_infer = tokenizer.texts_to_sequences(X_infer)"
   ]
  },
  {
   "cell_type": "markdown",
   "metadata": {},
   "source": [
    "### How to convert back to readable form:"
   ]
  },
  {
   "cell_type": "code",
   "execution_count": 25,
   "metadata": {
    "scrolled": true
   },
   "outputs": [
    {
     "name": "stdout",
     "output_type": "stream",
     "text": [
      "[31, 86, 33, 36, 74, 76, 79, 72, 81, 87, 3, 54, 72, 87, 87, 79, 72, 86, 3, 46, 72, 92, 3, 44, 81, 87, 72, 79, 79, 72, 70, 87, 88, 68, 79, 3, 51, 85, 82, 83, 72, 85, 87, 92, 3, 38, 68, 86, 72, 3, 76, 81, 3, 38, 75, 76, 81, 68, 3, 36, 42, 44, 47, 40, 49, 55, 3, 54, 40, 55, 55, 47, 40, 54, 3, 46, 40, 60, 3, 44, 49, 55, 40, 47, 47, 40, 38, 55, 56, 36, 47, 3, 51, 53, 50, 51, 40, 53, 55, 60, 3, 38, 36, 54, 40, 3, 44, 49, 3, 38, 43, 44, 49, 36, 3, 36, 74, 76, 79, 72, 81, 87, 3, 54, 72, 87, 87, 79, 72, 86, 3, 46, 72, 92, 3, 44, 81, 87, 72, 79, 79, 72, 70, 87, 88, 68, 79, 3, 51, 85, 82, 83, 72, 85, 87, 92, 3, 38, 68, 86, 72, 3, 76, 81, 3, 38, 75, 76, 81, 68, 3, 40, 38, 75, 85, 82, 80, 3, 68, 81, 71, 3, 51, 68, 81, 81, 68, 87, 72, 78, 3, 36, 71, 80, 76, 87, 3, 87, 82, 3, 88, 86, 76, 81, 74, 3, 36, 74, 76, 79, 72, 81, 87, 3, 55, 72, 70, 75, 81, 82, 79, 82, 74, 92, 3, 58, 76, 87, 75, 82, 88, 87, 3, 51, 72, 85, 80, 76, 86, 86, 76, 82, 81, 15, 3, 36, 74, 85, 72, 72, 3, 87, 82, 3, 51, 68, 92, 3, 39, 68, 80, 68, 74, 72, 86, 3, 68, 81, 71, 3, 38, 72, 68, 86, 72, 3, 56, 86, 76, 81, 74, 3, 36, 74, 76, 79, 72, 81, 87, 3, 55, 72, 70, 75, 81, 82, 79, 82, 74, 92, 3, 36, 42, 44, 47, 40, 49, 55, 3, 55, 40, 38, 43, 49, 50, 47, 50, 42, 44, 40, 54, 16, 3, 38, 50, 3, 53, 40, 36, 38, 43, 40, 39, 3, 36, 42, 53, 40, 40, 48, 40, 49, 55, 3, 58, 44, 55, 43, 3, 40, 38, 43, 53, 50, 48, 3, 36, 49, 39, 3, 51, 36, 49, 49, 36, 55, 40, 46, 15, 3, 36, 54, 3, 58, 40, 47, 47, 3, 36, 54, 3, 38, 40, 53, 55, 36, 44, 49, 3, 41, 50, 53, 48, 40, 53, 3, 36, 42, 44, 47, 40, 49, 55, 3, 40, 48, 51, 47, 50, 60, 40, 40, 54, 15, 3, 53, 40, 42, 36, 53, 39, 44, 49, 42, 3, 36, 49, 3, 44, 49, 55, 40, 47, 47, 40, 38, 55, 56, 36, 47, 3, 51, 53, 50, 51, 40, 53, 55, 60, 3, 39, 44, 54, 51, 56, 55, 40, 3, 37, 53, 44, 40, 41, 16, 36, 74, 76, 79, 72, 81, 87, 3, 54, 72, 87, 87, 79, 72, 86, 3, 46, 72, 92, 3, 44, 81, 87, 72, 79, 79, 72, 70, 87, 88, 68, 79, 3, 51, 85, 82, 83, 72, 85, 87, 92, 3, 38, 68, 86, 72, 3, 44, 81, 3, 38, 75, 76, 81, 68, 3, 36, 74, 76, 79, 72, 81, 87, 3, 38, 82, 80, 83, 68, 81, 76, 82, 81, 3, 39, 76, 68, 74, 81, 82, 86, 87, 76, 70, 3, 42, 68, 76, 81, 86, 3, 40, 91, 83, 68, 81, 71, 72, 71, 3, 41, 39, 36, 3, 36, 83, 83, 85, 82, 89, 68, 79, 3, 76, 81, 3, 40, 86, 82, 83, 75, 68, 74, 72, 68, 79, 3, 54, 84, 88, 68, 80, 82, 88, 86, 3, 38, 72, 79, 79, 3, 38, 68, 85, 70, 76, 81, 82, 80, 68, 31, 63, 86]\n",
      "<s>Agilent Settles Key Intellectual Property Case in China AGILENT SETTLES KEY INTELLECTUAL PROPERTY CASE IN CHINA Agilent Settles Key Intellectual Property Case in China EChrom and Pannatek Admit to using Agilent Technology Without Permission, Agree to Pay Damages and Cease Using Agilent Technology AGILENT TECHNOLOGIES- CO REACHED AGREEMENT WITH ECHROM AND PANNATEK, AS WELL AS CERTAIN FORMER AGILENT EMPLOYEES, REGARDING AN INTELLECTUAL PROPERTY DISPUTE BRIEF-Agilent Settles Key Intellectual Property Case In China Agilent Companion Diagnostic Gains Expanded FDA Approval in Esophageal Squamous Cell Carcinoma<\\s\n"
     ]
    }
   ],
   "source": [
    "print(X_train[0])\n",
    "print(bytes(list(map(index2char.get, X_train[0]))).decode('utf-8'))"
   ]
  },
  {
   "cell_type": "code",
   "execution_count": 26,
   "metadata": {},
   "outputs": [
    {
     "name": "stdout",
     "output_type": "stream",
     "text": [
      "Headlines length: \n",
      "Mean 297.05 words (Std 298.79) max 1006\n"
     ]
    },
    {
     "data": {
      "image/png": "[encoded data removed]",
      "text/plain": [
       "<Figure size 2000x1000 with 1 Axes>"
      ]
     },
     "metadata": {},
     "output_type": "display_data"
    }
   ],
   "source": [
    "# Summarize headlines length\n",
    "print(\"Headlines length: \")\n",
    "result = [len(sentence) for sentence in X]\n",
    "print(\"Mean %.2f words (Std %.2f) max %d\" % (np.mean(result), np.std(result), max(result)))\n",
    "# plot review length\n",
    "plt.figure(figsize=(20,10));\n",
    "plt.boxplot(result)\n",
    "plt.show()"
   ]
  },
  {
   "cell_type": "code",
   "execution_count": 27,
   "metadata": {},
   "outputs": [
    {
     "data": {
      "text/plain": [
       "((103065, 1116), (5697, 1023), (2874, 1032))"
      ]
     },
     "execution_count": 27,
     "metadata": {},
     "output_type": "execute_result"
    }
   ],
   "source": [
    "# prepadded to solve for forward propagation not masking\n",
    "max_sentence_len = max(map(len, X))\n",
    "X_train = pad_sequences(X_train, maxlen =  max(map(len, X_train)), padding = 'pre', truncating='pre')\n",
    "X_test = pad_sequences(X_test, maxlen = max(map(len, X_test)), padding = 'pre', truncating='pre')\n",
    "X_infer = pad_sequences(X_infer, maxlen = max(map(len, X_infer)), padding = 'pre', truncating='pre')\n",
    "X_train.shape, X_test.shape, X_infer.shape\n",
    "# X_padded = pad_sequences(X_encode, maxlen = max_sentence_len, padding = 'pre', truncating='pre')"
   ]
  },
  {
   "cell_type": "code",
   "execution_count": 28,
   "metadata": {},
   "outputs": [
    {
     "data": {
      "text/plain": [
       "((103065, 3), (5697, 3), (2874, 3))"
      ]
     },
     "execution_count": 28,
     "metadata": {},
     "output_type": "execute_result"
    }
   ],
   "source": [
    "# Our vectorized labels : BINARY\n",
    "# train_labels = np.asarray(y_train).astype('float32').reshape((-1,1)) #sparsecategorical requires (-1) not (-1,1)\n",
    "# test_labels = np.asarray(test_labels_one_hot).astype('float32').reshape((-1,1))\n",
    "# infer_labels = np.asarray(y_infer).astype('float32').reshape((-1,1))\n",
    "\n",
    "#MULTI-CLASS\n",
    "from tensorflow.keras.utils import to_categorical \n",
    "\n",
    "  \n",
    "train_labels = to_categorical(y_train)  \n",
    "test_labels = to_categorical(y_test, num_classes=3)  \n",
    "infer_labels = to_categorical(y_infer, num_classes=3)  \n",
    "train_labels.shape, test_labels.shape, infer_labels.shape"
   ]
  },
  {
   "cell_type": "code",
   "execution_count": 116,
   "metadata": {},
   "outputs": [
    {
     "data": {
      "text/plain": [
       "(ticker  time      \n",
       " A       2019-08-01    0\n",
       "         2019-08-02    0\n",
       "         2019-08-05    2\n",
       "         2019-08-06    1\n",
       "         2019-08-07    2\n",
       " Name: Signal, dtype: int64,\n",
       " array([[1., 0., 0.],\n",
       "        [1., 0., 0.],\n",
       "        [0., 0., 1.],\n",
       "        [0., 1., 0.],\n",
       "        [0., 0., 1.]], dtype=float32))"
      ]
     },
     "execution_count": 116,
     "metadata": {},
     "output_type": "execute_result"
    }
   ],
   "source": [
    "y_train[:5],to_categorical(y_train)[:5]"
   ]
  },
  {
   "cell_type": "code",
   "execution_count": 29,
   "metadata": {},
   "outputs": [],
   "source": [
    "train_seq_data = tf.data.Dataset.from_tensor_slices((X_train,train_labels))\n",
    "test_seq_data = tf.data.Dataset.from_tensor_slices((X_test,test_labels))\n",
    "infer_seq_data = tf.data.Dataset.from_tensor_slices((X_infer,infer_labels))"
   ]
  },
  {
   "cell_type": "code",
   "execution_count": 30,
   "metadata": {},
   "outputs": [],
   "source": [
    "AUTOTUNE = tf.data.experimental.AUTOTUNE\n",
    "\n",
    "def configure_dataset(dataset):\n",
    "  return dataset.cache().prefetch(buffer_size=AUTOTUNE)"
   ]
  },
  {
   "cell_type": "code",
   "execution_count": 31,
   "metadata": {},
   "outputs": [
    {
     "name": "stdout",
     "output_type": "stream",
     "text": [
      "Train Set Shape:  <BatchDataset element_spec=(TensorSpec(shape=(32, 1116), dtype=tf.int32, name=None), TensorSpec(shape=(32, 3), dtype=tf.float32, name=None))> \n",
      "Test Set Shape:  <BatchDataset element_spec=(TensorSpec(shape=(32, 1023), dtype=tf.int32, name=None), TensorSpec(shape=(32, 3), dtype=tf.float32, name=None))>\n"
     ]
    }
   ],
   "source": [
    "batch_size = 32\n",
    "\n",
    "train_seq_data = train_seq_data.batch(batch_size, drop_remainder=True, name = 'train')\n",
    "test_seq_data = test_seq_data.batch(batch_size, drop_remainder=True, name = 'test')\n",
    "infer_seq_data = infer_seq_data.batch(batch_size, drop_remainder=True, name = 'inference')\n",
    "print('Train Set Shape: ', train_seq_data, '\\nTest Set Shape: ', test_seq_data)"
   ]
  },
  {
   "cell_type": "code",
   "execution_count": 32,
   "metadata": {
    "scrolled": true
   },
   "outputs": [
    {
     "name": "stdout",
     "output_type": "stream",
     "text": [
      "Check train set:\n",
      "--------------------------------Headline--------------------------------\n",
      "[[ 0  0  0 ... 31 63 86]\n",
      " [ 0  0  0 ... 31 63 86]\n",
      " [ 0  0  0 ... 31 63 86]\n",
      " ...\n",
      " [ 0  0  0 ... 31 63 86]\n",
      " [ 0  0  0 ... 31 63 86]\n",
      " [ 0  0  0 ... 31 63 86]]\n",
      "\n",
      "\n",
      "[[0. 1. 0.]\n",
      " [0. 1. 0.]\n",
      " [0. 1. 0.]\n",
      " [0. 1. 0.]\n",
      " [1. 0. 0.]\n",
      " [0. 1. 0.]\n",
      " [0. 1. 0.]\n",
      " [0. 1. 0.]\n",
      " [0. 0. 1.]\n",
      " [0. 1. 0.]\n",
      " [0. 1. 0.]\n",
      " [1. 0. 0.]\n",
      " [0. 1. 0.]\n",
      " [0. 0. 1.]\n",
      " [0. 1. 0.]\n",
      " [0. 0. 1.]\n",
      " [1. 0. 0.]\n",
      " [0. 0. 1.]\n",
      " [1. 0. 0.]\n",
      " [0. 1. 0.]\n",
      " [0. 0. 1.]\n",
      " [0. 0. 1.]\n",
      " [1. 0. 0.]\n",
      " [1. 0. 0.]\n",
      " [1. 0. 0.]\n",
      " [0. 1. 0.]\n",
      " [0. 1. 0.]\n",
      " [1. 0. 0.]\n",
      " [0. 1. 0.]\n",
      " [0. 1. 0.]\n",
      " [0. 0. 1.]\n",
      " [0. 1. 0.]]\n"
     ]
    }
   ],
   "source": [
    "print('Check train set:')\n",
    "for input_txt, target_txt in  test_seq_data.take(1):\n",
    "    print('--------------------------------Headline--------------------------------')\n",
    "    print(input_txt.numpy())\n",
    "    # print(bytes(list(map(index2char.get, y[num]))).decode('utf-8'))\n",
    "#     print(''.join(index2char[input_txt.numpy()]))\n",
    "    print('\\n')\n",
    "    print(target_txt.numpy())"
   ]
  },
  {
   "cell_type": "code",
   "execution_count": 33,
   "metadata": {},
   "outputs": [],
   "source": [
    "# with tf.device('CPU'):\n",
    "train_seq_data = configure_dataset(train_seq_data)\n",
    "test_seq_data = configure_dataset(test_seq_data)\n",
    "infer_seq_data = configure_dataset(infer_seq_data)"
   ]
  },
  {
   "cell_type": "code",
   "execution_count": 34,
   "metadata": {},
   "outputs": [
    {
     "data": {
      "text/plain": [
       "(<PrefetchDataset element_spec=(TensorSpec(shape=(32, 1116), dtype=tf.int32, name=None), TensorSpec(shape=(32, 3), dtype=tf.float32, name=None))>,\n",
       " <PrefetchDataset element_spec=(TensorSpec(shape=(32, 1023), dtype=tf.int32, name=None), TensorSpec(shape=(32, 3), dtype=tf.float32, name=None))>,\n",
       " <PrefetchDataset element_spec=(TensorSpec(shape=(32, 1032), dtype=tf.int32, name=None), TensorSpec(shape=(32, 3), dtype=tf.float32, name=None))>)"
      ]
     },
     "execution_count": 34,
     "metadata": {},
     "output_type": "execute_result"
    }
   ],
   "source": [
    "train_seq_data, test_seq_data, infer_seq_data"
   ]
  },
  {
   "cell_type": "code",
   "execution_count": 35,
   "metadata": {},
   "outputs": [
    {
     "name": "stdout",
     "output_type": "stream",
     "text": [
      "Model: \"CharLSTM\"\n",
      "_________________________________________________________________\n",
      " Layer (type)                Output Shape              Param #   \n",
      "=================================================================\n",
      " EmbedLayer (Embedding)      (128, None, 256)          47360     \n",
      "                                                                 \n",
      " BiLSTM (Bidirectional)      (128, None, 2048)         10493952  \n",
      "                                                                 \n",
      " time_distributed (TimeDistr  (128, None, 185)         379065    \n",
      " ibuted)                                                         \n",
      "                                                                 \n",
      "=================================================================\n",
      "Total params: 10,920,377\n",
      "Trainable params: 10,920,377\n",
      "Non-trainable params: 0\n",
      "_________________________________________________________________\n"
     ]
    }
   ],
   "source": [
    "# def create_language_model(batch_size):\n",
    "#     model = Sequential(name = 'CharLSTM')\n",
    "#     model.add(Embedding(127, 256,batch_input_shape=[batch_size, None], \n",
    "#                         mask_zero=True, name ='EmbedLayer'))\n",
    "#     model.add(Bidirectional(LSTM(1024, return_sequences=True,stateful=False,\n",
    "#                                  recurrent_initializer='glorot_uniform'), merge_mode ='ave',name = 'BiLSTM'))\n",
    "#     model.add(TimeDistributed(Dense(127, name = 'TimeDistDense')))\n",
    "#     model.compile(optimizer=tf.optimizers.SGD(learning_rate=1e-1), \n",
    "#                   loss = tf.losses.SparseCategoricalCrossentropy(from_logits = True))\n",
    "#     return model\n",
    "# #Compile then load weights\n",
    "# checkpoint_dir = './training_checkpoints_CharWeights'\n",
    "\n",
    "# ChaRmodel = create_language_model(batch_size=None)\n",
    "\n",
    "# print(tf.train.latest_checkpoint(checkpoint_dir))\n",
    "# ChaRmodel.load_weights(tf.train.latest_checkpoint(checkpoint_dir))\n",
    "\n",
    "# ChaRmodel.build(tf.TensorShape([1,None]))\n",
    "\n",
    "# # Get layers to intialize classification model\n",
    "# embeddings = ChaRmodel.layers[0].get_weights()[0]\n",
    "# lstm = ChaRmodel.layers[1].get_weights()[0]\n",
    "# print(embeddings.shape, lstm.shape)\n",
    "\n",
    "ChaRmodel = tf.keras.models.load_model('../CharModelDev/CharModel-v2/CharLM.h5')\n",
    "ChaRmodel.summary()"
   ]
  },
  {
   "cell_type": "code",
   "execution_count": 36,
   "metadata": {},
   "outputs": [
    {
     "data": {
      "text/plain": [
       "185"
      ]
     },
     "execution_count": 36,
     "metadata": {},
     "output_type": "execute_result"
    }
   ],
   "source": [
    "len(char2index)"
   ]
  },
  {
   "cell_type": "code",
   "execution_count": 37,
   "metadata": {},
   "outputs": [],
   "source": [
    "def direction_model():\n",
    "    model = Sequential(name = 'RNNStocks')\n",
    "    model.add(Embedding(input_dim = 185, output_dim = 256,batch_input_shape=[None, None],\n",
    "                        mask_zero = True, name ='EmbedLayer'))\n",
    "    model.add(Bidirectional(LSTM(1024,\n",
    "                                 return_sequences=False,stateful=False, \n",
    "                                 recurrent_initializer='glorot_uniform'), merge_mode ='concat',name = 'BiLSTM'))\n",
    "    #final state encodes full representation of a single passed headine\n",
    "    model.add(BatchNormalization(name='BatchNormal')) #After RNN(S-shape activation-f(x) / Before ReLU(Non-Gaussian))\n",
    "#     model.add(tf.keras.layers.Masking(mask_value=0))\n",
    "    model.add(Dense(512, name = 'FullConnected', kernel_initializer='he_normal')) \n",
    "    model.add(tf.keras.layers.LeakyReLU()) #controls vanishing gradients:f(x) =  a * (exp(x) - 1.) for x < 0 ; f(x) = x for x >= 0\n",
    "    model.add(BatchNormalization(name='BatchNormal2'))\n",
    "    model.add(Dense(3, activation='softmax',name='Output'))\n",
    "    model.compile(optimizer=tf.optimizers.Adadelta(learning_rate = 1e-04), loss=tf.keras.losses.CategoricalCrossentropy(from_logits=False),\n",
    "              metrics=['accuracy',  tf.keras.metrics.AUC(name='AUC')])\n",
    "    return model"
   ]
  },
  {
   "cell_type": "code",
   "execution_count": 38,
   "metadata": {},
   "outputs": [],
   "source": [
    "# previous_training = tf.keras.models.load_model('daily.h5').get_weights()"
   ]
  },
  {
   "cell_type": "code",
   "execution_count": 39,
   "metadata": {},
   "outputs": [],
   "source": [
    " # batch size of 128 headlines is used to space out weight updates for our large data\n",
    "epochs = 100\n",
    "# # with strategy.scope():\n",
    "# gpus = tf.config.experimental.list_logical_devices('GPU')\n",
    "# if gpus:\n",
    "#   # Replicate your computation on multiple GPUs\n",
    "#   for gpu in gpus:\n",
    "with tf.device('GPU'):\n",
    "    model = direction_model()\n",
    "    checkpoint_dir = './training_checkpoints_CharWeights_V2'\n",
    "    # print(tf.train.latest_checkpoint(checkpoint_dir))\n",
    "    # model.load_weights(tf.train.latest_checkpoint(checkpoint_dir))\n",
    "    model.layers[0].set_weights(ChaRmodel.layers[0].get_weights())\n",
    "    model.layers[1].set_weights(ChaRmodel.layers[1].get_weights())"
   ]
  },
  {
   "cell_type": "code",
   "execution_count": 40,
   "metadata": {},
   "outputs": [],
   "source": [
    "#Freeze Language Model Layers for initial training of Added Layers:\n",
    "# Freeze all the layers before the `fine_tune_at` layer\n",
    "for layer in model.layers[:2]:\n",
    "    layer.trainable =  False"
   ]
  },
  {
   "cell_type": "code",
   "execution_count": 41,
   "metadata": {},
   "outputs": [
    {
     "name": "stdout",
     "output_type": "stream",
     "text": [
      "Model: \"RNNStocks\"\n",
      "_________________________________________________________________\n",
      " Layer (type)                Output Shape              Param #   \n",
      "=================================================================\n",
      " EmbedLayer (Embedding)      (None, None, 256)         47360     \n",
      "                                                                 \n",
      " BiLSTM (Bidirectional)      (None, 2048)              10493952  \n",
      "                                                                 \n",
      " BatchNormal (BatchNormaliza  (None, 2048)             8192      \n",
      " tion)                                                           \n",
      "                                                                 \n",
      " FullConnected (Dense)       (None, 512)               1049088   \n",
      "                                                                 \n",
      " leaky_re_lu (LeakyReLU)     (None, 512)               0         \n",
      "                                                                 \n",
      " BatchNormal2 (BatchNormaliz  (None, 512)              2048      \n",
      " ation)                                                          \n",
      "                                                                 \n",
      " Output (Dense)              (None, 3)                 1539      \n",
      "                                                                 \n",
      "=================================================================\n",
      "Total params: 11,602,179\n",
      "Trainable params: 1,055,747\n",
      "Non-trainable params: 10,546,432\n",
      "_________________________________________________________________\n"
     ]
    }
   ],
   "source": [
    "model.summary()"
   ]
  },
  {
   "cell_type": "code",
   "execution_count": 42,
   "metadata": {},
   "outputs": [
    {
     "name": "stdout",
     "output_type": "stream",
     "text": [
      "True\n",
      "True\n",
      "True\n",
      "True\n",
      "True\n",
      "True\n",
      "True\n"
     ]
    }
   ],
   "source": [
    "print(np.all(model.get_layer('EmbedLayer').get_weights()[0] == ChaRmodel.get_layer('EmbedLayer').get_weights()[0] ))\n",
    "for i in range(0, len(model.get_layer('BiLSTM').get_weights())):\n",
    "    print(np.all(model.get_layer('BiLSTM').get_weights()[i] == ChaRmodel.get_layer('BiLSTM').get_weights()[i]))"
   ]
  },
  {
   "cell_type": "code",
   "execution_count": 43,
   "metadata": {},
   "outputs": [
    {
     "name": "stdout",
     "output_type": "stream",
     "text": [
      "[True, True, True, True, True, True, True]\n",
      "[True, True, True]\n"
     ]
    }
   ],
   "source": [
    "print([layer.supports_masking for layer in model.layers])\n",
    "print([layer.supports_masking for layer in ChaRmodel.layers])"
   ]
  },
  {
   "cell_type": "markdown",
   "metadata": {},
   "source": [
    "### Test Model Pre training it"
   ]
  },
  {
   "cell_type": "code",
   "execution_count": 44,
   "metadata": {},
   "outputs": [
    {
     "name": "stdout",
     "output_type": "stream",
     "text": [
      "<s>MSFT rallying after last earnings call<\\s\n",
      "[[31], [86], [33], [48], [54], [41], [55], [3], [85], [68], [79], [79], [92], [76], [81], [74], [3], [68], [73], [87], [72], [85], [3], [79], [68], [86], [87], [3], [72], [68], [85], [81], [76], [81], [74], [86], [3], [70], [68], [79], [79], [31], [63], [86]]\n"
     ]
    },
    {
     "data": {
      "text/plain": [
       "(1, 44)"
      ]
     },
     "execution_count": 44,
     "metadata": {},
     "output_type": "execute_result"
    }
   ],
   "source": [
    "sample = 'MSFT rallying after last earnings call' \n",
    "sample = '<s>' + sample + '<\\s' \n",
    "print(sample)\n",
    "sample = [i.encode('utf-8') for i in sample]\n",
    "sample = tokenizer.texts_to_sequences(sample)\n",
    "print(sample)\n",
    "sample = tf.squeeze(sample)\n",
    "sample = tf.expand_dims(sample, 0).numpy()\n",
    "sample.shape"
   ]
  },
  {
   "cell_type": "code",
   "execution_count": 45,
   "metadata": {},
   "outputs": [
    {
     "name": "stdout",
     "output_type": "stream",
     "text": [
      "<s>MSFT rallying after last earnings call<\\s\u0000\u0000\u0000\u0000\u0000\u0000\u0000\u0000\u0000\u0000\u0000\u0000\u0000\u0000\u0000\u0000\u0000\u0000\u0000\u0000\n",
      "[[31], [86], [33], [48], [54], [41], [55], [3], [85], [68], [79], [79], [92], [76], [81], [74], [3], [68], [73], [87], [72], [85], [3], [79], [68], [86], [87], [3], [72], [68], [85], [81], [76], [81], [74], [86], [3], [70], [68], [79], [79], [31], [63], [86], [0], [0], [0], [0], [0], [0], [0], [0], [0], [0], [0], [0], [0], [0], [0], [0], [0], [0], [0], [0]]\n"
     ]
    },
    {
     "data": {
      "text/plain": [
       "(1, 64)"
      ]
     },
     "execution_count": 45,
     "metadata": {},
     "output_type": "execute_result"
    }
   ],
   "source": [
    "padded_sample = 'MSFT rallying after last earnings call' \n",
    "padded_sample = '<s>' + padded_sample + '<\\s' + chr(0) * 20\n",
    "print(padded_sample)\n",
    "padded_sample = [i.encode('utf-8') for i in padded_sample]\n",
    "padded_sample = tokenizer.texts_to_sequences(padded_sample)\n",
    "print(padded_sample)\n",
    "padded_sample = tf.squeeze(padded_sample)\n",
    "padded_sample = tf.expand_dims(padded_sample, 0).numpy()\n",
    "padded_sample.shape"
   ]
  },
  {
   "cell_type": "code",
   "execution_count": 46,
   "metadata": {},
   "outputs": [
    {
     "name": "stdout",
     "output_type": "stream",
     "text": [
      "[[0.24812579 0.43181646 0.32005772]]\n",
      "vs\n",
      "[[0.24812579 0.43181646 0.32005772]]\n"
     ]
    }
   ],
   "source": [
    "print(model(sample).numpy())\n",
    "print('vs')\n",
    "print(model(padded_sample).numpy())"
   ]
  },
  {
   "cell_type": "code",
   "execution_count": 47,
   "metadata": {},
   "outputs": [
    {
     "data": {
      "text/plain": [
       "0.6294831119673949"
      ]
     },
     "execution_count": 47,
     "metadata": {},
     "output_type": "execute_result"
    }
   ],
   "source": [
    "1/(1+np.exp(-0.53))"
   ]
  },
  {
   "cell_type": "markdown",
   "metadata": {},
   "source": [
    "### Compute PreTraining Baseline Metrics"
   ]
  },
  {
   "cell_type": "code",
   "execution_count": 52,
   "metadata": {},
   "outputs": [
    {
     "name": "stdout",
     "output_type": "stream",
     "text": [
      "89/89 [==============================] - 49s 525ms/step - loss: 1.4554 - accuracy: 0.1993 - AUC: 0.4754\n"
     ]
    }
   ],
   "source": [
    "# TEST DATA\n",
    "initial_epochs = 10\n",
    "validation_steps= int(X_test.shape[0] / batch_size)\n",
    "\n",
    "initial_loss, initial_accuracy, intial_AUC = model.evaluate(test_seq_data, steps = validation_steps, workers = -1)"
   ]
  },
  {
   "cell_type": "code",
   "execution_count": 53,
   "metadata": {},
   "outputs": [
    {
     "name": "stdout",
     "output_type": "stream",
     "text": [
      "Initial loss: 1.46 | initial Accuracy : 19.93% | Initial AUC: 47.54%\n"
     ]
    }
   ],
   "source": [
    "print(f'Initial loss: {initial_loss:.2f} | initial Accuracy : {initial_accuracy:.2%} | Initial AUC: {intial_AUC:.2%}')"
   ]
  },
  {
   "cell_type": "code",
   "execution_count": 54,
   "metadata": {},
   "outputs": [
    {
     "name": "stdout",
     "output_type": "stream",
     "text": [
      "44/44 [==============================] - 25s 543ms/step - loss: 1.2710 - accuracy: 0.3810 - AUC: 0.5884\n"
     ]
    }
   ],
   "source": [
    "# VALIDATION DATA\n",
    "validation_step_2 = int(X_infer.shape[0] / batch_size)\n",
    "\n",
    "initial_loss, initial_accuracy, intial_AUC = model.evaluate(infer_seq_data, steps = validation_step_2)"
   ]
  },
  {
   "cell_type": "code",
   "execution_count": 55,
   "metadata": {},
   "outputs": [
    {
     "name": "stdout",
     "output_type": "stream",
     "text": [
      "Initial loss: 1.27 | initial Accuracy : 38.10% | Initial AUC: 58.84%\n"
     ]
    }
   ],
   "source": [
    "print(f'Initial loss: {initial_loss:.2f} | initial Accuracy : {initial_accuracy:.2%} | Initial AUC: {intial_AUC:.2%}')"
   ]
  },
  {
   "cell_type": "markdown",
   "metadata": {},
   "source": [
    "### Warm Start Training\n",
    "* Pretrained weights should be freezed, for the intial tuning of new added final layers to avoid large gradient updates that can eliminate the pretrained results from the language model."
   ]
  },
  {
   "cell_type": "code",
   "execution_count": 48,
   "metadata": {},
   "outputs": [],
   "source": [
    "early_stopping = EarlyStopping(monitor='val_accuracy',\n",
    "                               patience=10,\n",
    "                               mode='max',\n",
    "                               restore_best_weights=True)\n",
    "csv_logs = tf.keras.callbacks.CSVLogger('./daily_log.csv', separator=\",\", append=False)"
   ]
  },
  {
   "cell_type": "code",
   "execution_count": 49,
   "metadata": {
    "scrolled": true
   },
   "outputs": [
    {
     "name": "stdout",
     "output_type": "stream",
     "text": [
      "Epoch 1/30\n",
      "3220/3220 [==============================] - 8973s 3s/step - loss: 1.3478 - accuracy: 0.3367 - AUC: 0.5020 - val_loss: 1.3166 - val_accuracy: 0.3169 - val_AUC: 0.4831\n",
      "Epoch 2/30\n",
      "3220/3220 [==============================] - 8786s 3s/step - loss: 1.2439 - accuracy: 0.3371 - AUC: 0.5025 - val_loss: 1.2497 - val_accuracy: 0.3192 - val_AUC: 0.4857\n",
      "Epoch 3/30\n",
      "3220/3220 [==============================] - 8845s 3s/step - loss: 1.2072 - accuracy: 0.3373 - AUC: 0.5038 - val_loss: 1.2224 - val_accuracy: 0.3225 - val_AUC: 0.4833\n",
      "Epoch 4/30\n",
      "3220/3220 [==============================] - 9227s 3s/step - loss: 1.1866 - accuracy: 0.3379 - AUC: 0.5048 - val_loss: 1.2011 - val_accuracy: 0.3225 - val_AUC: 0.4841\n",
      "Epoch 5/30\n",
      "3220/3220 [==============================] - 9348s 3s/step - loss: 1.1736 - accuracy: 0.3386 - AUC: 0.5066 - val_loss: 1.1880 - val_accuracy: 0.3208 - val_AUC: 0.4842\n",
      "Epoch 6/30\n",
      "3220/3220 [==============================] - 9387s 3s/step - loss: 1.1656 - accuracy: 0.3408 - AUC: 0.5084 - val_loss: 1.1959 - val_accuracy: 0.3160 - val_AUC: 0.4791\n",
      "Epoch 7/30\n",
      "3220/3220 [==============================] - 9304s 3s/step - loss: 1.1603 - accuracy: 0.3414 - AUC: 0.5101 - val_loss: 1.1747 - val_accuracy: 0.3258 - val_AUC: 0.4895\n",
      "Epoch 8/30\n",
      "3220/3220 [==============================] - 12379s 4s/step - loss: 1.1556 - accuracy: 0.3418 - AUC: 0.5110 - val_loss: 1.1748 - val_accuracy: 0.3267 - val_AUC: 0.4863\n",
      "Epoch 9/30\n",
      "3220/3220 [==============================] - 10488s 3s/step - loss: 1.1506 - accuracy: 0.3446 - AUC: 0.5124 - val_loss: 1.1734 - val_accuracy: 0.3276 - val_AUC: 0.4860\n",
      "Epoch 10/30\n",
      "3220/3220 [==============================] - 10283s 3s/step - loss: 1.1460 - accuracy: 0.3471 - AUC: 0.5148 - val_loss: 1.1632 - val_accuracy: 0.3311 - val_AUC: 0.4916\n",
      "Epoch 11/30\n",
      "3220/3220 [==============================] - 10282s 3s/step - loss: 1.1424 - accuracy: 0.3484 - AUC: 0.5165 - val_loss: 1.1578 - val_accuracy: 0.3357 - val_AUC: 0.4951\n",
      "Epoch 12/30\n",
      "3220/3220 [==============================] - 9402s 3s/step - loss: 1.1390 - accuracy: 0.3504 - AUC: 0.5183 - val_loss: 1.1514 - val_accuracy: 0.3378 - val_AUC: 0.4992\n",
      "Epoch 13/30\n",
      "3220/3220 [==============================] - 9237s 3s/step - loss: 1.1360 - accuracy: 0.3517 - AUC: 0.5201 - val_loss: 1.1494 - val_accuracy: 0.3380 - val_AUC: 0.5002\n",
      "Epoch 14/30\n",
      "3220/3220 [==============================] - 9153s 3s/step - loss: 1.1330 - accuracy: 0.3530 - AUC: 0.5219 - val_loss: 1.1484 - val_accuracy: 0.3423 - val_AUC: 0.5009\n",
      "Epoch 15/30\n",
      "3220/3220 [==============================] - 9262s 3s/step - loss: 1.1306 - accuracy: 0.3545 - AUC: 0.5234 - val_loss: 1.1461 - val_accuracy: 0.3408 - val_AUC: 0.5025\n",
      "Epoch 16/30\n",
      "3220/3220 [==============================] - 9948s 3s/step - loss: 1.1281 - accuracy: 0.3554 - AUC: 0.5253 - val_loss: 1.1426 - val_accuracy: 0.3473 - val_AUC: 0.5049\n",
      "Epoch 17/30\n",
      "3220/3220 [==============================] - 10696s 3s/step - loss: 1.1259 - accuracy: 0.3567 - AUC: 0.5270 - val_loss: 1.1431 - val_accuracy: 0.3460 - val_AUC: 0.5042\n",
      "Epoch 18/30\n",
      "3220/3220 [==============================] - 9783s 3s/step - loss: 1.1235 - accuracy: 0.3592 - AUC: 0.5288 - val_loss: 1.1383 - val_accuracy: 0.3520 - val_AUC: 0.5087\n",
      "Epoch 19/30\n",
      "3220/3220 [==============================] - 9519s 3s/step - loss: 1.1215 - accuracy: 0.3610 - AUC: 0.5306 - val_loss: 1.1334 - val_accuracy: 0.3508 - val_AUC: 0.5130\n",
      "Epoch 20/30\n",
      "3220/3220 [==============================] - 8972s 3s/step - loss: 1.1196 - accuracy: 0.3625 - AUC: 0.5322 - val_loss: 1.1317 - val_accuracy: 0.3515 - val_AUC: 0.5147\n",
      "Epoch 21/30\n",
      "3220/3220 [==============================] - 9452s 3s/step - loss: 1.1179 - accuracy: 0.3639 - AUC: 0.5339 - val_loss: 1.1289 - val_accuracy: 0.3534 - val_AUC: 0.5168\n",
      "Epoch 22/30\n",
      "3220/3220 [==============================] - 9115s 3s/step - loss: 1.1162 - accuracy: 0.3653 - AUC: 0.5355 - val_loss: 1.1253 - val_accuracy: 0.3571 - val_AUC: 0.5218\n",
      "Epoch 23/30\n",
      "3220/3220 [==============================] - 9011s 3s/step - loss: 1.1147 - accuracy: 0.3671 - AUC: 0.5370 - val_loss: 1.1260 - val_accuracy: 0.3576 - val_AUC: 0.5197\n",
      "Epoch 24/30\n",
      "3220/3220 [==============================] - 9424s 3s/step - loss: 1.1131 - accuracy: 0.3683 - AUC: 0.5386 - val_loss: 1.1218 - val_accuracy: 0.3590 - val_AUC: 0.5245\n",
      "Epoch 25/30\n",
      "3220/3220 [==============================] - 9620s 3s/step - loss: 1.1116 - accuracy: 0.3699 - AUC: 0.5402 - val_loss: 1.1218 - val_accuracy: 0.3625 - val_AUC: 0.5233\n",
      "Epoch 26/30\n",
      "3220/3220 [==============================] - 11331s 4s/step - loss: 1.1104 - accuracy: 0.3713 - AUC: 0.5416 - val_loss: 1.1184 - val_accuracy: 0.3629 - val_AUC: 0.5280\n",
      "Epoch 27/30\n",
      "3220/3220 [==============================] - 9609s 3s/step - loss: 1.1092 - accuracy: 0.3730 - AUC: 0.5432 - val_loss: 1.1167 - val_accuracy: 0.3646 - val_AUC: 0.5300\n",
      "Epoch 28/30\n",
      "3220/3220 [==============================] - 8936s 3s/step - loss: 1.1079 - accuracy: 0.3737 - AUC: 0.5446 - val_loss: 1.1144 - val_accuracy: 0.3648 - val_AUC: 0.5324\n",
      "Epoch 29/30\n",
      "3220/3220 [==============================] - 8995s 3s/step - loss: 1.1068 - accuracy: 0.3748 - AUC: 0.5461 - val_loss: 1.1137 - val_accuracy: 0.3678 - val_AUC: 0.5336\n",
      "Epoch 30/30\n",
      "3220/3220 [==============================] - 8934s 3s/step - loss: 1.1057 - accuracy: 0.3762 - AUC: 0.5475 - val_loss: 1.1109 - val_accuracy: 0.3689 - val_AUC: 0.5377\n"
     ]
    }
   ],
   "source": [
    "history = model.fit(train_seq_data,\n",
    "                    epochs=30,\n",
    "                    validation_data = test_seq_data,\n",
    "                    callbacks=[early_stopping, csv_logs])"
   ]
  },
  {
   "cell_type": "code",
   "execution_count": 50,
   "metadata": {},
   "outputs": [],
   "source": [
    "def plot_learning_curves(df):\n",
    "    fig, axes = plt.subplots(ncols=2, figsize=(15, 4))\n",
    "    df[['loss', 'val_loss']].plot(ax=axes[0], title='Cross-Entropy')\n",
    "    df[['accuracy', 'val_accuracy']].plot(ax=axes[1], title='Accuracy')\n",
    "    for ax in axes:\n",
    "        ax.legend(['Training', 'Validation'])\n",
    "    sns.despine()        \n",
    "    fig.tight_layout();"
   ]
  },
  {
   "cell_type": "code",
   "execution_count": 51,
   "metadata": {},
   "outputs": [],
   "source": [
    "metrics = pd.DataFrame(history.history)"
   ]
  },
  {
   "cell_type": "code",
   "execution_count": 52,
   "metadata": {},
   "outputs": [
    {
     "data": {
      "image/png": "[encoded data removed]",
      "text/plain": [
       "<Figure size 1500x400 with 2 Axes>"
      ]
     },
     "metadata": {},
     "output_type": "display_data"
    }
   ],
   "source": [
    "plot_learning_curves(metrics)"
   ]
  },
  {
   "cell_type": "code",
   "execution_count": 54,
   "metadata": {},
   "outputs": [
    {
     "name": "stdout",
     "output_type": "stream",
     "text": [
      "178/178 [==============================] - 89s 500ms/step - loss: 1.1109 - accuracy: 0.3689 - AUC: 0.5377\n"
     ]
    }
   ],
   "source": [
    "validation_steps= int(X_test.shape[0] / batch_size)\n",
    "second_loss, second_accuracy, second_AUC = model.evaluate(test_seq_data, steps = validation_steps)"
   ]
  },
  {
   "cell_type": "code",
   "execution_count": 55,
   "metadata": {},
   "outputs": [
    {
     "name": "stdout",
     "output_type": "stream",
     "text": [
      "Transfer loss: 1.11 | Transfer Accuracy : 36.89% | Transfer AUC: 53.77%\n"
     ]
    }
   ],
   "source": [
    "print(f'Transfer loss: {second_loss:.2f} | Transfer Accuracy : {second_accuracy:.2%} | Transfer AUC: {second_AUC:.2%}')"
   ]
  },
  {
   "cell_type": "markdown",
   "metadata": {},
   "source": [
    "### Fine Tune all Layers for Target Task"
   ]
  },
  {
   "cell_type": "code",
   "execution_count": 56,
   "metadata": {},
   "outputs": [],
   "source": [
    "model.trainable = True"
   ]
  },
  {
   "cell_type": "code",
   "execution_count": 57,
   "metadata": {},
   "outputs": [
    {
     "name": "stdout",
     "output_type": "stream",
     "text": [
      "Model: \"RNNStocks\"\n",
      "_________________________________________________________________\n",
      " Layer (type)                Output Shape              Param #   \n",
      "=================================================================\n",
      " EmbedLayer (Embedding)      (None, None, 256)         47360     \n",
      "                                                                 \n",
      " BiLSTM (Bidirectional)      (None, 2048)              10493952  \n",
      "                                                                 \n",
      " BatchNormal (BatchNormaliza  (None, 2048)             8192      \n",
      " tion)                                                           \n",
      "                                                                 \n",
      " FullConnected (Dense)       (None, 512)               1049088   \n",
      "                                                                 \n",
      " leaky_re_lu (LeakyReLU)     (None, 512)               0         \n",
      "                                                                 \n",
      " BatchNormal2 (BatchNormaliz  (None, 512)              2048      \n",
      " ation)                                                          \n",
      "                                                                 \n",
      " Output (Dense)              (None, 3)                 1539      \n",
      "                                                                 \n",
      "=================================================================\n",
      "Total params: 11,602,179\n",
      "Trainable params: 11,597,059\n",
      "Non-trainable params: 5,120\n",
      "_________________________________________________________________\n"
     ]
    }
   ],
   "source": [
    "model.summary()"
   ]
  },
  {
   "cell_type": "code",
   "execution_count": 58,
   "metadata": {},
   "outputs": [],
   "source": [
    "# Name of the checkpoint files and save each weights at each epoch\n",
    "# checkpoint_dir = './training_Daily'\n",
    "# checkpoint_prefix = os.path.join(checkpoint_dir, \"daily.h5\")\n",
    "\n",
    "checkpoint_dir = './training_checkpoints_CharWeights_V2'\n",
    "checkpoint_prefix = os.path.join(checkpoint_dir, \"ckpt_{epoch}\")\n",
    "\n",
    "checkpoint_callback_weights=tf.keras.callbacks.ModelCheckpoint(\n",
    "    filepath=checkpoint_prefix,\n",
    "    verbose=1,\n",
    "    save_weights_only=True)\n",
    "\n",
    "checkpoint_callback = tf.keras.callbacks.ModelCheckpoint(\n",
    "                               filepath='../CharModelDev/CharModel-v2/daily.h5',\n",
    "                               verbose=1,\n",
    "                               monitor='val_accuracy',\n",
    "                               mode='max',\n",
    "                               save_best_only=True)\n",
    "\n",
    "early_stopping = EarlyStopping(monitor='val_AUC',\n",
    "                               patience = 20,\n",
    "                               mode='max',\n",
    "                               restore_best_weights=True)\n",
    "csv_logs = tf.keras.callbacks.CSVLogger('./daily_log.csv', separator=\",\", append=True)"
   ]
  },
  {
   "cell_type": "code",
   "execution_count": 59,
   "metadata": {},
   "outputs": [],
   "source": [
    "base_learning_rate = 0.01\n",
    "model.compile(optimizer =tf.keras.optimizers.Adam(lr=base_learning_rate / 10), loss=tf.keras.losses.CategoricalCrossentropy(from_logits=False),\n",
    "          metrics=['accuracy',  tf.keras.metrics.AUC(name='AUC', multi_label=True)])"
   ]
  },
  {
   "cell_type": "code",
   "execution_count": 69,
   "metadata": {},
   "outputs": [
    {
     "data": {
      "text/plain": [
       "datetime.datetime(2024, 3, 29, 12, 3, 19, 490352)"
      ]
     },
     "execution_count": 69,
     "metadata": {},
     "output_type": "execute_result"
    }
   ],
   "source": [
    "from datetime import datetime"
   ]
  },
  {
   "cell_type": "code",
   "execution_count": 73,
   "metadata": {
    "scrolled": true
   },
   "outputs": [
    {
     "name": "stdout",
     "output_type": "stream",
     "text": [
      "2024-03-29 12:09:21.868093\n",
      "Epoch 31/70\n",
      "3220/3220 [==============================] - ETA: 0s - loss: 1.0904 - accuracy: 0.4276 - AUC: 0.5005\n",
      "Epoch 31: val_accuracy improved from -inf to 0.18662, saving model to ../CharModelDev/CharModel-v2\\daily.h5\n",
      "3220/3220 [==============================] - 9397s 3s/step - loss: 1.0904 - accuracy: 0.4276 - AUC: 0.5005 - val_loss: 59.9518 - val_accuracy: 0.1866 - val_AUC: 0.5000\n",
      "Epoch 32/70\n",
      "3220/3220 [==============================] - ETA: 0s - loss: 1.0796 - accuracy: 0.4298 - AUC: 0.4992\n",
      "Epoch 32: val_accuracy improved from 0.18662 to 0.57268, saving model to ../CharModelDev/CharModel-v2\\daily.h5\n",
      "3220/3220 [==============================] - 9226s 3s/step - loss: 1.0796 - accuracy: 0.4298 - AUC: 0.4992 - val_loss: 4.0430 - val_accuracy: 0.5727 - val_AUC: 0.5000\n",
      "Epoch 33/70\n",
      "3220/3220 [==============================] - ETA: 0s - loss: 1.0823 - accuracy: 0.4284 - AUC: 0.4980\n",
      "Epoch 33: val_accuracy did not improve from 0.57268\n",
      "3220/3220 [==============================] - 9239s 3s/step - loss: 1.0823 - accuracy: 0.4284 - AUC: 0.4980 - val_loss: 11.6611 - val_accuracy: 0.1866 - val_AUC: 0.5000\n",
      "Epoch 34/70\n",
      "3220/3220 [==============================] - ETA: 0s - loss: 1.0786 - accuracy: 0.4300 - AUC: 0.4981\n",
      "Epoch 34: val_accuracy did not improve from 0.57268\n",
      "3220/3220 [==============================] - 11274s 4s/step - loss: 1.0786 - accuracy: 0.4300 - AUC: 0.4981 - val_loss: 2.2071 - val_accuracy: 0.5727 - val_AUC: 0.5000\n",
      "Epoch 35/70\n",
      "3220/3220 [==============================] - ETA: 0s - loss: 1.0786 - accuracy: 0.4300 - AUC: 0.4987\n",
      "Epoch 35: val_accuracy did not improve from 0.57268\n",
      "3220/3220 [==============================] - 9887s 3s/step - loss: 1.0786 - accuracy: 0.4300 - AUC: 0.4987 - val_loss: 2.0193 - val_accuracy: 0.1866 - val_AUC: 0.5000\n",
      "Epoch 36/70\n",
      "3220/3220 [==============================] - ETA: 0s - loss: 1.0793 - accuracy: 0.4294 - AUC: 0.4981\n",
      "Epoch 36: val_accuracy did not improve from 0.57268\n",
      "3220/3220 [==============================] - 9149s 3s/step - loss: 1.0793 - accuracy: 0.4294 - AUC: 0.4981 - val_loss: 2.6094 - val_accuracy: 0.5727 - val_AUC: 0.5000\n",
      "Epoch 37/70\n",
      "3220/3220 [==============================] - ETA: 0s - loss: 1.0783 - accuracy: 0.4300 - AUC: 0.4976\n",
      "Epoch 37: val_accuracy did not improve from 0.57268\n",
      "3220/3220 [==============================] - 9080s 3s/step - loss: 1.0783 - accuracy: 0.4300 - AUC: 0.4976 - val_loss: 8.7744 - val_accuracy: 0.1866 - val_AUC: 0.5000\n",
      "Epoch 38/70\n",
      "3220/3220 [==============================] - ETA: 0s - loss: 1.0784 - accuracy: 0.4300 - AUC: 0.4976\n",
      "Epoch 38: val_accuracy did not improve from 0.57268\n",
      "3220/3220 [==============================] - 9138s 3s/step - loss: 1.0784 - accuracy: 0.4300 - AUC: 0.4976 - val_loss: 1.9656 - val_accuracy: 0.5727 - val_AUC: 0.5000\n",
      "Epoch 39/70\n",
      "3220/3220 [==============================] - ETA: 0s - loss: 1.0785 - accuracy: 0.4298 - AUC: 0.4981\n",
      "Epoch 39: val_accuracy did not improve from 0.57268\n",
      "3220/3220 [==============================] - 9086s 3s/step - loss: 1.0785 - accuracy: 0.4298 - AUC: 0.4981 - val_loss: 2.8802 - val_accuracy: 0.5727 - val_AUC: 0.5000\n",
      "Epoch 40/70\n",
      "3220/3220 [==============================] - ETA: 0s - loss: 1.0785 - accuracy: 0.4298 - AUC: 0.4977\n",
      "Epoch 40: val_accuracy did not improve from 0.57268\n",
      "3220/3220 [==============================] - 19573s 6s/step - loss: 1.0785 - accuracy: 0.4298 - AUC: 0.4977 - val_loss: 7.3311 - val_accuracy: 0.1866 - val_AUC: 0.5000\n",
      "Epoch 41/70\n",
      "3220/3220 [==============================] - ETA: 0s - loss: 1.0785 - accuracy: 0.4296 - AUC: 0.4982\n",
      "Epoch 41: val_accuracy did not improve from 0.57268\n",
      "3220/3220 [==============================] - 9368s 3s/step - loss: 1.0785 - accuracy: 0.4296 - AUC: 0.4982 - val_loss: 7.2047 - val_accuracy: 0.2407 - val_AUC: 0.5000\n",
      "Epoch 42/70\n",
      "3220/3220 [==============================] - ETA: 0s - loss: 1.0785 - accuracy: 0.4296 - AUC: 0.4981\n",
      "Epoch 42: val_accuracy did not improve from 0.57268\n",
      "3220/3220 [==============================] - 13334s 4s/step - loss: 1.0785 - accuracy: 0.4296 - AUC: 0.4981 - val_loss: 31.4191 - val_accuracy: 0.1866 - val_AUC: 0.5000\n",
      "Epoch 43/70\n",
      "3220/3220 [==============================] - ETA: 0s - loss: 1.0785 - accuracy: 0.4298 - AUC: 0.4979\n",
      "Epoch 43: val_accuracy did not improve from 0.57268\n",
      "3220/3220 [==============================] - 11711s 4s/step - loss: 1.0785 - accuracy: 0.4298 - AUC: 0.4979 - val_loss: 1.2337 - val_accuracy: 0.5727 - val_AUC: 0.5000\n",
      "Epoch 44/70\n",
      "3220/3220 [==============================] - ETA: 0s - loss: 1.0785 - accuracy: 0.4298 - AUC: 0.4983\n",
      "Epoch 44: val_accuracy did not improve from 0.57268\n",
      "3220/3220 [==============================] - 9110s 3s/step - loss: 1.0785 - accuracy: 0.4298 - AUC: 0.4983 - val_loss: 29.8354 - val_accuracy: 0.1866 - val_AUC: 0.5000\n",
      "Epoch 45/70\n",
      "3220/3220 [==============================] - ETA: 0s - loss: 1.0785 - accuracy: 0.4298 - AUC: 0.4983\n",
      "Epoch 45: val_accuracy did not improve from 0.57268\n",
      "3220/3220 [==============================] - 9122s 3s/step - loss: 1.0785 - accuracy: 0.4298 - AUC: 0.4983 - val_loss: 7.6496 - val_accuracy: 0.2407 - val_AUC: 0.5000\n",
      "Epoch 46/70\n",
      "3220/3220 [==============================] - ETA: 0s - loss: 1.0785 - accuracy: 0.4300 - AUC: 0.4982\n",
      "Epoch 46: val_accuracy did not improve from 0.57268\n",
      "3220/3220 [==============================] - 9043s 3s/step - loss: 1.0785 - accuracy: 0.4300 - AUC: 0.4982 - val_loss: 1.7723 - val_accuracy: 0.5727 - val_AUC: 0.5000\n",
      "Epoch 47/70\n",
      "3220/3220 [==============================] - ETA: 0s - loss: 1.0785 - accuracy: 0.4296 - AUC: 0.4979\n",
      "Epoch 47: val_accuracy did not improve from 0.57268\n",
      "3220/3220 [==============================] - 9200s 3s/step - loss: 1.0785 - accuracy: 0.4296 - AUC: 0.4979 - val_loss: 2.0363 - val_accuracy: 0.5727 - val_AUC: 0.5000\n",
      "Epoch 48/70\n",
      "3220/3220 [==============================] - ETA: 0s - loss: 1.0785 - accuracy: 0.4298 - AUC: 0.4986\n",
      "Epoch 48: val_accuracy did not improve from 0.57268\n",
      "3220/3220 [==============================] - 9279s 3s/step - loss: 1.0785 - accuracy: 0.4298 - AUC: 0.4986 - val_loss: 11.5428 - val_accuracy: 0.1866 - val_AUC: 0.5000\n",
      "Epoch 49/70\n",
      "3220/3220 [==============================] - ETA: 0s - loss: 1.0785 - accuracy: 0.4300 - AUC: 0.4983\n",
      "Epoch 49: val_accuracy did not improve from 0.57268\n",
      "3220/3220 [==============================] - 28582s 9s/step - loss: 1.0785 - accuracy: 0.4300 - AUC: 0.4983 - val_loss: 8.8776 - val_accuracy: 0.1866 - val_AUC: 0.5000\n",
      "Epoch 50/70\n",
      "3220/3220 [==============================] - ETA: 0s - loss: 1.0785 - accuracy: 0.4296 - AUC: 0.4977\n",
      "Epoch 50: val_accuracy did not improve from 0.57268\n",
      "3220/3220 [==============================] - 9601s 3s/step - loss: 1.0785 - accuracy: 0.4296 - AUC: 0.4977 - val_loss: 8.3326 - val_accuracy: 0.1866 - val_AUC: 0.5000\n",
      "Epoch 51/70\n",
      "3220/3220 [==============================] - ETA: 0s - loss: 1.0824 - accuracy: 0.4282 - AUC: 0.4988\n",
      "Epoch 51: val_accuracy did not improve from 0.57268\n",
      "3220/3220 [==============================] - 9294s 3s/step - loss: 1.0824 - accuracy: 0.4282 - AUC: 0.4988 - val_loss: 21.3704 - val_accuracy: 0.2407 - val_AUC: 0.5000\n",
      "2024-04-01 04:47:35.481618\n",
      "Time took 3878.2 min\n"
     ]
    }
   ],
   "source": [
    "time_start = datetime.now()\n",
    "print(time_start)\n",
    "epochs = 100 - (history.epoch[-1] + 1) \n",
    "start = time.time()\n",
    "fine_tuned_history = model.fit(train_seq_data, epochs=epochs, initial_epoch=(history.epoch[-1] + 1),workers = -1,\n",
    "                    verbose = 1, validation_data=(test_seq_data),\n",
    "                    callbacks=[checkpoint_callback, early_stopping, csv_logs])\n",
    "end = time.time()\n",
    "time_send = datetime.now()\n",
    "print(time_send)\n",
    "print(\"Time took {:3.1f} min\".format((end-start)/60))"
   ]
  },
  {
   "cell_type": "code",
   "execution_count": 200,
   "metadata": {},
   "outputs": [
    {
     "name": "stdout",
     "output_type": "stream",
     "text": [
      "89/89 [==============================] - 50s 564ms/step - loss: 0.6948 - accuracy: 0.5318 - AUC: 0.5123\n",
      "Test loss: 0.6948203444480896\n",
      "Test accuracy: 0.5317766666412354\n",
      "Test AUC: 0.5122969746589661\n"
     ]
    }
   ],
   "source": [
    "score = model.evaluate((test_seq_data), verbose=1)\n",
    "print('Test loss:', score[0])\n",
    "print('Test accuracy:', score[1])\n",
    "print('Test AUC:', score[2])"
   ]
  },
  {
   "cell_type": "code",
   "execution_count": 201,
   "metadata": {},
   "outputs": [
    {
     "name": "stdout",
     "output_type": "stream",
     "text": [
      "44/44 [==============================] - 25s 569ms/step - loss: 0.6873 - accuracy: 0.3913 - AUC: 0.5152\n",
      "Test loss: 0.6873216032981873\n",
      "Test accuracy: 0.39133521914482117\n",
      "Test AUC: 0.5152168273925781\n"
     ]
    }
   ],
   "source": [
    "score = model.evaluate((infer_seq_data), verbose=1)\n",
    "print('Test loss:', score[0])\n",
    "print('Test accuracy:', score[1])\n",
    "print('Test AUC:', score[2])"
   ]
  },
  {
   "cell_type": "code",
   "execution_count": null,
   "metadata": {},
   "outputs": [],
   "source": []
  },
  {
   "cell_type": "code",
   "execution_count": null,
   "metadata": {},
   "outputs": [],
   "source": []
  },
  {
   "cell_type": "code",
   "execution_count": null,
   "metadata": {},
   "outputs": [],
   "source": []
  },
  {
   "cell_type": "code",
   "execution_count": null,
   "metadata": {},
   "outputs": [],
   "source": []
  },
  {
   "cell_type": "code",
   "execution_count": 99,
   "metadata": {},
   "outputs": [],
   "source": [
    "fine_tuned = pd.DataFrame(fine_tuned_history.history)\n",
    "df = pd.concat([metrics, fine_tuned]).reset_index(drop = 1)\n",
    "df.index +=1"
   ]
  },
  {
   "cell_type": "code",
   "execution_count": 100,
   "metadata": {},
   "outputs": [
    {
     "data": {
      "image/png": "[encoded data removed]",
      "text/plain": [
       "<Figure size 1600x400 with 3 Axes>"
      ]
     },
     "metadata": {},
     "output_type": "display_data"
    }
   ],
   "source": [
    "fig, axes = plt.subplots(ncols=3, figsize=(16, 4))\n",
    "#ACCURACY\n",
    "df1 = (df[['accuracy', 'val_accuracy']]\n",
    "       .rename(columns={'accuracy': 'Training',\n",
    "                        'val_accuracy': 'Validation'}))\n",
    "df1.plot(ax=axes[0], title='Accuracy', xlim=(1, len(df)))\n",
    "axes[0].axvline(df.val_accuracy.idxmax(), ls='--', lw=1, c='k')\n",
    "axes[0].axvline(len(metrics), ls='-', lw=1, c='k')\n",
    "#AUC\n",
    "df2 = (df[['AUC', 'val_AUC']]\n",
    "       .rename(columns={'AUC': 'Training',\n",
    "                        'val_AUC': 'Validation'}))\n",
    "df2.plot(ax=axes[1], title='Area under the ROC Curve', xlim=(1, len(df)))\n",
    "\n",
    "axes[1].axvline(df.val_AUC.idxmax(), ls='--', lw=1, c='k')\n",
    "axes[1].axvline(len(metrics), ls='-', lw=1, c='k')\n",
    "#LOSS\n",
    "df2 = (df[['loss', 'val_loss']]\n",
    "       .rename(columns={'loss': 'Training',\n",
    "                        'val_loss': 'Validation'}))\n",
    "df2.plot(ax=axes[2], title='Loss', xlim=(1, len(df)))\n",
    "\n",
    "axes[2].axvline(df.val_loss.idxmin(), ls='--', lw=1, c='k')\n",
    "axes[2].axvline(len(metrics), ls='-', lw=1, c='k')\n",
    "for i in [0, 1, 2]:\n",
    "    axes[i].set_xlabel('Epoch')\n",
    "\n",
    "sns.despine()\n",
    "fig.tight_layout()"
   ]
  },
  {
   "cell_type": "code",
   "execution_count": 103,
   "metadata": {},
   "outputs": [],
   "source": [
    "# for ax in axes:\n",
    "#     ax.axvline(10, ls='--', lw=1, c='k')\n",
    "#     ax.legend(['Training', 'Validation', 'Start Fine Tuning'])\n",
    "#     ax.set_xlabel('Epoch')"
   ]
  },
  {
   "cell_type": "markdown",
   "metadata": {},
   "source": [
    "### Post FineTuning Analysis"
   ]
  },
  {
   "cell_type": "code",
   "execution_count": 104,
   "metadata": {},
   "outputs": [
    {
     "data": {
      "text/plain": [
       "LogicalDevice(name='/device:GPU:0', device_type='GPU')"
      ]
     },
     "execution_count": 104,
     "metadata": {},
     "output_type": "execute_result"
    }
   ],
   "source": [
    "tf.config.experimental.list_logical_devices()[-1]"
   ]
  },
  {
   "cell_type": "code",
   "execution_count": 176,
   "metadata": {},
   "outputs": [],
   "source": [
    "#Load the models and accesories\n",
    "with tf.device(tf.config.experimental.list_logical_devices()[-1]):\n",
    "    \n",
    "    HeNormal = tf.keras.initializers.he_normal()\n",
    "    # weights = tf.keras.models.load_model('../CharModelDev/CharModel-v2/daily.h5', custom_objects={'HeNormal': HeNormal},compile=False).get_weights()\n",
    "    daily_v3 = tf.keras.models.load_model('../CharModelDev/CharModel-v2/daily.h5', compile=False)\n",
    "    # daily_v3.set_weights(weights)"
   ]
  },
  {
   "cell_type": "code",
   "execution_count": null,
   "metadata": {
    "scrolled": true
   },
   "outputs": [],
   "source": []
  },
  {
   "cell_type": "code",
   "execution_count": null,
   "metadata": {},
   "outputs": [],
   "source": [
    "# #Compile then load weights\n",
    "# ChaRmodel = create_language_model(None, 185)\n",
    "# weights_dir = './training_checkpoints_CharWeights_V2'\n",
    "# print(tf.train.latest_checkpoint(weights_dir))\n",
    "\n",
    "# ChaRmodel.load_weights(tf.train.latest_checkpoint(weights_dir))"
   ]
  },
  {
   "cell_type": "code",
   "execution_count": 133,
   "metadata": {},
   "outputs": [
    {
     "name": "stdout",
     "output_type": "stream",
     "text": [
      "178/178 [==============================] - 102s 556ms/step - loss: 4.0430 - accuracy: 0.5727 - AUC: 0.5000\n",
      "Test loss: 4.042952060699463\n",
      "Test accuracy: 0.5726825594902039\n",
      "Test AUC: 0.5\n"
     ]
    }
   ],
   "source": [
    "score = daily_v3.evaluate((test_seq_data), verbose=1)\n",
    "print('Test loss:', score[0])\n",
    "print('Test accuracy:', score[1])\n",
    "print('Test AUC:', score[2])"
   ]
  },
  {
   "cell_type": "code",
   "execution_count": 134,
   "metadata": {},
   "outputs": [
    {
     "name": "stdout",
     "output_type": "stream",
     "text": [
      "89/89 [==============================] - 54s 583ms/step - loss: 4.4383 - accuracy: 0.4270 - AUC: 0.5000\n",
      "Test loss: 4.438314437866211\n",
      "Test accuracy: 0.42696627974510193\n",
      "Test AUC: 0.5\n"
     ]
    }
   ],
   "source": [
    "score = daily_v3.evaluate((infer_seq_data), verbose=1)\n",
    "print('Test loss:', score[0])\n",
    "print('Test accuracy:', score[1])\n",
    "print('Test AUC:', score[2])"
   ]
  },
  {
   "cell_type": "code",
   "execution_count": 147,
   "metadata": {},
   "outputs": [
    {
     "name": "stdout",
     "output_type": "stream",
     "text": [
      "178/178 [==============================] - 102s 564ms/step\n"
     ]
    }
   ],
   "source": [
    "y_test_pred =  daily_v3.predict((test_seq_data), verbose=1)"
   ]
  },
  {
   "cell_type": "code",
   "execution_count": 148,
   "metadata": {},
   "outputs": [
    {
     "name": "stdout",
     "output_type": "stream",
     "text": [
      "89/89 [==============================] - 55s 607ms/step\n"
     ]
    }
   ],
   "source": [
    "y_infer_pred =  daily_v3.predict((infer_seq_data), verbose=1)"
   ]
  },
  {
   "cell_type": "code",
   "execution_count": null,
   "metadata": {},
   "outputs": [],
   "source": []
  },
  {
   "cell_type": "code",
   "execution_count": 145,
   "metadata": {},
   "outputs": [],
   "source": [
    "from sklearn.metrics import (accuracy_score,\n",
    "                             classification_report,\n",
    "                             confusion_matrix)\n",
    "\n",
    "def evaluate(y_true, y_pred):\n",
    "    # labels = ['buy', 'hold', 'sell']\n",
    "    # mapping = {'buy': 2, 'sell': 0, 'none':1, 'hold': 1}\n",
    "    # def map_func(x):\n",
    "    #     return mapping.get(x, 1)\n",
    "\n",
    "    # y_true = np.vectorize(map_func)(y_true)\n",
    "    # y_pred = np.vectorize(map_func)(y_pred)\n",
    "\n",
    "    # Calculate accuracy\n",
    "    accuracy = accuracy_score(y_true=y_true, y_pred=y_pred)\n",
    "    print(f'Accuracy: {accuracy:.3f}')\n",
    "\n",
    "    # Generate accuracy report\n",
    "    unique_labels = set(y_true)  # Get unique labels\n",
    "\n",
    "    for label in unique_labels:\n",
    "        label_indices = [i for i in range(len(y_true))\n",
    "                         if y_true[i] == label]\n",
    "        label_y_true = [y_true[i] for i in label_indices]\n",
    "        label_y_pred = [y_pred[i] for i in label_indices]\n",
    "        accuracy = accuracy_score(label_y_true, label_y_pred)\n",
    "        print(f'Accuracy for label {label}: {accuracy:.3f}')\n",
    "\n",
    "    # Generate classification report\n",
    "    class_report = classification_report(y_true=y_true, y_pred=y_pred)\n",
    "    print('\\nClassification Report:')\n",
    "    print(class_report)\n",
    "\n",
    "    # Generate confusion matrix\n",
    "    conf_matrix = confusion_matrix(y_true=y_true, y_pred=y_pred)\n",
    "    print('\\nConfusion Matrix:')\n",
    "    print(conf_matrix)"
   ]
  },
  {
   "cell_type": "code",
   "execution_count": 141,
   "metadata": {},
   "outputs": [
    {
     "data": {
      "text/plain": [
       "ticker  time      \n",
       "A       2019-07-11    1\n",
       "        2019-07-12    1\n",
       "        2019-07-16    1\n",
       "        2019-07-17    1\n",
       "        2019-07-18    0\n",
       "                     ..\n",
       "ZTS     2019-07-23    1\n",
       "        2019-07-26    1\n",
       "        2019-07-29    1\n",
       "        2019-07-30    1\n",
       "        2019-07-31    1\n",
       "Name: Signal, Length: 5697, dtype: int64"
      ]
     },
     "execution_count": 141,
     "metadata": {},
     "output_type": "execute_result"
    }
   ],
   "source": [
    "evaluate(y_true = y_test.values, y_pred = )"
   ]
  },
  {
   "cell_type": "code",
   "execution_count": 149,
   "metadata": {},
   "outputs": [
    {
     "data": {
      "text/plain": [
       "array([[2.2505678e-06, 9.9230754e-01, 7.6901917e-03],\n",
       "       [2.2503064e-06, 9.9230874e-01, 7.6890085e-03],\n",
       "       [2.2506563e-06, 9.9230778e-01, 7.6899477e-03],\n",
       "       ...,\n",
       "       [2.2511877e-06, 9.9230349e-01, 7.6942565e-03],\n",
       "       [2.2512809e-06, 9.9230301e-01, 7.6947226e-03],\n",
       "       [2.2509169e-06, 9.9230814e-01, 7.6896092e-03]], dtype=float32)"
      ]
     },
     "execution_count": 149,
     "metadata": {},
     "output_type": "execute_result"
    }
   ],
   "source": [
    "y_test_pred"
   ]
  },
  {
   "cell_type": "code",
   "execution_count": null,
   "metadata": {},
   "outputs": [],
   "source": []
  },
  {
   "cell_type": "code",
   "execution_count": null,
   "metadata": {},
   "outputs": [],
   "source": []
  },
  {
   "cell_type": "code",
   "execution_count": null,
   "metadata": {},
   "outputs": [],
   "source": []
  },
  {
   "cell_type": "code",
   "execution_count": null,
   "metadata": {},
   "outputs": [],
   "source": []
  },
  {
   "cell_type": "code",
   "execution_count": 177,
   "metadata": {},
   "outputs": [
    {
     "name": "stdout",
     "output_type": "stream",
     "text": [
      "<s>MSFT rallying after last earnings call<\\s\u0000\u0000\u0000\u0000\u0000\u0000\u0000\u0000\u0000\u0000\u0000\u0000\u0000\u0000\u0000\u0000\u0000\u0000\u0000\u0000\n",
      "[[31], [86], [33], [48], [54], [41], [55], [3], [85], [68], [79], [79], [92], [76], [81], [74], [3], [68], [73], [87], [72], [85], [3], [79], [68], [86], [87], [3], [72], [68], [85], [81], [76], [81], [74], [86], [3], [70], [68], [79], [79], [31], [63], [86], [0], [0], [0], [0], [0], [0], [0], [0], [0], [0], [0], [0], [0], [0], [0], [0], [0], [0], [0], [0]]\n"
     ]
    },
    {
     "data": {
      "text/plain": [
       "(1, 64)"
      ]
     },
     "execution_count": 177,
     "metadata": {},
     "output_type": "execute_result"
    }
   ],
   "source": [
    "padded_sample = 'MSFT rallying after last earnings call' \n",
    "padded_sample = '<s>' + padded_sample + '<\\s' + chr(0) * 20\n",
    "print(padded_sample)\n",
    "padded_sample = [i.encode('utf-8') for i in padded_sample]\n",
    "padded_sample = tokenizer.texts_to_sequences(padded_sample)\n",
    "print(padded_sample)\n",
    "padded_sample = tf.squeeze(padded_sample)\n",
    "padded_sample = tf.expand_dims(padded_sample, 0).numpy()\n",
    "padded_sample.shape"
   ]
  },
  {
   "cell_type": "code",
   "execution_count": 178,
   "metadata": {},
   "outputs": [
    {
     "name": "stdout",
     "output_type": "stream",
     "text": [
      "[[2.2450818e-06 9.9229795e-01 7.6998444e-03]]\n",
      "vs\n",
      "[[2.2450818e-06 9.9229795e-01 7.6998444e-03]]\n",
      "[1] :  [0.99229795]\n"
     ]
    }
   ],
   "source": [
    "print(daily_v3(sample).numpy())\n",
    "print('vs')\n",
    "print(daily_v3(padded_sample).numpy())\n",
    "print(np.argmax(daily_V2(sample).numpy(), axis = 1),': ',np.max(daily_V2(sample).numpy(), axis = 1))"
   ]
  },
  {
   "cell_type": "code",
   "execution_count": null,
   "metadata": {},
   "outputs": [],
   "source": []
  },
  {
   "cell_type": "code",
   "execution_count": null,
   "metadata": {},
   "outputs": [],
   "source": []
  },
  {
   "cell_type": "code",
   "execution_count": null,
   "metadata": {},
   "outputs": [],
   "source": []
  }
 ],
 "metadata": {
  "kernelspec": {
   "display_name": "Python 3 (ipykernel)",
   "language": "python",
   "name": "python3"
  },
  "language_info": {
   "codemirror_mode": {
    "name": "ipython",
    "version": 3
   },
   "file_extension": ".py",
   "mimetype": "text/x-python",
   "name": "python",
   "nbconvert_exporter": "python",
   "pygments_lexer": "ipython3",
   "version": "3.10.14"
  }
 },
 "nbformat": 4,
 "nbformat_minor": 4
}
