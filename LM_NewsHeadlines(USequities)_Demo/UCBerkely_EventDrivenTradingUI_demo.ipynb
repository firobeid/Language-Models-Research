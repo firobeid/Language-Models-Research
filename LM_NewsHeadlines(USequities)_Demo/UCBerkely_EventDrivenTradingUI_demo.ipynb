{
 "cells": [
  {
   "cell_type": "code",
   "execution_count": 14,
   "id": "acc4d410-6182-43d5-bcd0-3bdad67fd564",
   "metadata": {
    "tags": []
   },
   "outputs": [],
   "source": [
    "import pip\n",
    "from warnings import filterwarnings\n",
    "filterwarnings(\"ignore\")\n",
    "def import_or_install(package:str):\n",
    "    try:\n",
    "        __import__(package)\n",
    "        return 'Found'\n",
    "    except ImportError:\n",
    "        pip.main(['install', package]) \n",
    "        return 'Installed'\n",
    "import os\n",
    "print(os.environ['CONDA_DEFAULT_ENV'])\n",
    "packages = ['pandas', 'tqdm', 'numpy','psutil', 'tensorflow', 'tables', 'ipywidgets']\n",
    "[import_or_install(i) for i in packages]"
   ]
  },
  {
   "cell_type": "code",
   "execution_count": 27,
   "id": "8ddc2037-6e3b-4f3a-8a50-e39f2c793d09",
   "metadata": {
    "tags": []
   },
   "outputs": [],
   "source": [
    "import tensorflow as tf\n",
    "from tensorflow import keras\n",
    "from tensorflow.keras.preprocessing.sequence import pad_sequences\n",
    "import tensorflow.keras.backend as K\n",
    "from tqdm import tqdm\n",
    "import datetime\n",
    "from pathlib import Path\n",
    "import os\n",
    "import time\n",
    "import pandas as pd\n",
    "import numpy as np\n",
    "import psutil\n",
    "from IPython.display import display, HTML, clear_output\n",
    "from functions import *\n",
    "import ipywidgets as widgets\n",
    "# Ignore harmless warnings\n",
    "import warnings\n",
    "warnings.filterwarnings(\"ignore\")\n",
    "# import matplotlib.pyplot as plt\n",
    "# import seaborn as sns\n",
    "# sns.set_style('darkgrid')\n",
    "\n",
    "pd.set_option('display.max_rows', 1000)\n",
    "pd.set_option('display.max_columns', 1000)\n",
    "pd.set_option('display.width', 1000)\n",
    "# %matplotlib inline"
   ]
  },
  {
   "cell_type": "code",
   "execution_count": 28,
   "id": "4c61edea-aac7-498d-94c1-37ec78422d29",
   "metadata": {
    "tags": []
   },
   "outputs": [],
   "source": [
    "# Set Paths\n",
    "news_db = \"news_db.h5\"\n",
    "DATA_PATH = 'models_DB.h5'\n",
    "model_V1 = \"./CharModelDev/CharModel-v1/daily.h5\"\n",
    "model_V2 = './CharModelDev/CharModel-v2/daily.h5'"
   ]
  },
  {
   "cell_type": "code",
   "execution_count": 29,
   "id": "250fa5d0-bc82-4388-bf39-31127424b4b6",
   "metadata": {
    "tags": []
   },
   "outputs": [],
   "source": [
    "# with pd.HDFStore(news_db) as store:\n",
    "#     keys = list(store.keys())\n",
    "#     news = pd.DataFrame()\n",
    "#     for i in tqdm(keys): \n",
    "#         news = news.append(store[i])  \n",
    "\n",
    "# news = news.reset_index().set_index('versionCreated')\n",
    "# news.index = news.index.strftime('%Y-%m-%d')\n",
    "# news.index = pd.to_datetime(news.index)\n",
    "# news = news.drop(['index','storyId', 'sourceCode'], axis = 1)\n",
    "# news.index.name = 'date'\n",
    "# news.info()"
   ]
  },
  {
   "cell_type": "code",
   "execution_count": 30,
   "id": "ccc889ba-7cb0-4075-a2d5-5c1901e3d5fc",
   "metadata": {
    "tags": []
   },
   "outputs": [
    {
     "name": "stdout",
     "output_type": "stream",
     "text": [
      "[PhysicalDevice(name='/physical_device:CPU:0', device_type='CPU')]\n",
      "[LogicalDevice(name='/device:CPU:0', device_type='CPU')]\n"
     ]
    }
   ],
   "source": [
    "#Set Processor to Run computations in\n",
    "print(tf.config.list_physical_devices(device_type=None))\n",
    "print(tf.config.experimental.list_logical_devices())\n",
    "tf.config.optimizer.set_jit(True)\n",
    "gpus = tf.config.list_physical_devices('XLA_CPU')\n",
    "if gpus:\n",
    "  # Restrict TensorFlow to only use some XLA_CPU\n",
    "    try:\n",
    "        tf.config.experimental.set_visible_devices(gpus[:], 'XLA_CPU')\n",
    "        logical_gpus = tf.config.experimental.list_logical_devices('XLA_CPU')\n",
    "        print(len(gpus), \"Physical GPU,\", len(logical_gpus), \"Logical GPUs\")\n",
    "    except RuntimeError as e:\n",
    "    # Visible devices must be set at program startup\n",
    "        print(e)\n",
    "\n",
    "# fix random seed for reproducibility\n",
    "K.clear_session()\n",
    "tf.keras.backend.clear_session()\n",
    "np.random.seed(42)\n",
    "tf.random.set_seed(42)\n",
    "\n",
    "\n",
    "#Load the models and accesories\n",
    "with tf.device(tf.config.experimental.list_logical_devices()[-1]):\n",
    "    daily_V1 = tf.keras.models.load_model(model_V1, compile=False)\n",
    "    HeNormal = tf.keras.initializers.he_normal()\n",
    "    daily_V2 = tf.keras.models.load_model(model_V2, custom_objects={'HeNormal': HeNormal},compile=False)"
   ]
  },
  {
   "cell_type": "code",
   "execution_count": null,
   "id": "ac56bb23-8676-4bca-9723-a87e83389664",
   "metadata": {
    "tags": []
   },
   "outputs": [],
   "source": []
  },
  {
   "cell_type": "code",
   "execution_count": 31,
   "id": "2216509d-dfd8-4d48-9932-5819d72ada28",
   "metadata": {
    "tags": []
   },
   "outputs": [],
   "source": [
    "# # headline = \"Amazon's Sales Growth Costs a Fortune in Shipping and Fulfillment\" + \" Jeff Bezos, Bill Gates and other tech luminaries react to Biden's victory\" + \" Amazon rolls out rewards program that makes it easier for drivers to get work\" + \" TECH Alibaba cloud growth outpaces Amazon and Microsoft as Chinese tech giant pushes for profitability\"\n",
    "# # headline = \"<s>ZOETIS INC <ZTS.N>: CREDIT SUISSE RAISES PRICE TARGET TO $192 FROM $182 ZOETIS INC <ZTS.N>: BOFA GLOBAL RESEARCH RAISES PRICE OBJECTIVE TO $175 FROM $170 NYSE ORDER IMBALANCE <ZTS.N> 77562.0 SHARES ON SELL SIDE<\\s>\"\n",
    "# headline = 'High earnings next quarter'\n",
    "# # headline = \"Joe Biden\" \n",
    "# # sample = \"Donald Trump\" \n",
    "# sample = '<s>' + headline + '<\\s' \n",
    "# print(sample)\n",
    "# sample = encode2bytes(sample)\n",
    "# print(sample)\n",
    "# # sample = tf.ragged.constant(sample)\n",
    "# sample = tf.squeeze(sample, )\n",
    "# sample = tf.expand_dims(sample, 0).numpy()\n",
    "# print(sample)\n",
    "# sample.shape"
   ]
  },
  {
   "cell_type": "code",
   "execution_count": 32,
   "id": "f0f9161a-79a8-4441-9c18-d4bd8a32c513",
   "metadata": {
    "tags": []
   },
   "outputs": [],
   "source": [
    "# predict = daily_V1(sample).numpy()[0][0]\n",
    "# print(\"Probability from Headlines: %f\" % predict)"
   ]
  },
  {
   "cell_type": "code",
   "execution_count": 33,
   "id": "a1f2a3d7-2e50-45cb-af38-94a80edd7449",
   "metadata": {
    "tags": []
   },
   "outputs": [],
   "source": [
    "# headline = '<s>' + headline + '<\\s' \n",
    "# sample_2 = headline.encode('utf-8')\n",
    "\n",
    "# tokenizer = tokenize() \n",
    "# sample_2 = tokenizer.texts_to_sequences([sample_2])\n",
    "\n",
    "# predict_v2 = daily_V2.predict(sample_2)[0,0]\n",
    "# print(\"Probability from Headlines: %f\" % predict_v2)"
   ]
  },
  {
   "cell_type": "code",
   "execution_count": 34,
   "id": "213b2b9d-d233-4864-8322-9608ba2ef47d",
   "metadata": {
    "tags": []
   },
   "outputs": [],
   "source": [
    "# trained_embeddings = daily_V2.get_layer('EmbedLayer').get_weights()[0]"
   ]
  },
  {
   "cell_type": "code",
   "execution_count": 35,
   "id": "dfc2fb01-e247-4585-8732-17f066fbeeb8",
   "metadata": {
    "tags": []
   },
   "outputs": [],
   "source": [
    "# trained_embeddings.shape"
   ]
  },
  {
   "cell_type": "code",
   "execution_count": 36,
   "id": "db2ada3c-003a-4870-953b-891305d40963",
   "metadata": {
    "tags": []
   },
   "outputs": [],
   "source": [
    "news_headline_input = widgets.Textarea(\n",
    "    value='',\n",
    "    placeholder=\"Pass in news headline for the respective ticker here please!\",\n",
    "    description='New Headlines:',\n",
    "    width = 500,\n",
    "    disabled=False,\n",
    "    layout={'width': 'max-content'}\n",
    ")\n",
    "\n",
    "\n",
    "model_1 = widgets.Button(\n",
    "    description='Press to Get Model 1 Prediction',\n",
    "    disabled=False,\n",
    "    button_style='success', # 'success', 'info', 'warning', 'danger' or ''\n",
    "    tooltip='Click me',\n",
    "    icon='check',# (FontAwesome names without the `fa-` prefix)\n",
    "    layout={'width': 'max-content'}, # If the items' names are long\n",
    ")\n",
    "\n",
    "model_2 = widgets.Button(\n",
    "    description='Press to Get Model 2 Prediction',\n",
    "    disabled=False,\n",
    "    button_style='success', # 'success', 'info', 'warning', 'danger' or ''\n",
    "    tooltip='Click me',\n",
    "    icon='check',# (FontAwesome names without the `fa-` prefix)\n",
    "    layout={'width': 'max-content'}, # If the items' names are long\n",
    ")\n",
    "\n",
    "\n",
    "def model1_preds(_):\n",
    "    if news_headline_input.value == \"\":\n",
    "        result = ui_display(message=\"Please pass in news headlines for a specific ticker in the box above to get a prediction\")\n",
    "        model_1_box.children = [model_1, result] \n",
    "    else:\n",
    "        headline = news_headline_input.value\n",
    "        headline = '<s>' + headline + '<\\s' \n",
    "        # print(sample)\n",
    "        sample = encode2bytes(headline)\n",
    "        # print(sample)\n",
    "        # sample = tf.ragged.constant(sample)\n",
    "        sample = tf.squeeze(sample, )\n",
    "        sample = tf.expand_dims(sample, 0).numpy()\n",
    "        # print(sample)\n",
    "        predict = daily_V1(sample).numpy()[0][0]\n",
    "        app_type = ui_display(title = \"Model 1 Predictions (127 Bits Embeddings)\")\n",
    "        result = ui_display(subtitle = \"Probability from Headlines: %f\" % predict, message='This is the probability to buy at market close today and sell market close tomorrow')        \n",
    "        model_1_box.children = [model_1, app_type, result] \n",
    "\n",
    "def model2_preds(_):\n",
    "    if news_headline_input.value == \"\":\n",
    "        result = ui_display(message=\"Please pass in news headlines for a specific ticker in the box above to get a prediction\")\n",
    "        model_2_box.children = [model_2, result] \n",
    "    else:        \n",
    "        headline = news_headline_input.value\n",
    "        headline = '<s>' + headline + '<\\s'\n",
    "        sample_2 = headline.encode('utf-8')\n",
    "\n",
    "        tokenizer = tokenize() \n",
    "        sample_2 = tokenizer.texts_to_sequences([sample_2])\n",
    "\n",
    "        predict_v2 = daily_V2.predict(sample_2)[0,0]\n",
    "        app_type = ui_display(title = \"Model 2 Predictions (256 Bits Embeddings)\")\n",
    "        result = ui_display(subtitle = \"Probability from Headlines: %f\" % predict_v2, message='This is the probability to buy at market close today and sell market close tomorrow')        \n",
    "        model_2_box.children = [model_2, app_type, result] \n",
    "        \n",
    "def ui_display(df = None, \n",
    "               title = None,\n",
    "               subtitle = None,\n",
    "               message = None,\n",
    "               clear = False):\n",
    "    out = widgets.Output()\n",
    "    with out:\n",
    "        if title != None:\n",
    "            display(HTML(\"<h1> %s </h1>\"%title))\n",
    "        if subtitle != None:\n",
    "             display(HTML(\"<h2> %s </h2>\"%subtitle))\n",
    "        if message != None:\n",
    "            # clear_output()\n",
    "            display(message)    \n",
    "            # display(message)\n",
    "        if isinstance(df, pd.DataFrame):\n",
    "            display(df)\n",
    "    return out"
   ]
  },
  {
   "cell_type": "code",
   "execution_count": 37,
   "id": "f3378b97-074a-47ab-b433-4acae51be9cf",
   "metadata": {
    "tags": []
   },
   "outputs": [
    {
     "data": {
      "application/vnd.jupyter.widget-view+json": {
       "model_id": "4a7725e195484711bb0567a3af096d4f",
       "version_major": 2,
       "version_minor": 0
      },
      "text/plain": [
       "VBox(children=(Output(), Output(), HBox(box_style='success', children=(Textarea(value='', description='New Hea…"
      ]
     },
     "execution_count": 37,
     "metadata": {},
     "output_type": "execute_result"
    }
   ],
   "source": [
    "title = ui_display(title= \"Event Driven Trading (Byte Level Language Modelling) - UCBerkeley Demo\")\n",
    "subtle = ui_display(message= \"News headlines from OverNight concatenated for next day Buy/Sell Probability/Signal\")\n",
    "\n",
    "\n",
    "status_label = widgets.Label()\n",
    "status_label.layout.width = '1000px'\n",
    "\n",
    "model_1_box = widgets.VBox(children=[model_1, status_label]) #widgets.VBox([sql_run,widgets.HBox([denygrp, type_formula], box_style = \"success\")])\n",
    "model_2_box = widgets.VBox(children=[model_2, status_label])\n",
    "\n",
    "\n",
    "\n",
    "intiate_box = widgets.VBox([title, subtle, widgets.HBox([news_headline_input], box_style = \"success\"), widgets.HBox([model_1_box, model_2_box])])\n",
    "model_1.on_click(model1_preds)\n",
    "model_2.on_click(model2_preds)\n",
    "\n",
    "\n",
    "# button_run2.on_click(button_run_on_click2)\n",
    "# display(widgets.HBox([main_box, main_box2]))\n",
    "intiate_box"
   ]
  },
  {
   "cell_type": "code",
   "execution_count": null,
   "id": "668ae068-d639-4373-a02a-64a18b05fd8d",
   "metadata": {
    "tags": []
   },
   "outputs": [],
   "source": []
  },
  {
   "cell_type": "code",
   "execution_count": null,
   "id": "0f0ae35b-5fc7-457b-a350-c0832a3c5290",
   "metadata": {},
   "outputs": [],
   "source": []
  }
 ],
 "metadata": {
  "kernelspec": {
   "display_name": "Python 3 (ipykernel)",
   "language": "python",
   "name": "python3"
  },
  "language_info": {
   "codemirror_mode": {
    "name": "ipython",
    "version": 3
   },
   "file_extension": ".py",
   "mimetype": "text/x-python",
   "name": "python",
   "nbconvert_exporter": "python",
   "pygments_lexer": "ipython3",
   "version": "3.7.16"
  }
 },
 "nbformat": 4,
 "nbformat_minor": 5
}
