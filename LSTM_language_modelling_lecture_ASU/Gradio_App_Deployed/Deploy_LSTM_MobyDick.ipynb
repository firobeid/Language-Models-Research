{
 "cells": [
  {
   "cell_type": "code",
   "execution_count": 1,
   "id": "f8033283-8878-4764-8d92-61930aee8f59",
   "metadata": {},
   "outputs": [
    {
     "name": "stderr",
     "output_type": "stream",
     "text": [
      "C:\\Users\\feras.FIROMEGAPC\\miniconda3\\envs\\tf\\lib\\site-packages\\tqdm\\auto.py:21: TqdmWarning: IProgress not found. Please update jupyter and ipywidgets. See https://ipywidgets.readthedocs.io/en/stable/user_install.html\n",
      "  from .autonotebook import tqdm as notebook_tqdm\n"
     ]
    }
   ],
   "source": [
    "from tensorflow.keras.models import load_model\n",
    "from pickle import load\n",
    "import numpy as np\n",
    "import tensorflow as tf\n",
    "import gradio as gr\n"
   ]
  },
  {
   "cell_type": "code",
   "execution_count": 2,
   "id": "0ea421f6-ecba-4c59-a719-6697b44c623b",
   "metadata": {},
   "outputs": [],
   "source": [
    "# Set the model to the saved trained 300 epoch model. \n",
    "model = load_model('four_chapters_moby_dick_model_300_FIRAS.keras')\n",
    "# Set the tokenizer to the trained tokenizer from the model. \n",
    "tokenizer = load(open('four_chapters_moby_dick_tokenizer_300_FIRAS', 'rb'))"
   ]
  },
  {
   "cell_type": "code",
   "execution_count": 3,
   "id": "a9edc737-95af-4f9c-82cc-e89bac7e0176",
   "metadata": {},
   "outputs": [],
   "source": [
    "def preprocess(texts):\n",
    "    X = np.array(tokenizer.texts_to_sequences([texts])) -1\n",
    "    # pad_encoded = pad_sequences(X, maxlen=seq_len, truncating='pre')\n",
    "    return X\n",
    "  \n",
    "def next_word(text, num_gen_words=0, \n",
    "              randome_sampling = False,\n",
    "              temperature=1):  \n",
    "    '''\n",
    "    Randome_Sampling : Using a categorical distribution to predict the character returned by the model\n",
    "    Low temperatures results in more predictable text.\n",
    "    Higher temperatures results in more surprising text.\n",
    "    Experiment to find the best setting.\n",
    "    '''\n",
    "    input_text = text  \n",
    "    output_text = []  \n",
    "      \n",
    "    for i in range(num_gen_words):  \n",
    "        X_new = preprocess(input_text)  \n",
    "        \n",
    "        if randome_sampling:\n",
    "            y_proba = model.predict(X_new, verbose = 0)[0, -1:, :]#first sentence, last token\n",
    "            rescaled_logits = tf.math.log(y_proba) / temperature\n",
    "            pred_word_ind = tf.random.categorical(rescaled_logits, num_samples=1) + 1\n",
    "            pred_word = tokenizer.sequences_to_texts(pred_word_ind.numpy())[0]\n",
    "        else:\n",
    "            y_proba = model.predict(X_new, verbose=0)[0]  #first sentence\n",
    "            pred_word_ind = np.argmax(y_proba, axis = -1) +1 \n",
    "            pred_word = tokenizer.index_word[pred_word_ind[-1]]   \n",
    "             \n",
    "        \n",
    "        input_text += ' ' + pred_word  \n",
    "        output_text.append(pred_word)  \n",
    "      \n",
    "    return ' '.join(output_text)  \n",
    "  \n",
    "def generate_text(text, num_gen_words=25, temperature=1, randome_sampling=False):  \n",
    "    return next_word(text, num_gen_words, randome_sampling, temperature)  \n",
    " "
   ]
  },
  {
   "cell_type": "code",
   "execution_count": 4,
   "id": "3a74e453-c910-48f4-9b4b-9cb7423f6aa8",
   "metadata": {},
   "outputs": [],
   "source": [
    "text = 'Hello my name is Firas'"
   ]
  },
  {
   "cell_type": "code",
   "execution_count": 5,
   "id": "c369e015-dc03-4703-ac14-fb62eb7b6486",
   "metadata": {},
   "outputs": [
    {
     "data": {
      "text/plain": [
       "'when i struck my foot against because from remorseless service'"
      ]
     },
     "execution_count": 5,
     "metadata": {},
     "output_type": "execute_result"
    }
   ],
   "source": [
    "generate_text(text, num_gen_words = 10, temperature=2, randome_sampling = False)"
   ]
  },
  {
   "cell_type": "code",
   "execution_count": 6,
   "id": "047b8830-b8b6-4526-959a-7b9cb778af66",
   "metadata": {},
   "outputs": [
    {
     "name": "stdout",
     "output_type": "stream",
     "text": [
      "Running on local URL:  http://127.0.0.1:7873\n",
      "\n",
      "To create a public link, set `share=True` in `launch()`.\n"
     ]
    },
    {
     "data": {
      "text/html": [
       "<div><iframe src=\"http://127.0.0.1:7873/\" width=\"100%\" height=\"500\" allow=\"autoplay; camera; microphone; clipboard-read; clipboard-write;\" frameborder=\"0\" allowfullscreen></iframe></div>"
      ],
      "text/plain": [
       "<IPython.core.display.HTML object>"
      ]
     },
     "metadata": {},
     "output_type": "display_data"
    },
    {
     "data": {
      "text/plain": []
     },
     "execution_count": 6,
     "metadata": {},
     "output_type": "execute_result"
    }
   ],
   "source": [
    "# Create an instance of the Gradio Interface application function with the appropriate parameters. \n",
    "max_output = gr.Number(value=150)\n",
    "app = gr.Interface(fn=generate_text, \n",
    "                   inputs=[\"text\", \n",
    "                           gr.Slider(1, 50, value=1, step=1, label=\"Minimum number of Shakespearean words to generate\", info=\"Choose between 1 and 50\"),\n",
    "                           gr.Slider(0.1, 5, value=0.1, step=0.1, label=\"Temprature\", info=\"Choose between 0.1 and 5\"),\n",
    "                          \"checkbox\"],\n",
    "                   outputs=\"text\")\n",
    "# Launch the app\n",
    "app.launch()"
   ]
  },
  {
   "cell_type": "code",
   "execution_count": null,
   "id": "cf7a951c-ca35-4948-aa33-f978217fa686",
   "metadata": {},
   "outputs": [],
   "source": []
  },
  {
   "cell_type": "code",
   "execution_count": null,
   "id": "cba49b99-961a-436b-95ae-6c8a5a6b281f",
   "metadata": {},
   "outputs": [],
   "source": []
  }
 ],
 "metadata": {
  "kernelspec": {
   "display_name": "Python 3 (ipykernel)",
   "language": "python",
   "name": "python3"
  },
  "language_info": {
   "codemirror_mode": {
    "name": "ipython",
    "version": 3
   },
   "file_extension": ".py",
   "mimetype": "text/x-python",
   "name": "python",
   "nbconvert_exporter": "python",
   "pygments_lexer": "ipython3",
   "version": "3.9.19"
  }
 },
 "nbformat": 4,
 "nbformat_minor": 5
}
